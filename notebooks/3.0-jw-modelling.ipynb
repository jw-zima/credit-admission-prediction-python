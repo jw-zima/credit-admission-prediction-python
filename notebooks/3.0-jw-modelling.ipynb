{
 "cells": [
  {
   "cell_type": "markdown",
   "id": "1c27b540-fdbb-4722-acab-6bd8c0ea2b7c",
   "metadata": {},
   "source": [
    "# Conclusions\n",
    "to improve results the following experiments shouled be run and tracked:\n",
    "* find more variabes that describe customers \n",
    "* check various sampling strategies\n",
    "* determine what level of precision and recall are acceptable"
   ]
  },
  {
   "cell_type": "code",
   "execution_count": 1,
   "id": "b13fd7d6-9fdb-45da-a0aa-81481d87d72e",
   "metadata": {},
   "outputs": [],
   "source": [
    "import pandas as pd\n",
    "import numpy as np\n",
    "from plotnine import *\n",
    "import seaborn as sns\n",
    "    \n",
    "from sklearn.decomposition import PCA\n",
    "\n",
    "from sklearn.model_selection import train_test_split\n",
    "from imblearn.under_sampling import RandomUnderSampler, TomekLinks\n",
    "from imblearn.over_sampling import SMOTENC, RandomOverSampler\n",
    "\n",
    "from sklearn.preprocessing import OneHotEncoder, StandardScaler, LabelEncoder\n",
    "\n",
    "from sklearn.linear_model import LogisticRegression\n",
    "from sklearn.neighbors import KNeighborsClassifier\n",
    "from sklearn.svm import SVC\n",
    "from sklearn.tree import DecisionTreeClassifier\n",
    "from sklearn.ensemble import RandomForestClassifier\n",
    "from xgboost import XGBClassifier\n",
    "import lightgbm as lgb\n",
    "\n",
    "from hyperopt import hp, fmin, tpe, Trials, STATUS_OK\n",
    "\n",
    "from sklearn.model_selection import cross_val_score\n",
    "from sklearn.metrics import f1_score, precision_score, recall_score, confusion_matrix, average_precision_score\n",
    "from sklearn.metrics import PrecisionRecallDisplay, RocCurveDisplay, roc_curve, precision_recall_curve\n",
    "\n",
    "pd.options.display.max_rows = 40\n",
    "pd.options.display.max_columns = 999999\n",
    "seed = 12345"
   ]
  },
  {
   "cell_type": "code",
   "execution_count": 2,
   "id": "383be80e-e42e-469c-a5e7-8fe4ff580445",
   "metadata": {},
   "outputs": [],
   "source": [
    "import os\n",
    "os.chdir(\"..\")"
   ]
  },
  {
   "cell_type": "markdown",
   "id": "fce91079-5afa-4f26-9bf5-c24b77de5fbf",
   "metadata": {},
   "source": [
    "# UDFs"
   ]
  },
  {
   "cell_type": "code",
   "execution_count": 3,
   "id": "0cb22761-b246-4f52-af7b-d8dd0c6a4e8c",
   "metadata": {},
   "outputs": [],
   "source": [
    "def compute_counts_and_share(df, var):\n",
    "    return df[var].value_counts().to_frame('count').join(\n",
    "    df[var].value_counts(normalize = True).to_frame('share'))\n",
    "\n",
    "def convert_object_cols_to_category(df):\n",
    "    for col in df.columns:\n",
    "        col_type = df[col].dtype\n",
    "        if col_type == 'object' or col_type.name == 'category':\n",
    "            df[col] = df[col].astype('category')\n",
    "    return df\n",
    "\n",
    "def get_summary(df, threshold):\n",
    "    return df.loc[abs(df.thresholds - threshold) == min(abs(df.thresholds - threshold)) ,:]\n",
    "\n",
    "def reclassify_by_treshold(predictions_proba, treshold):\n",
    "    return predictions_proba[:,1] > treshold\n",
    "\n",
    "def compute_f1(precision, recall):\n",
    "    return (2 * precision * recall) / (precision + recall)\n",
    "\n",
    "def summarise_metrices(y_test, y_hat):\n",
    "    print(\"average_precision test: \" + str(round(average_precision_score(y_test, y_hat),2)))\n",
    "    print(\"f1 test: \" + str(round(f1_score(y_test, y_hat),2)))\n",
    "    print(\"precision test: \" + str(round(precision_score(y_test, y_hat),2)))\n",
    "    print(\"recall test: \" + str(round(recall_score(y_test, y_hat),2)))\n",
    "    \n",
    "def format_confusion_matrix(y_test, y_hat):\n",
    "    cm = confusion_matrix(y_test, y_hat)\n",
    "    cm_matrix = pd.DataFrame(data=cm, \n",
    "                             columns=['Actual Positive:1', 'Actual Negative:0'], \n",
    "                             index=['Predict Positive:1', 'Predict Negative:0'])\n",
    "\n",
    "    return sns.heatmap(cm_matrix, annot=True, fmt='d', cmap='YlGnBu')\n",
    "\n",
    "def get_rf_feature_imp(rf_model):\n",
    "    rf_feature_importance = pd.DataFrame({'variable' : rf_model.feature_names_in_.tolist(),\n",
    "                                          'importance' : rf_model.feature_importances_.tolist()})\n",
    "    rf_feature_importance = rf_feature_importance.sort_values('importance', ascending = False)\n",
    "    \n",
    "    print(ggplot(data = rf_feature_importance)\n",
    "           + geom_col(aes(x = 'variable', y = 'importance'))\n",
    "           + theme_light()\n",
    "           + xlab(\"variable\")\n",
    "           + ylab(\"importance\")\n",
    "           + scale_x_discrete(limits=rf_feature_importance.variable)\n",
    "           + theme(axis_text_x = element_text(angle=90))\n",
    "          )\n",
    "    \n",
    "    \n",
    "def extract_and_plot_hyperopt_trials(trials):\n",
    "    results = pd.DataFrame()\n",
    "    for val in trials.vals:\n",
    "        results[val] = trials.vals[val]\n",
    "    results['loss'] = [x['loss'] for x in trials.results]\n",
    "\n",
    "    for col in results.columns[:-1]:\n",
    "        print(ggplot(aes(x = results[col], y = results['loss']))\n",
    "              + geom_point()\n",
    "              + theme_light())"
   ]
  },
  {
   "cell_type": "markdown",
   "id": "b032527a-2e98-4611-9557-7b342f28f5ed",
   "metadata": {},
   "source": [
    "# Data load"
   ]
  },
  {
   "cell_type": "code",
   "execution_count": 4,
   "id": "333f7a5f-e299-49fb-b705-5d6a7e69ae77",
   "metadata": {},
   "outputs": [],
   "source": [
    "df_merged = pd.read_pickle('data/processed/df_application_record_classified_post_feature_eng.pickle')"
   ]
  },
  {
   "cell_type": "code",
   "execution_count": 5,
   "id": "dd7d707b-4697-426d-9de3-9485f4549047",
   "metadata": {},
   "outputs": [
    {
     "data": {
      "text/html": [
       "<div>\n",
       "<style scoped>\n",
       "    .dataframe tbody tr th:only-of-type {\n",
       "        vertical-align: middle;\n",
       "    }\n",
       "\n",
       "    .dataframe tbody tr th {\n",
       "        vertical-align: top;\n",
       "    }\n",
       "\n",
       "    .dataframe thead th {\n",
       "        text-align: right;\n",
       "    }\n",
       "</style>\n",
       "<table border=\"1\" class=\"dataframe\">\n",
       "  <thead>\n",
       "    <tr style=\"text-align: right;\">\n",
       "      <th></th>\n",
       "      <th>code_gender</th>\n",
       "      <th>flag_own_car</th>\n",
       "      <th>flag_own_realty</th>\n",
       "      <th>cnt_children</th>\n",
       "      <th>amt_income_total</th>\n",
       "      <th>name_income_type</th>\n",
       "      <th>name_education_type</th>\n",
       "      <th>name_housing_type</th>\n",
       "      <th>occupation_type</th>\n",
       "      <th>cnt_fam_members</th>\n",
       "      <th>amt_income_per_person</th>\n",
       "      <th>age</th>\n",
       "      <th>job_tenure</th>\n",
       "      <th>flag_employed</th>\n",
       "      <th>single_adult</th>\n",
       "      <th>target</th>\n",
       "    </tr>\n",
       "    <tr>\n",
       "      <th>id</th>\n",
       "      <th></th>\n",
       "      <th></th>\n",
       "      <th></th>\n",
       "      <th></th>\n",
       "      <th></th>\n",
       "      <th></th>\n",
       "      <th></th>\n",
       "      <th></th>\n",
       "      <th></th>\n",
       "      <th></th>\n",
       "      <th></th>\n",
       "      <th></th>\n",
       "      <th></th>\n",
       "      <th></th>\n",
       "      <th></th>\n",
       "      <th></th>\n",
       "    </tr>\n",
       "  </thead>\n",
       "  <tbody>\n",
       "    <tr>\n",
       "      <th>5008804</th>\n",
       "      <td>1</td>\n",
       "      <td>1</td>\n",
       "      <td>1</td>\n",
       "      <td>0</td>\n",
       "      <td>427500.0</td>\n",
       "      <td>Working</td>\n",
       "      <td>Higher education</td>\n",
       "      <td>Rented apartment</td>\n",
       "      <td>Unknown</td>\n",
       "      <td>2</td>\n",
       "      <td>213750.0</td>\n",
       "      <td>32.890411</td>\n",
       "      <td>12.443836</td>\n",
       "      <td>1</td>\n",
       "      <td>0</td>\n",
       "      <td>0</td>\n",
       "    </tr>\n",
       "    <tr>\n",
       "      <th>5008805</th>\n",
       "      <td>1</td>\n",
       "      <td>1</td>\n",
       "      <td>1</td>\n",
       "      <td>0</td>\n",
       "      <td>427500.0</td>\n",
       "      <td>Working</td>\n",
       "      <td>Higher education</td>\n",
       "      <td>Rented apartment</td>\n",
       "      <td>Unknown</td>\n",
       "      <td>2</td>\n",
       "      <td>213750.0</td>\n",
       "      <td>32.890411</td>\n",
       "      <td>12.443836</td>\n",
       "      <td>1</td>\n",
       "      <td>0</td>\n",
       "      <td>0</td>\n",
       "    </tr>\n",
       "    <tr>\n",
       "      <th>5008806</th>\n",
       "      <td>1</td>\n",
       "      <td>1</td>\n",
       "      <td>1</td>\n",
       "      <td>0</td>\n",
       "      <td>112500.0</td>\n",
       "      <td>Working</td>\n",
       "      <td>Secondary / secondary special</td>\n",
       "      <td>House / apartment</td>\n",
       "      <td>Security staff</td>\n",
       "      <td>2</td>\n",
       "      <td>56250.0</td>\n",
       "      <td>58.832877</td>\n",
       "      <td>3.106849</td>\n",
       "      <td>1</td>\n",
       "      <td>0</td>\n",
       "      <td>0</td>\n",
       "    </tr>\n",
       "    <tr>\n",
       "      <th>5008810</th>\n",
       "      <td>0</td>\n",
       "      <td>0</td>\n",
       "      <td>1</td>\n",
       "      <td>0</td>\n",
       "      <td>270000.0</td>\n",
       "      <td>Commercial associate</td>\n",
       "      <td>Secondary / secondary special</td>\n",
       "      <td>House / apartment</td>\n",
       "      <td>Sales staff</td>\n",
       "      <td>1</td>\n",
       "      <td>270000.0</td>\n",
       "      <td>52.356164</td>\n",
       "      <td>8.358904</td>\n",
       "      <td>1</td>\n",
       "      <td>1</td>\n",
       "      <td>0</td>\n",
       "    </tr>\n",
       "    <tr>\n",
       "      <th>5008811</th>\n",
       "      <td>0</td>\n",
       "      <td>0</td>\n",
       "      <td>1</td>\n",
       "      <td>0</td>\n",
       "      <td>270000.0</td>\n",
       "      <td>Commercial associate</td>\n",
       "      <td>Secondary / secondary special</td>\n",
       "      <td>House / apartment</td>\n",
       "      <td>Sales staff</td>\n",
       "      <td>1</td>\n",
       "      <td>270000.0</td>\n",
       "      <td>52.356164</td>\n",
       "      <td>8.358904</td>\n",
       "      <td>1</td>\n",
       "      <td>1</td>\n",
       "      <td>0</td>\n",
       "    </tr>\n",
       "  </tbody>\n",
       "</table>\n",
       "</div>"
      ],
      "text/plain": [
       "         code_gender  flag_own_car  flag_own_realty  cnt_children  \\\n",
       "id                                                                  \n",
       "5008804            1             1                1             0   \n",
       "5008805            1             1                1             0   \n",
       "5008806            1             1                1             0   \n",
       "5008810            0             0                1             0   \n",
       "5008811            0             0                1             0   \n",
       "\n",
       "         amt_income_total      name_income_type  \\\n",
       "id                                                \n",
       "5008804          427500.0               Working   \n",
       "5008805          427500.0               Working   \n",
       "5008806          112500.0               Working   \n",
       "5008810          270000.0  Commercial associate   \n",
       "5008811          270000.0  Commercial associate   \n",
       "\n",
       "                   name_education_type  name_housing_type occupation_type  \\\n",
       "id                                                                          \n",
       "5008804               Higher education   Rented apartment         Unknown   \n",
       "5008805               Higher education   Rented apartment         Unknown   \n",
       "5008806  Secondary / secondary special  House / apartment  Security staff   \n",
       "5008810  Secondary / secondary special  House / apartment     Sales staff   \n",
       "5008811  Secondary / secondary special  House / apartment     Sales staff   \n",
       "\n",
       "         cnt_fam_members  amt_income_per_person        age  job_tenure  \\\n",
       "id                                                                       \n",
       "5008804                2               213750.0  32.890411   12.443836   \n",
       "5008805                2               213750.0  32.890411   12.443836   \n",
       "5008806                2                56250.0  58.832877    3.106849   \n",
       "5008810                1               270000.0  52.356164    8.358904   \n",
       "5008811                1               270000.0  52.356164    8.358904   \n",
       "\n",
       "         flag_employed  single_adult  target  \n",
       "id                                            \n",
       "5008804              1             0       0  \n",
       "5008805              1             0       0  \n",
       "5008806              1             0       0  \n",
       "5008810              1             1       0  \n",
       "5008811              1             1       0  "
      ]
     },
     "execution_count": 5,
     "metadata": {},
     "output_type": "execute_result"
    }
   ],
   "source": [
    "df_merged.head()"
   ]
  },
  {
   "cell_type": "code",
   "execution_count": 6,
   "id": "bf28dc67-9c70-473c-bc14-8a54eea064a6",
   "metadata": {},
   "outputs": [
    {
     "data": {
      "text/plain": [
       "(19996, 16)"
      ]
     },
     "execution_count": 6,
     "metadata": {},
     "output_type": "execute_result"
    }
   ],
   "source": [
    "df_merged.shape"
   ]
  },
  {
   "cell_type": "code",
   "execution_count": 7,
   "id": "050758b7-6802-449c-9932-62d9992842ef",
   "metadata": {},
   "outputs": [
    {
     "data": {
      "text/plain": [
       "code_gender              0\n",
       "flag_own_car             0\n",
       "flag_own_realty          0\n",
       "cnt_children             0\n",
       "amt_income_total         0\n",
       "name_income_type         0\n",
       "name_education_type      0\n",
       "name_housing_type        0\n",
       "occupation_type          0\n",
       "cnt_fam_members          0\n",
       "amt_income_per_person    0\n",
       "age                      0\n",
       "job_tenure               0\n",
       "flag_employed            0\n",
       "single_adult             0\n",
       "target                   0\n",
       "dtype: int64"
      ]
     },
     "execution_count": 7,
     "metadata": {},
     "output_type": "execute_result"
    }
   ],
   "source": [
    "df_merged.isnull().sum()"
   ]
  },
  {
   "cell_type": "markdown",
   "id": "ee44561c-c8ad-4890-a95a-055eb0cc9b43",
   "metadata": {},
   "source": [
    "compute_counts_and_share# Train test spli"
   ]
  },
  {
   "cell_type": "code",
   "execution_count": 8,
   "id": "00ecc81d-2fbc-423b-ba19-05dcab1fca2f",
   "metadata": {},
   "outputs": [
    {
     "data": {
      "text/html": [
       "<div>\n",
       "<style scoped>\n",
       "    .dataframe tbody tr th:only-of-type {\n",
       "        vertical-align: middle;\n",
       "    }\n",
       "\n",
       "    .dataframe tbody tr th {\n",
       "        vertical-align: top;\n",
       "    }\n",
       "\n",
       "    .dataframe thead th {\n",
       "        text-align: right;\n",
       "    }\n",
       "</style>\n",
       "<table border=\"1\" class=\"dataframe\">\n",
       "  <thead>\n",
       "    <tr style=\"text-align: right;\">\n",
       "      <th></th>\n",
       "      <th>count</th>\n",
       "      <th>share</th>\n",
       "    </tr>\n",
       "  </thead>\n",
       "  <tbody>\n",
       "    <tr>\n",
       "      <th>0</th>\n",
       "      <td>19687</td>\n",
       "      <td>0.984547</td>\n",
       "    </tr>\n",
       "    <tr>\n",
       "      <th>1</th>\n",
       "      <td>309</td>\n",
       "      <td>0.015453</td>\n",
       "    </tr>\n",
       "  </tbody>\n",
       "</table>\n",
       "</div>"
      ],
      "text/plain": [
       "   count     share\n",
       "0  19687  0.984547\n",
       "1    309  0.015453"
      ]
     },
     "execution_count": 8,
     "metadata": {},
     "output_type": "execute_result"
    }
   ],
   "source": [
    "compute_counts_and_share(df_merged, 'target')"
   ]
  },
  {
   "cell_type": "markdown",
   "id": "ebb8644e-fdc1-41a8-8d72-cd55bab67e21",
   "metadata": {},
   "source": [
    "# Data preprocessing"
   ]
  },
  {
   "cell_type": "code",
   "execution_count": 9,
   "id": "ab0639b4-7640-4559-b33f-ad402300cd18",
   "metadata": {},
   "outputs": [],
   "source": [
    "y = df_merged['target']\n",
    "X = df_merged.drop('target', axis = 1)"
   ]
  },
  {
   "cell_type": "code",
   "execution_count": 10,
   "id": "652593aa-c1d4-4ec4-805a-6841e8688782",
   "metadata": {},
   "outputs": [
    {
     "data": {
      "text/html": [
       "<div>\n",
       "<style scoped>\n",
       "    .dataframe tbody tr th:only-of-type {\n",
       "        vertical-align: middle;\n",
       "    }\n",
       "\n",
       "    .dataframe tbody tr th {\n",
       "        vertical-align: top;\n",
       "    }\n",
       "\n",
       "    .dataframe thead th {\n",
       "        text-align: right;\n",
       "    }\n",
       "</style>\n",
       "<table border=\"1\" class=\"dataframe\">\n",
       "  <thead>\n",
       "    <tr style=\"text-align: right;\">\n",
       "      <th></th>\n",
       "      <th>name_income_type</th>\n",
       "      <th>name_education_type</th>\n",
       "      <th>name_housing_type</th>\n",
       "      <th>occupation_type</th>\n",
       "    </tr>\n",
       "    <tr>\n",
       "      <th>id</th>\n",
       "      <th></th>\n",
       "      <th></th>\n",
       "      <th></th>\n",
       "      <th></th>\n",
       "    </tr>\n",
       "  </thead>\n",
       "  <tbody>\n",
       "    <tr>\n",
       "      <th>5008804</th>\n",
       "      <td>Working</td>\n",
       "      <td>Higher education</td>\n",
       "      <td>Rented apartment</td>\n",
       "      <td>Unknown</td>\n",
       "    </tr>\n",
       "    <tr>\n",
       "      <th>5008805</th>\n",
       "      <td>Working</td>\n",
       "      <td>Higher education</td>\n",
       "      <td>Rented apartment</td>\n",
       "      <td>Unknown</td>\n",
       "    </tr>\n",
       "    <tr>\n",
       "      <th>5008806</th>\n",
       "      <td>Working</td>\n",
       "      <td>Secondary / secondary special</td>\n",
       "      <td>House / apartment</td>\n",
       "      <td>Security staff</td>\n",
       "    </tr>\n",
       "    <tr>\n",
       "      <th>5008810</th>\n",
       "      <td>Commercial associate</td>\n",
       "      <td>Secondary / secondary special</td>\n",
       "      <td>House / apartment</td>\n",
       "      <td>Sales staff</td>\n",
       "    </tr>\n",
       "    <tr>\n",
       "      <th>5008811</th>\n",
       "      <td>Commercial associate</td>\n",
       "      <td>Secondary / secondary special</td>\n",
       "      <td>House / apartment</td>\n",
       "      <td>Sales staff</td>\n",
       "    </tr>\n",
       "    <tr>\n",
       "      <th>...</th>\n",
       "      <td>...</td>\n",
       "      <td>...</td>\n",
       "      <td>...</td>\n",
       "      <td>...</td>\n",
       "    </tr>\n",
       "    <tr>\n",
       "      <th>5149729</th>\n",
       "      <td>Working</td>\n",
       "      <td>Secondary / secondary special</td>\n",
       "      <td>House / apartment</td>\n",
       "      <td>Unknown</td>\n",
       "    </tr>\n",
       "    <tr>\n",
       "      <th>5149775</th>\n",
       "      <td>Working</td>\n",
       "      <td>Secondary / secondary special</td>\n",
       "      <td>House / apartment</td>\n",
       "      <td>Laborers</td>\n",
       "    </tr>\n",
       "    <tr>\n",
       "      <th>5149834</th>\n",
       "      <td>Commercial associate</td>\n",
       "      <td>Higher education</td>\n",
       "      <td>House / apartment</td>\n",
       "      <td>Medicine staff</td>\n",
       "    </tr>\n",
       "    <tr>\n",
       "      <th>5149838</th>\n",
       "      <td>Pensioner</td>\n",
       "      <td>Higher education</td>\n",
       "      <td>House / apartment</td>\n",
       "      <td>Medicine staff</td>\n",
       "    </tr>\n",
       "    <tr>\n",
       "      <th>5150337</th>\n",
       "      <td>Working</td>\n",
       "      <td>Secondary / secondary special</td>\n",
       "      <td>Rented apartment</td>\n",
       "      <td>Laborers</td>\n",
       "    </tr>\n",
       "  </tbody>\n",
       "</table>\n",
       "<p>19996 rows × 4 columns</p>\n",
       "</div>"
      ],
      "text/plain": [
       "             name_income_type            name_education_type  \\\n",
       "id                                                             \n",
       "5008804               Working               Higher education   \n",
       "5008805               Working               Higher education   \n",
       "5008806               Working  Secondary / secondary special   \n",
       "5008810  Commercial associate  Secondary / secondary special   \n",
       "5008811  Commercial associate  Secondary / secondary special   \n",
       "...                       ...                            ...   \n",
       "5149729               Working  Secondary / secondary special   \n",
       "5149775               Working  Secondary / secondary special   \n",
       "5149834  Commercial associate               Higher education   \n",
       "5149838             Pensioner               Higher education   \n",
       "5150337               Working  Secondary / secondary special   \n",
       "\n",
       "         name_housing_type occupation_type  \n",
       "id                                          \n",
       "5008804   Rented apartment         Unknown  \n",
       "5008805   Rented apartment         Unknown  \n",
       "5008806  House / apartment  Security staff  \n",
       "5008810  House / apartment     Sales staff  \n",
       "5008811  House / apartment     Sales staff  \n",
       "...                    ...             ...  \n",
       "5149729  House / apartment         Unknown  \n",
       "5149775  House / apartment        Laborers  \n",
       "5149834  House / apartment  Medicine staff  \n",
       "5149838  House / apartment  Medicine staff  \n",
       "5150337   Rented apartment        Laborers  \n",
       "\n",
       "[19996 rows x 4 columns]"
      ]
     },
     "execution_count": 10,
     "metadata": {},
     "output_type": "execute_result"
    }
   ],
   "source": [
    "X.loc[:, X.select_dtypes(\"object_\").columns]"
   ]
  },
  {
   "cell_type": "markdown",
   "id": "8aefdeb7-677a-4a31-a81d-d04bf582022f",
   "metadata": {},
   "source": [
    "## PCA "
   ]
  },
  {
   "cell_type": "code",
   "execution_count": 11,
   "id": "c6ace4ee-7b2b-4a92-924b-4dba1259e1ac",
   "metadata": {},
   "outputs": [
    {
     "data": {
      "text/html": [
       "<div>\n",
       "<style scoped>\n",
       "    .dataframe tbody tr th:only-of-type {\n",
       "        vertical-align: middle;\n",
       "    }\n",
       "\n",
       "    .dataframe tbody tr th {\n",
       "        vertical-align: top;\n",
       "    }\n",
       "\n",
       "    .dataframe thead th {\n",
       "        text-align: right;\n",
       "    }\n",
       "</style>\n",
       "<table border=\"1\" class=\"dataframe\">\n",
       "  <thead>\n",
       "    <tr style=\"text-align: right;\">\n",
       "      <th></th>\n",
       "      <th>code_gender</th>\n",
       "      <th>flag_own_car</th>\n",
       "      <th>flag_own_realty</th>\n",
       "      <th>cnt_children</th>\n",
       "      <th>amt_income_total</th>\n",
       "      <th>name_income_type</th>\n",
       "      <th>name_education_type</th>\n",
       "      <th>name_housing_type</th>\n",
       "      <th>occupation_type</th>\n",
       "      <th>cnt_fam_members</th>\n",
       "      <th>amt_income_per_person</th>\n",
       "      <th>age</th>\n",
       "      <th>job_tenure</th>\n",
       "      <th>flag_employed</th>\n",
       "      <th>single_adult</th>\n",
       "    </tr>\n",
       "    <tr>\n",
       "      <th>id</th>\n",
       "      <th></th>\n",
       "      <th></th>\n",
       "      <th></th>\n",
       "      <th></th>\n",
       "      <th></th>\n",
       "      <th></th>\n",
       "      <th></th>\n",
       "      <th></th>\n",
       "      <th></th>\n",
       "      <th></th>\n",
       "      <th></th>\n",
       "      <th></th>\n",
       "      <th></th>\n",
       "      <th></th>\n",
       "      <th></th>\n",
       "    </tr>\n",
       "  </thead>\n",
       "  <tbody>\n",
       "    <tr>\n",
       "      <th>5008804</th>\n",
       "      <td>1</td>\n",
       "      <td>1</td>\n",
       "      <td>1</td>\n",
       "      <td>0</td>\n",
       "      <td>427500.0</td>\n",
       "      <td>4</td>\n",
       "      <td>1</td>\n",
       "      <td>4</td>\n",
       "      <td>17</td>\n",
       "      <td>2</td>\n",
       "      <td>213750.0</td>\n",
       "      <td>32.890411</td>\n",
       "      <td>12.443836</td>\n",
       "      <td>1</td>\n",
       "      <td>0</td>\n",
       "    </tr>\n",
       "    <tr>\n",
       "      <th>5008805</th>\n",
       "      <td>1</td>\n",
       "      <td>1</td>\n",
       "      <td>1</td>\n",
       "      <td>0</td>\n",
       "      <td>427500.0</td>\n",
       "      <td>4</td>\n",
       "      <td>1</td>\n",
       "      <td>4</td>\n",
       "      <td>17</td>\n",
       "      <td>2</td>\n",
       "      <td>213750.0</td>\n",
       "      <td>32.890411</td>\n",
       "      <td>12.443836</td>\n",
       "      <td>1</td>\n",
       "      <td>0</td>\n",
       "    </tr>\n",
       "    <tr>\n",
       "      <th>5008806</th>\n",
       "      <td>1</td>\n",
       "      <td>1</td>\n",
       "      <td>1</td>\n",
       "      <td>0</td>\n",
       "      <td>112500.0</td>\n",
       "      <td>4</td>\n",
       "      <td>4</td>\n",
       "      <td>1</td>\n",
       "      <td>16</td>\n",
       "      <td>2</td>\n",
       "      <td>56250.0</td>\n",
       "      <td>58.832877</td>\n",
       "      <td>3.106849</td>\n",
       "      <td>1</td>\n",
       "      <td>0</td>\n",
       "    </tr>\n",
       "    <tr>\n",
       "      <th>5008810</th>\n",
       "      <td>0</td>\n",
       "      <td>0</td>\n",
       "      <td>1</td>\n",
       "      <td>0</td>\n",
       "      <td>270000.0</td>\n",
       "      <td>0</td>\n",
       "      <td>4</td>\n",
       "      <td>1</td>\n",
       "      <td>14</td>\n",
       "      <td>1</td>\n",
       "      <td>270000.0</td>\n",
       "      <td>52.356164</td>\n",
       "      <td>8.358904</td>\n",
       "      <td>1</td>\n",
       "      <td>1</td>\n",
       "    </tr>\n",
       "    <tr>\n",
       "      <th>5008811</th>\n",
       "      <td>0</td>\n",
       "      <td>0</td>\n",
       "      <td>1</td>\n",
       "      <td>0</td>\n",
       "      <td>270000.0</td>\n",
       "      <td>0</td>\n",
       "      <td>4</td>\n",
       "      <td>1</td>\n",
       "      <td>14</td>\n",
       "      <td>1</td>\n",
       "      <td>270000.0</td>\n",
       "      <td>52.356164</td>\n",
       "      <td>8.358904</td>\n",
       "      <td>1</td>\n",
       "      <td>1</td>\n",
       "    </tr>\n",
       "  </tbody>\n",
       "</table>\n",
       "</div>"
      ],
      "text/plain": [
       "         code_gender  flag_own_car  flag_own_realty  cnt_children  \\\n",
       "id                                                                  \n",
       "5008804            1             1                1             0   \n",
       "5008805            1             1                1             0   \n",
       "5008806            1             1                1             0   \n",
       "5008810            0             0                1             0   \n",
       "5008811            0             0                1             0   \n",
       "\n",
       "         amt_income_total  name_income_type  name_education_type  \\\n",
       "id                                                                 \n",
       "5008804          427500.0                 4                    1   \n",
       "5008805          427500.0                 4                    1   \n",
       "5008806          112500.0                 4                    4   \n",
       "5008810          270000.0                 0                    4   \n",
       "5008811          270000.0                 0                    4   \n",
       "\n",
       "         name_housing_type  occupation_type  cnt_fam_members  \\\n",
       "id                                                             \n",
       "5008804                  4               17                2   \n",
       "5008805                  4               17                2   \n",
       "5008806                  1               16                2   \n",
       "5008810                  1               14                1   \n",
       "5008811                  1               14                1   \n",
       "\n",
       "         amt_income_per_person        age  job_tenure  flag_employed  \\\n",
       "id                                                                     \n",
       "5008804               213750.0  32.890411   12.443836              1   \n",
       "5008805               213750.0  32.890411   12.443836              1   \n",
       "5008806                56250.0  58.832877    3.106849              1   \n",
       "5008810               270000.0  52.356164    8.358904              1   \n",
       "5008811               270000.0  52.356164    8.358904              1   \n",
       "\n",
       "         single_adult  \n",
       "id                     \n",
       "5008804             0  \n",
       "5008805             0  \n",
       "5008806             0  \n",
       "5008810             1  \n",
       "5008811             1  "
      ]
     },
     "execution_count": 11,
     "metadata": {},
     "output_type": "execute_result"
    }
   ],
   "source": [
    "X_pca = X.copy()\n",
    "cat_features = X.select_dtypes(\"object_\").columns\n",
    "\n",
    "lbl_encode = LabelEncoder()\n",
    "for i in cat_features:\n",
    "    X_pca[i] = X_pca[[i]].apply(lbl_encode.fit_transform)\n",
    "X_pca.loc[:, cat_features].head()\n",
    "X_pca.head()"
   ]
  },
  {
   "cell_type": "code",
   "execution_count": 12,
   "id": "d975bbdd-18a6-469c-a210-989da302ef90",
   "metadata": {},
   "outputs": [],
   "source": [
    "scaler = StandardScaler()\n",
    "cols_to_scale = ['cnt_children', 'amt_income_total', 'cnt_fam_members',\n",
    "                 'amt_income_per_person', 'age', 'job_tenure']\n",
    "scaler = scaler.fit(X_pca.loc[:,cols_to_scale])\n",
    "\n",
    "X_pca.loc[:,cols_to_scale] = scaler.transform(X_pca.loc[:,cols_to_scale])"
   ]
  },
  {
   "cell_type": "code",
   "execution_count": 13,
   "id": "2b9bee5d-659f-45a4-934b-417b99c5b56e",
   "metadata": {},
   "outputs": [],
   "source": [
    "pca = PCA()\n",
    "X_components = pca.fit_transform(X_pca)\n",
    "X_components = X_components[:, 0:3]\n",
    "\n",
    "# # Convert to dataframe\n",
    "component_names = [f\"PC{i+1}\" for i in range(X_components.shape[1])]\n",
    "component_names\n",
    "X_components = pd.DataFrame(X_components, columns=component_names)\n",
    "X_components\n",
    "X = pd.concat([X, X_components.set_index(X.index)], axis=1)"
   ]
  },
  {
   "cell_type": "markdown",
   "id": "0770af83-a13e-4525-a204-3191182ff5e8",
   "metadata": {},
   "source": [
    "## Data split"
   ]
  },
  {
   "cell_type": "code",
   "execution_count": 14,
   "id": "e32797c3-4040-4698-9717-b1cb2e6d3369",
   "metadata": {},
   "outputs": [],
   "source": [
    "X_train, X_test, y_train, y_test = train_test_split(X, y,\n",
    "                                                    stratify=y, \n",
    "                                                    test_size=0.2,\n",
    "                                                    random_state = 123)"
   ]
  },
  {
   "cell_type": "markdown",
   "id": "8c754ab4-789a-4378-a4e3-cb57efa9fa0d",
   "metadata": {},
   "source": [
    "## Scaling"
   ]
  },
  {
   "cell_type": "code",
   "execution_count": 15,
   "id": "9dbc47ee-edf7-4930-a3dc-9a401bc2947d",
   "metadata": {},
   "outputs": [
    {
     "name": "stdout",
     "output_type": "stream",
     "text": [
      "<class 'pandas.core.frame.DataFrame'>\n",
      "Int64Index: 15996 entries, 5023331 to 5135631\n",
      "Data columns (total 18 columns):\n",
      " #   Column                 Non-Null Count  Dtype  \n",
      "---  ------                 --------------  -----  \n",
      " 0   code_gender            15996 non-null  int32  \n",
      " 1   flag_own_car           15996 non-null  int32  \n",
      " 2   flag_own_realty        15996 non-null  int32  \n",
      " 3   cnt_children           15996 non-null  int32  \n",
      " 4   amt_income_total       15996 non-null  float64\n",
      " 5   name_income_type       15996 non-null  object \n",
      " 6   name_education_type    15996 non-null  object \n",
      " 7   name_housing_type      15996 non-null  object \n",
      " 8   occupation_type        15996 non-null  object \n",
      " 9   cnt_fam_members        15996 non-null  int32  \n",
      " 10  amt_income_per_person  15996 non-null  float64\n",
      " 11  age                    15996 non-null  float64\n",
      " 12  job_tenure             15996 non-null  float64\n",
      " 13  flag_employed          15996 non-null  int32  \n",
      " 14  single_adult           15996 non-null  int32  \n",
      " 15  PC1                    15996 non-null  float64\n",
      " 16  PC2                    15996 non-null  float64\n",
      " 17  PC3                    15996 non-null  float64\n",
      "dtypes: float64(7), int32(7), object(4)\n",
      "memory usage: 1.9+ MB\n"
     ]
    }
   ],
   "source": [
    "X_train.info()"
   ]
  },
  {
   "cell_type": "code",
   "execution_count": 16,
   "id": "cce7217a-1547-48de-abf4-2de67bb752f6",
   "metadata": {},
   "outputs": [
    {
     "data": {
      "text/html": [
       "<div>\n",
       "<style scoped>\n",
       "    .dataframe tbody tr th:only-of-type {\n",
       "        vertical-align: middle;\n",
       "    }\n",
       "\n",
       "    .dataframe tbody tr th {\n",
       "        vertical-align: top;\n",
       "    }\n",
       "\n",
       "    .dataframe thead th {\n",
       "        text-align: right;\n",
       "    }\n",
       "</style>\n",
       "<table border=\"1\" class=\"dataframe\">\n",
       "  <thead>\n",
       "    <tr style=\"text-align: right;\">\n",
       "      <th></th>\n",
       "      <th>code_gender</th>\n",
       "      <th>flag_own_car</th>\n",
       "      <th>flag_own_realty</th>\n",
       "      <th>cnt_children</th>\n",
       "      <th>amt_income_total</th>\n",
       "      <th>cnt_fam_members</th>\n",
       "      <th>amt_income_per_person</th>\n",
       "      <th>age</th>\n",
       "      <th>job_tenure</th>\n",
       "      <th>flag_employed</th>\n",
       "      <th>single_adult</th>\n",
       "      <th>PC1</th>\n",
       "      <th>PC2</th>\n",
       "      <th>PC3</th>\n",
       "    </tr>\n",
       "  </thead>\n",
       "  <tbody>\n",
       "    <tr>\n",
       "      <th>count</th>\n",
       "      <td>15996.000000</td>\n",
       "      <td>15996.000000</td>\n",
       "      <td>15996.000000</td>\n",
       "      <td>15996.000000</td>\n",
       "      <td>1.599600e+04</td>\n",
       "      <td>15996.00000</td>\n",
       "      <td>15996.000000</td>\n",
       "      <td>15996.000000</td>\n",
       "      <td>15996.000000</td>\n",
       "      <td>15996.000000</td>\n",
       "      <td>15996.000000</td>\n",
       "      <td>15996.000000</td>\n",
       "      <td>15996.000000</td>\n",
       "      <td>15996.000000</td>\n",
       "    </tr>\n",
       "    <tr>\n",
       "      <th>mean</th>\n",
       "      <td>0.335021</td>\n",
       "      <td>0.388097</td>\n",
       "      <td>0.659227</td>\n",
       "      <td>0.432796</td>\n",
       "      <td>1.876312e+05</td>\n",
       "      <td>2.21049</td>\n",
       "      <td>99992.469870</td>\n",
       "      <td>44.137656</td>\n",
       "      <td>6.196185</td>\n",
       "      <td>0.837709</td>\n",
       "      <td>0.222993</td>\n",
       "      <td>0.001580</td>\n",
       "      <td>0.007490</td>\n",
       "      <td>0.000492</td>\n",
       "    </tr>\n",
       "    <tr>\n",
       "      <th>std</th>\n",
       "      <td>0.472013</td>\n",
       "      <td>0.487332</td>\n",
       "      <td>0.473984</td>\n",
       "      <td>0.736354</td>\n",
       "      <td>1.017679e+05</td>\n",
       "      <td>0.90327</td>\n",
       "      <td>71653.033018</td>\n",
       "      <td>11.292522</td>\n",
       "      <td>6.848725</td>\n",
       "      <td>0.368729</td>\n",
       "      <td>0.416267</td>\n",
       "      <td>5.652600</td>\n",
       "      <td>1.764610</td>\n",
       "      <td>1.495467</td>\n",
       "    </tr>\n",
       "    <tr>\n",
       "      <th>min</th>\n",
       "      <td>0.000000</td>\n",
       "      <td>0.000000</td>\n",
       "      <td>0.000000</td>\n",
       "      <td>0.000000</td>\n",
       "      <td>2.700000e+04</td>\n",
       "      <td>1.00000</td>\n",
       "      <td>9000.000000</td>\n",
       "      <td>21.252055</td>\n",
       "      <td>-1.000000</td>\n",
       "      <td>0.000000</td>\n",
       "      <td>0.000000</td>\n",
       "      <td>-7.687200</td>\n",
       "      <td>-6.307790</td>\n",
       "      <td>-7.522878</td>\n",
       "    </tr>\n",
       "    <tr>\n",
       "      <th>25%</th>\n",
       "      <td>0.000000</td>\n",
       "      <td>0.000000</td>\n",
       "      <td>0.000000</td>\n",
       "      <td>0.000000</td>\n",
       "      <td>1.215000e+05</td>\n",
       "      <td>2.00000</td>\n",
       "      <td>56250.000000</td>\n",
       "      <td>34.602740</td>\n",
       "      <td>1.200000</td>\n",
       "      <td>1.000000</td>\n",
       "      <td>0.000000</td>\n",
       "      <td>-6.314600</td>\n",
       "      <td>-1.401220</td>\n",
       "      <td>-1.003496</td>\n",
       "    </tr>\n",
       "    <tr>\n",
       "      <th>50%</th>\n",
       "      <td>0.000000</td>\n",
       "      <td>0.000000</td>\n",
       "      <td>1.000000</td>\n",
       "      <td>0.000000</td>\n",
       "      <td>1.575000e+05</td>\n",
       "      <td>2.00000</td>\n",
       "      <td>78750.000000</td>\n",
       "      <td>43.139726</td>\n",
       "      <td>4.597260</td>\n",
       "      <td>1.000000</td>\n",
       "      <td>0.000000</td>\n",
       "      <td>0.544931</td>\n",
       "      <td>0.288792</td>\n",
       "      <td>-0.102796</td>\n",
       "    </tr>\n",
       "    <tr>\n",
       "      <th>75%</th>\n",
       "      <td>1.000000</td>\n",
       "      <td>1.000000</td>\n",
       "      <td>1.000000</td>\n",
       "      <td>1.000000</td>\n",
       "      <td>2.250000e+05</td>\n",
       "      <td>3.00000</td>\n",
       "      <td>123750.000000</td>\n",
       "      <td>53.375342</td>\n",
       "      <td>8.934932</td>\n",
       "      <td>1.000000</td>\n",
       "      <td>0.000000</td>\n",
       "      <td>4.564596</td>\n",
       "      <td>1.520291</td>\n",
       "      <td>0.785698</td>\n",
       "    </tr>\n",
       "    <tr>\n",
       "      <th>max</th>\n",
       "      <td>1.000000</td>\n",
       "      <td>1.000000</td>\n",
       "      <td>1.000000</td>\n",
       "      <td>14.000000</td>\n",
       "      <td>1.575000e+06</td>\n",
       "      <td>15.00000</td>\n",
       "      <td>900000.000000</td>\n",
       "      <td>68.909589</td>\n",
       "      <td>42.906849</td>\n",
       "      <td>1.000000</td>\n",
       "      <td>1.000000</td>\n",
       "      <td>10.831413</td>\n",
       "      <td>7.733730</td>\n",
       "      <td>16.786272</td>\n",
       "    </tr>\n",
       "  </tbody>\n",
       "</table>\n",
       "</div>"
      ],
      "text/plain": [
       "        code_gender  flag_own_car  flag_own_realty  cnt_children  \\\n",
       "count  15996.000000  15996.000000     15996.000000  15996.000000   \n",
       "mean       0.335021      0.388097         0.659227      0.432796   \n",
       "std        0.472013      0.487332         0.473984      0.736354   \n",
       "min        0.000000      0.000000         0.000000      0.000000   \n",
       "25%        0.000000      0.000000         0.000000      0.000000   \n",
       "50%        0.000000      0.000000         1.000000      0.000000   \n",
       "75%        1.000000      1.000000         1.000000      1.000000   \n",
       "max        1.000000      1.000000         1.000000     14.000000   \n",
       "\n",
       "       amt_income_total  cnt_fam_members  amt_income_per_person           age  \\\n",
       "count      1.599600e+04      15996.00000           15996.000000  15996.000000   \n",
       "mean       1.876312e+05          2.21049           99992.469870     44.137656   \n",
       "std        1.017679e+05          0.90327           71653.033018     11.292522   \n",
       "min        2.700000e+04          1.00000            9000.000000     21.252055   \n",
       "25%        1.215000e+05          2.00000           56250.000000     34.602740   \n",
       "50%        1.575000e+05          2.00000           78750.000000     43.139726   \n",
       "75%        2.250000e+05          3.00000          123750.000000     53.375342   \n",
       "max        1.575000e+06         15.00000          900000.000000     68.909589   \n",
       "\n",
       "         job_tenure  flag_employed  single_adult           PC1           PC2  \\\n",
       "count  15996.000000   15996.000000  15996.000000  15996.000000  15996.000000   \n",
       "mean       6.196185       0.837709      0.222993      0.001580      0.007490   \n",
       "std        6.848725       0.368729      0.416267      5.652600      1.764610   \n",
       "min       -1.000000       0.000000      0.000000     -7.687200     -6.307790   \n",
       "25%        1.200000       1.000000      0.000000     -6.314600     -1.401220   \n",
       "50%        4.597260       1.000000      0.000000      0.544931      0.288792   \n",
       "75%        8.934932       1.000000      0.000000      4.564596      1.520291   \n",
       "max       42.906849       1.000000      1.000000     10.831413      7.733730   \n",
       "\n",
       "                PC3  \n",
       "count  15996.000000  \n",
       "mean       0.000492  \n",
       "std        1.495467  \n",
       "min       -7.522878  \n",
       "25%       -1.003496  \n",
       "50%       -0.102796  \n",
       "75%        0.785698  \n",
       "max       16.786272  "
      ]
     },
     "execution_count": 16,
     "metadata": {},
     "output_type": "execute_result"
    }
   ],
   "source": [
    "X_train.describe()"
   ]
  },
  {
   "cell_type": "code",
   "execution_count": 17,
   "id": "5164b334-c986-47bd-a358-ebf3b3b352a8",
   "metadata": {},
   "outputs": [],
   "source": [
    "scaler = StandardScaler()\n",
    "cols_to_scale = [ 'cnt_children', 'amt_income_total', 'cnt_fam_members',\n",
    "                 'amt_income_per_person', 'age', 'job_tenure',\n",
    "                 'PC1', 'PC2', 'PC3']\n",
    "scaler = scaler.fit(X_train.loc[:,cols_to_scale])\n",
    "\n",
    "X_train.loc[:,cols_to_scale] = scaler.transform(X_train.loc[:,cols_to_scale])\n",
    "X_test.loc[:,cols_to_scale] = scaler.transform(X_test.loc[:,cols_to_scale])"
   ]
  },
  {
   "cell_type": "markdown",
   "id": "04197b83-638c-48d6-8a22-99d5a26c0d41",
   "metadata": {},
   "source": [
    "## Sampling"
   ]
  },
  {
   "cell_type": "code",
   "execution_count": 18,
   "id": "677bd0e5-1937-41be-9d31-03f7fa8b9b72",
   "metadata": {},
   "outputs": [
    {
     "data": {
      "text/html": [
       "<div>\n",
       "<style scoped>\n",
       "    .dataframe tbody tr th:only-of-type {\n",
       "        vertical-align: middle;\n",
       "    }\n",
       "\n",
       "    .dataframe tbody tr th {\n",
       "        vertical-align: top;\n",
       "    }\n",
       "\n",
       "    .dataframe thead th {\n",
       "        text-align: right;\n",
       "    }\n",
       "</style>\n",
       "<table border=\"1\" class=\"dataframe\">\n",
       "  <thead>\n",
       "    <tr style=\"text-align: right;\">\n",
       "      <th></th>\n",
       "      <th>count</th>\n",
       "      <th>share</th>\n",
       "    </tr>\n",
       "  </thead>\n",
       "  <tbody>\n",
       "    <tr>\n",
       "      <th>0</th>\n",
       "      <td>15749</td>\n",
       "      <td>0.984559</td>\n",
       "    </tr>\n",
       "    <tr>\n",
       "      <th>1</th>\n",
       "      <td>247</td>\n",
       "      <td>0.015441</td>\n",
       "    </tr>\n",
       "  </tbody>\n",
       "</table>\n",
       "</div>"
      ],
      "text/plain": [
       "   count     share\n",
       "0  15749  0.984559\n",
       "1    247  0.015441"
      ]
     },
     "execution_count": 18,
     "metadata": {},
     "output_type": "execute_result"
    }
   ],
   "source": [
    "compute_counts_and_share(pd.DataFrame({'target': y_train}), 'target')"
   ]
  },
  {
   "cell_type": "code",
   "execution_count": 19,
   "id": "5bcb8e82-22bf-4ab9-9ef0-7139eeccada4",
   "metadata": {},
   "outputs": [],
   "source": [
    "undersample = RandomUnderSampler(sampling_strategy = 0.1)\n",
    "X_train_balanced, y_train_balanced = undersample.fit_resample(X_train, y_train)"
   ]
  },
  {
   "cell_type": "code",
   "execution_count": 20,
   "id": "ae33e07e-2077-4333-a438-b4d1656bd983",
   "metadata": {},
   "outputs": [
    {
     "data": {
      "text/html": [
       "<div>\n",
       "<style scoped>\n",
       "    .dataframe tbody tr th:only-of-type {\n",
       "        vertical-align: middle;\n",
       "    }\n",
       "\n",
       "    .dataframe tbody tr th {\n",
       "        vertical-align: top;\n",
       "    }\n",
       "\n",
       "    .dataframe thead th {\n",
       "        text-align: right;\n",
       "    }\n",
       "</style>\n",
       "<table border=\"1\" class=\"dataframe\">\n",
       "  <thead>\n",
       "    <tr style=\"text-align: right;\">\n",
       "      <th></th>\n",
       "      <th>count</th>\n",
       "      <th>share</th>\n",
       "    </tr>\n",
       "  </thead>\n",
       "  <tbody>\n",
       "    <tr>\n",
       "      <th>0</th>\n",
       "      <td>2470</td>\n",
       "      <td>0.909091</td>\n",
       "    </tr>\n",
       "    <tr>\n",
       "      <th>1</th>\n",
       "      <td>247</td>\n",
       "      <td>0.090909</td>\n",
       "    </tr>\n",
       "  </tbody>\n",
       "</table>\n",
       "</div>"
      ],
      "text/plain": [
       "   count     share\n",
       "0   2470  0.909091\n",
       "1    247  0.090909"
      ]
     },
     "execution_count": 20,
     "metadata": {},
     "output_type": "execute_result"
    }
   ],
   "source": [
    "compute_counts_and_share(pd.DataFrame({'target': y_train_balanced}), 'target')"
   ]
  },
  {
   "cell_type": "code",
   "execution_count": 21,
   "id": "33303fac-6a51-4567-b8f8-d29fd3d5d85c",
   "metadata": {},
   "outputs": [],
   "source": [
    "# oversample = SMOTENC(random_state=seed,\n",
    "#                      sampling_strategy = 0.9,\n",
    "#                      categorical_features=[X_train.columns.isin(['name_income_type', 'name_education_type',\n",
    "#                                                                  'name_housing_type', 'occupation_type'])])\n",
    "\n",
    "oversample = RandomOverSampler(random_state=seed,\n",
    "                     sampling_strategy = 0.9)\n",
    "\n",
    "X_train_balanced, y_train_balanced = oversample.fit_resample(X_train_balanced, y_train_balanced)"
   ]
  },
  {
   "cell_type": "code",
   "execution_count": 22,
   "id": "a81aa20a-d58a-47f8-a08f-b870f7a14e07",
   "metadata": {},
   "outputs": [
    {
     "data": {
      "text/html": [
       "<div>\n",
       "<style scoped>\n",
       "    .dataframe tbody tr th:only-of-type {\n",
       "        vertical-align: middle;\n",
       "    }\n",
       "\n",
       "    .dataframe tbody tr th {\n",
       "        vertical-align: top;\n",
       "    }\n",
       "\n",
       "    .dataframe thead th {\n",
       "        text-align: right;\n",
       "    }\n",
       "</style>\n",
       "<table border=\"1\" class=\"dataframe\">\n",
       "  <thead>\n",
       "    <tr style=\"text-align: right;\">\n",
       "      <th></th>\n",
       "      <th>count</th>\n",
       "      <th>share</th>\n",
       "    </tr>\n",
       "  </thead>\n",
       "  <tbody>\n",
       "    <tr>\n",
       "      <th>0</th>\n",
       "      <td>2470</td>\n",
       "      <td>0.526316</td>\n",
       "    </tr>\n",
       "    <tr>\n",
       "      <th>1</th>\n",
       "      <td>2223</td>\n",
       "      <td>0.473684</td>\n",
       "    </tr>\n",
       "  </tbody>\n",
       "</table>\n",
       "</div>"
      ],
      "text/plain": [
       "   count     share\n",
       "0   2470  0.526316\n",
       "1   2223  0.473684"
      ]
     },
     "execution_count": 22,
     "metadata": {},
     "output_type": "execute_result"
    }
   ],
   "source": [
    "compute_counts_and_share(pd.DataFrame({'target': y_train_balanced}), 'target')"
   ]
  },
  {
   "cell_type": "markdown",
   "id": "6cc755a7-5385-4bd3-a5c7-9a0ba6dfaab2",
   "metadata": {},
   "source": [
    "## One hot encoding"
   ]
  },
  {
   "cell_type": "code",
   "execution_count": 23,
   "id": "4e6dc4c3-6796-4353-9f54-eb366837a44e",
   "metadata": {},
   "outputs": [],
   "source": [
    "enc = OneHotEncoder(handle_unknown = 'infrequent_if_exist', min_frequency = 300)\n",
    "enc = enc.fit(X_train_balanced)"
   ]
  },
  {
   "cell_type": "code",
   "execution_count": 24,
   "id": "f2457ac9-ce08-4142-b3ec-ca40299efe08",
   "metadata": {},
   "outputs": [],
   "source": [
    "X_train_balanced_one_hot = enc.transform(X_train_balanced).toarray()\n",
    "X_test_one_hot = enc.transform(X_test).toarray()"
   ]
  },
  {
   "cell_type": "code",
   "execution_count": 25,
   "id": "2abe2cd0-2258-4c3a-a396-3dbf10ec5001",
   "metadata": {},
   "outputs": [
    {
     "data": {
      "text/plain": [
       "pandas.core.frame.DataFrame"
      ]
     },
     "execution_count": 25,
     "metadata": {},
     "output_type": "execute_result"
    }
   ],
   "source": [
    "X_train_balanced_one_hot = pd.DataFrame(X_train_balanced_one_hot,\n",
    "                                        columns = enc.get_feature_names_out().tolist())\n",
    "X_test_one_hot = pd.DataFrame(X_test_one_hot,\n",
    "                                        columns = enc.get_feature_names_out().tolist())\n",
    "type(X_train_balanced_one_hot)"
   ]
  },
  {
   "cell_type": "markdown",
   "id": "33c9de90-6cb3-4fe4-b546-fc324e93a814",
   "metadata": {},
   "source": [
    "## Under-sampling: Tomek links"
   ]
  },
  {
   "cell_type": "code",
   "execution_count": 26,
   "id": "52dc4e7a-4ab0-4d17-b629-a5fdf47e422d",
   "metadata": {},
   "outputs": [],
   "source": [
    "undersample_tomek = TomekLinks(sampling_strategy = 'majority')\n",
    "(X_train_balanced_one_hot, y_train_balanced_one_hot) = undersample_tomek.fit_resample(X_train_balanced_one_hot, y_train_balanced)"
   ]
  },
  {
   "cell_type": "code",
   "execution_count": 27,
   "id": "2fbd569f-0084-4c77-ba0d-d7003abbd47f",
   "metadata": {},
   "outputs": [
    {
     "data": {
      "text/html": [
       "<div>\n",
       "<style scoped>\n",
       "    .dataframe tbody tr th:only-of-type {\n",
       "        vertical-align: middle;\n",
       "    }\n",
       "\n",
       "    .dataframe tbody tr th {\n",
       "        vertical-align: top;\n",
       "    }\n",
       "\n",
       "    .dataframe thead th {\n",
       "        text-align: right;\n",
       "    }\n",
       "</style>\n",
       "<table border=\"1\" class=\"dataframe\">\n",
       "  <thead>\n",
       "    <tr style=\"text-align: right;\">\n",
       "      <th></th>\n",
       "      <th>count</th>\n",
       "      <th>share</th>\n",
       "    </tr>\n",
       "  </thead>\n",
       "  <tbody>\n",
       "    <tr>\n",
       "      <th>0</th>\n",
       "      <td>2470</td>\n",
       "      <td>0.526316</td>\n",
       "    </tr>\n",
       "    <tr>\n",
       "      <th>1</th>\n",
       "      <td>2223</td>\n",
       "      <td>0.473684</td>\n",
       "    </tr>\n",
       "  </tbody>\n",
       "</table>\n",
       "</div>"
      ],
      "text/plain": [
       "   count     share\n",
       "0   2470  0.526316\n",
       "1   2223  0.473684"
      ]
     },
     "execution_count": 27,
     "metadata": {},
     "output_type": "execute_result"
    }
   ],
   "source": [
    "compute_counts_and_share(pd.DataFrame({'target': y_train_balanced_one_hot}), 'target')"
   ]
  },
  {
   "cell_type": "markdown",
   "id": "95c1f200-b552-463a-a758-7d04b42b9183",
   "metadata": {},
   "source": [
    "# Modelling"
   ]
  },
  {
   "cell_type": "markdown",
   "id": "35835b4b-30d1-4da7-aea2-7eed9763a3ed",
   "metadata": {},
   "source": [
    "## Try different models with default parameters"
   ]
  },
  {
   "cell_type": "code",
   "execution_count": 28,
   "id": "56668790-2fac-4edd-8d93-3d1323bc276e",
   "metadata": {},
   "outputs": [],
   "source": [
    "classifiers = {\n",
    "    \"LogisticRegression\" : LogisticRegression(max_iter = 300, class_weight='balanced'),\n",
    "    \"KNeighbors\" : KNeighborsClassifier(),\n",
    "    # \"SVC\" : SVC(),\n",
    "    \"DecisionTree\" : DecisionTreeClassifier(class_weight='balanced'),\n",
    "    \"RandomForest\" : RandomForestClassifier(class_weight='balanced'),\n",
    "    \"XGBoost\" : XGBClassifier(scale_pos_weight=10),\n",
    "    \"LGBMClassifier\" : lgb.LGBMClassifier(class_weight='balanced')\n",
    "}"
   ]
  },
  {
   "cell_type": "code",
   "execution_count": 29,
   "id": "39e1cabc-0274-48e9-a891-8ed5f057e373",
   "metadata": {
    "tags": []
   },
   "outputs": [
    {
     "name": "stdout",
     "output_type": "stream",
     "text": [
      "LogisticRegression\n",
      "KNeighbors\n",
      "DecisionTree\n",
      "RandomForest\n",
      "XGBoost\n",
      "LGBMClassifier\n"
     ]
    },
    {
     "name": "stderr",
     "output_type": "stream",
     "text": [
      "C:\\Users\\Winter\\anaconda3\\envs\\credit-admission-prediction\\lib\\site-packages\\lightgbm\\basic.py:2065: UserWarning: Using categorical_feature in Dataset.\n"
     ]
    }
   ],
   "source": [
    "# from sklearn.model_selection import cross_validate\n",
    "train_cv_scores = []\n",
    "test_scores = []\n",
    "\n",
    "for key, classifier in classifiers.items():\n",
    "    print(key)\n",
    "    if key == \"LGBMClassifier\":\n",
    "        X_train_data = convert_object_cols_to_category(X_train_balanced)\n",
    "        y_train_data = y_train_balanced\n",
    "        X_test_data = convert_object_cols_to_category(X_test)\n",
    "        y_test_data = y_test\n",
    "\n",
    "        classifier.fit(X_train_data, y_train_data, categorical_feature = ['name_income_type', 'name_education_type', 'name_housing_type', 'occupation_type'])\n",
    "    else:\n",
    "        X_train_data = X_train_balanced_one_hot\n",
    "        y_train_data = y_train_balanced_one_hot\n",
    "        X_test_data = X_test_one_hot\n",
    "        y_test_data = y_test\n",
    "        \n",
    "        classifier.fit(X_train_data, y_train_data)\n",
    "        \n",
    "    train_cv_score = cross_val_score(classifier, X_train_data, y_train_data, scoring=\"average_precision\", cv = 5).mean()\n",
    "    train_cv_scores.append(train_cv_score)\n",
    "    test_predictions = classifier.predict(X_test_data)\n",
    "    test_score = average_precision_score(y_test_data, test_predictions)\n",
    "    test_scores.append(test_score)"
   ]
  },
  {
   "cell_type": "code",
   "execution_count": 30,
   "id": "c935b1ab-060e-4d86-9fce-8bddfb143c36",
   "metadata": {},
   "outputs": [
    {
     "name": "stdout",
     "output_type": "stream",
     "text": [
      "[0.6147015480577197, 0.8803254457076022, 0.8882081163797377, 0.9444087484102454, 0.9438536857782076, 0.9797263198940598]\n",
      "[0.016060841763695363, 0.039401242728714966, 0.029523965576199705, 0.03234737860053878, 0.025720041456147168, 0.0681341642228739]\n"
     ]
    }
   ],
   "source": [
    "print(train_cv_scores)\n",
    "print(test_scores)"
   ]
  },
  {
   "cell_type": "code",
   "execution_count": 31,
   "id": "842a6209-8615-4d37-92aa-ba5b3d4cc0f2",
   "metadata": {},
   "outputs": [
    {
     "data": {
      "text/html": [
       "<div>\n",
       "<style scoped>\n",
       "    .dataframe tbody tr th:only-of-type {\n",
       "        vertical-align: middle;\n",
       "    }\n",
       "\n",
       "    .dataframe tbody tr th {\n",
       "        vertical-align: top;\n",
       "    }\n",
       "\n",
       "    .dataframe thead th {\n",
       "        text-align: right;\n",
       "    }\n",
       "</style>\n",
       "<table border=\"1\" class=\"dataframe\">\n",
       "  <thead>\n",
       "    <tr style=\"text-align: right;\">\n",
       "      <th></th>\n",
       "      <th>model</th>\n",
       "      <th>train_mean_score</th>\n",
       "      <th>test_score</th>\n",
       "    </tr>\n",
       "  </thead>\n",
       "  <tbody>\n",
       "    <tr>\n",
       "      <th>0</th>\n",
       "      <td>LogisticRegression</td>\n",
       "      <td>0.614702</td>\n",
       "      <td>0.016061</td>\n",
       "    </tr>\n",
       "    <tr>\n",
       "      <th>1</th>\n",
       "      <td>KNeighbors</td>\n",
       "      <td>0.880325</td>\n",
       "      <td>0.039401</td>\n",
       "    </tr>\n",
       "    <tr>\n",
       "      <th>2</th>\n",
       "      <td>DecisionTree</td>\n",
       "      <td>0.888208</td>\n",
       "      <td>0.029524</td>\n",
       "    </tr>\n",
       "    <tr>\n",
       "      <th>3</th>\n",
       "      <td>RandomForest</td>\n",
       "      <td>0.944409</td>\n",
       "      <td>0.032347</td>\n",
       "    </tr>\n",
       "    <tr>\n",
       "      <th>4</th>\n",
       "      <td>XGBoost</td>\n",
       "      <td>0.943854</td>\n",
       "      <td>0.025720</td>\n",
       "    </tr>\n",
       "    <tr>\n",
       "      <th>5</th>\n",
       "      <td>LGBMClassifier</td>\n",
       "      <td>0.979726</td>\n",
       "      <td>0.068134</td>\n",
       "    </tr>\n",
       "  </tbody>\n",
       "</table>\n",
       "</div>"
      ],
      "text/plain": [
       "                model  train_mean_score  test_score\n",
       "0  LogisticRegression          0.614702    0.016061\n",
       "1          KNeighbors          0.880325    0.039401\n",
       "2        DecisionTree          0.888208    0.029524\n",
       "3        RandomForest          0.944409    0.032347\n",
       "4             XGBoost          0.943854    0.025720\n",
       "5      LGBMClassifier          0.979726    0.068134"
      ]
     },
     "execution_count": 31,
     "metadata": {},
     "output_type": "execute_result"
    }
   ],
   "source": [
    "models_comparison = pd.DataFrame({'model': classifiers.keys(), 'train_mean_score': train_cv_scores, 'test_score': test_scores})\n",
    "models_comparison"
   ]
  },
  {
   "cell_type": "markdown",
   "id": "737dd2f0-186a-4a07-8909-9a9c5fb8b8fc",
   "metadata": {},
   "source": [
    "## AutoML - cannot run on Windows..."
   ]
  },
  {
   "cell_type": "code",
   "execution_count": 32,
   "id": "27072dbe-2e4d-4347-823f-280a56a6284f",
   "metadata": {},
   "outputs": [],
   "source": [
    "# import autosklearn.classification"
   ]
  },
  {
   "cell_type": "code",
   "execution_count": 33,
   "id": "daa04c9d-b1ce-4ff1-abea-5dc696da651b",
   "metadata": {},
   "outputs": [],
   "source": [
    "# automl = autosklearn.classification.AutoSklearnClassifier(\n",
    "#     time_left_for_this_task=120,\n",
    "#     per_run_time_limit=30\n",
    "# )\n",
    "# automl.fit(X_train_balanced_one_hot, y_train_balanced_one_hot)"
   ]
  },
  {
   "cell_type": "code",
   "execution_count": 34,
   "id": "2717d273-be54-4bce-b9c9-3f65658effd0",
   "metadata": {},
   "outputs": [],
   "source": [
    "# print(automl.leaderboard())"
   ]
  },
  {
   "cell_type": "code",
   "execution_count": 35,
   "id": "89795420-40e9-4548-ae0c-4d06223a1496",
   "metadata": {},
   "outputs": [],
   "source": [
    "# pprint(automl.show_models(), indent=4)"
   ]
  },
  {
   "cell_type": "code",
   "execution_count": 36,
   "id": "f90381a2-3ae9-4ee6-8912-37cefe3571bc",
   "metadata": {},
   "outputs": [],
   "source": [
    "# test_predictions = classifier.predict(X_test_one_hot)\n",
    "# summarise_metrices(y_test = y_test, y_hat = test_predictions)"
   ]
  },
  {
   "cell_type": "code",
   "execution_count": 37,
   "id": "5a1dc069-233c-45b3-8d46-561e3b81feec",
   "metadata": {},
   "outputs": [],
   "source": [
    "# format_confusion_matrix(y_test, test_predictions)"
   ]
  },
  {
   "cell_type": "markdown",
   "id": "bd9ec37b-d3bd-4ce2-a719-eddb64e922c9",
   "metadata": {},
   "source": [
    "## Hyperparameter tuning for lgbm"
   ]
  },
  {
   "cell_type": "code",
   "execution_count": 38,
   "id": "565fa0d8-85ea-4063-aac4-acb0c406ea1a",
   "metadata": {},
   "outputs": [
    {
     "name": "stdout",
     "output_type": "stream",
     "text": [
      "[LightGBM] [Warning] min_data_in_leaf is set=3220, min_child_samples=20 will be ignored. Current value: min_data_in_leaf=3220                           \n",
      "[LightGBM] [Warning] min_data_in_leaf is set=3220, min_child_samples=20 will be ignored. Current value: min_data_in_leaf=3220                           \n",
      "  0%|                                                                                                           | 0/100 [00:00<?, ?trial/s, best loss=?]"
     ]
    },
    {
     "name": "stderr",
     "output_type": "stream",
     "text": [
      "C:\\Users\\Winter\\anaconda3\\envs\\credit-admission-prediction\\lib\\site-packages\\lightgbm\\basic.py:2065: UserWarning: Using categorical_feature in Dataset.\n",
      "\n"
     ]
    },
    {
     "name": "stdout",
     "output_type": "stream",
     "text": [
      "[LightGBM] [Warning] min_data_in_leaf is set=3220, min_child_samples=20 will be ignored. Current value: min_data_in_leaf=3220                           \n",
      "[LightGBM] [Warning] min_data_in_leaf is set=3220, min_child_samples=20 will be ignored. Current value: min_data_in_leaf=3220                           \n",
      "[LightGBM] [Warning] min_data_in_leaf is set=3220, min_child_samples=20 will be ignored. Current value: min_data_in_leaf=3220                           \n",
      "[LightGBM] [Warning] min_data_in_leaf is set=810, min_child_samples=20 will be ignored. Current value: min_data_in_leaf=810                             \n",
      "  1%|▊                                                                              | 1/100 [00:00<01:01,  1.60trial/s, best loss: -0.47368406711308814]"
     ]
    },
    {
     "name": "stderr",
     "output_type": "stream",
     "text": [
      "C:\\Users\\Winter\\anaconda3\\envs\\credit-admission-prediction\\lib\\site-packages\\lightgbm\\basic.py:2065: UserWarning: Using categorical_feature in Dataset.\n",
      "\n"
     ]
    },
    {
     "name": "stdout",
     "output_type": "stream",
     "text": [
      "[LightGBM] [Warning] min_data_in_leaf is set=810, min_child_samples=20 will be ignored. Current value: min_data_in_leaf=810                             \n",
      "[LightGBM] [Warning] min_data_in_leaf is set=810, min_child_samples=20 will be ignored. Current value: min_data_in_leaf=810                             \n",
      "[LightGBM] [Warning] min_data_in_leaf is set=810, min_child_samples=20 will be ignored. Current value: min_data_in_leaf=810                             \n",
      "[LightGBM] [Warning] min_data_in_leaf is set=810, min_child_samples=20 will be ignored. Current value: min_data_in_leaf=810                             \n",
      "[LightGBM] [Warning] min_data_in_leaf is set=2200, min_child_samples=20 will be ignored. Current value: min_data_in_leaf=2200                           \n",
      "  2%|█▌                                                                              | 2/100 [00:03<03:14,  1.98s/trial, best loss: -0.8769829983931524]"
     ]
    },
    {
     "name": "stderr",
     "output_type": "stream",
     "text": [
      "C:\\Users\\Winter\\anaconda3\\envs\\credit-admission-prediction\\lib\\site-packages\\lightgbm\\basic.py:2065: UserWarning: Using categorical_feature in Dataset.\n",
      "\n"
     ]
    },
    {
     "name": "stdout",
     "output_type": "stream",
     "text": [
      "[LightGBM] [Warning] min_data_in_leaf is set=2200, min_child_samples=20 will be ignored. Current value: min_data_in_leaf=2200                           \n",
      "[LightGBM] [Warning] min_data_in_leaf is set=2200, min_child_samples=20 will be ignored. Current value: min_data_in_leaf=2200                           \n",
      "[LightGBM] [Warning] min_data_in_leaf is set=2200, min_child_samples=20 will be ignored. Current value: min_data_in_leaf=2200                           \n",
      "[LightGBM] [Warning] min_data_in_leaf is set=2200, min_child_samples=20 will be ignored. Current value: min_data_in_leaf=2200                           \n",
      "[LightGBM] [Warning] min_data_in_leaf is set=8360, min_child_samples=20 will be ignored. Current value: min_data_in_leaf=8360                           \n",
      "  3%|██▍                                                                             | 3/100 [00:04<02:32,  1.57s/trial, best loss: -0.8769829983931524]"
     ]
    },
    {
     "name": "stderr",
     "output_type": "stream",
     "text": [
      "C:\\Users\\Winter\\anaconda3\\envs\\credit-admission-prediction\\lib\\site-packages\\lightgbm\\basic.py:2065: UserWarning: Using categorical_feature in Dataset.\n",
      "\n"
     ]
    },
    {
     "name": "stdout",
     "output_type": "stream",
     "text": [
      "[LightGBM] [Warning] min_data_in_leaf is set=8360, min_child_samples=20 will be ignored. Current value: min_data_in_leaf=8360                           \n",
      "[LightGBM] [Warning] min_data_in_leaf is set=8360, min_child_samples=20 will be ignored. Current value: min_data_in_leaf=8360                           \n",
      "[LightGBM] [Warning] min_data_in_leaf is set=8360, min_child_samples=20 will be ignored. Current value: min_data_in_leaf=8360                           \n",
      "[LightGBM] [Warning] min_data_in_leaf is set=8360, min_child_samples=20 will be ignored. Current value: min_data_in_leaf=8360                           \n",
      "[LightGBM] [Warning] min_data_in_leaf is set=8100, min_child_samples=20 will be ignored. Current value: min_data_in_leaf=8100                           \n",
      "  4%|███▏                                                                            | 4/100 [00:05<02:05,  1.31s/trial, best loss: -0.8769829983931524]"
     ]
    },
    {
     "name": "stderr",
     "output_type": "stream",
     "text": [
      "C:\\Users\\Winter\\anaconda3\\envs\\credit-admission-prediction\\lib\\site-packages\\lightgbm\\basic.py:2065: UserWarning: Using categorical_feature in Dataset.\n",
      "\n"
     ]
    },
    {
     "name": "stdout",
     "output_type": "stream",
     "text": [
      "[LightGBM] [Warning] min_data_in_leaf is set=8100, min_child_samples=20 will be ignored. Current value: min_data_in_leaf=8100                           \n",
      "[LightGBM] [Warning] min_data_in_leaf is set=8100, min_child_samples=20 will be ignored. Current value: min_data_in_leaf=8100                           \n",
      "[LightGBM] [Warning] min_data_in_leaf is set=8100, min_child_samples=20 will be ignored. Current value: min_data_in_leaf=8100                           \n",
      "[LightGBM] [Warning] min_data_in_leaf is set=8100, min_child_samples=20 will be ignored. Current value: min_data_in_leaf=8100                           \n",
      "[LightGBM] [Warning] min_data_in_leaf is set=4200, min_child_samples=20 will be ignored. Current value: min_data_in_leaf=4200                           \n",
      "  5%|████                                                                            | 5/100 [00:07<02:01,  1.28s/trial, best loss: -0.8769829983931524]"
     ]
    },
    {
     "name": "stderr",
     "output_type": "stream",
     "text": [
      "C:\\Users\\Winter\\anaconda3\\envs\\credit-admission-prediction\\lib\\site-packages\\lightgbm\\basic.py:2065: UserWarning: Using categorical_feature in Dataset.\n",
      "\n"
     ]
    },
    {
     "name": "stdout",
     "output_type": "stream",
     "text": [
      "[LightGBM] [Warning] min_data_in_leaf is set=4200, min_child_samples=20 will be ignored. Current value: min_data_in_leaf=4200                           \n",
      "[LightGBM] [Warning] min_data_in_leaf is set=4200, min_child_samples=20 will be ignored. Current value: min_data_in_leaf=4200                           \n",
      "[LightGBM] [Warning] min_data_in_leaf is set=4200, min_child_samples=20 will be ignored. Current value: min_data_in_leaf=4200                           \n",
      "[LightGBM] [Warning] min_data_in_leaf is set=4200, min_child_samples=20 will be ignored. Current value: min_data_in_leaf=4200                           \n",
      "[LightGBM] [Warning] min_data_in_leaf is set=6420, min_child_samples=20 will be ignored. Current value: min_data_in_leaf=6420                           \n",
      "  6%|████▊                                                                           | 6/100 [00:08<01:54,  1.22s/trial, best loss: -0.8769829983931524]"
     ]
    },
    {
     "name": "stderr",
     "output_type": "stream",
     "text": [
      "C:\\Users\\Winter\\anaconda3\\envs\\credit-admission-prediction\\lib\\site-packages\\lightgbm\\basic.py:2065: UserWarning: Using categorical_feature in Dataset.\n",
      "\n"
     ]
    },
    {
     "name": "stdout",
     "output_type": "stream",
     "text": [
      "[LightGBM] [Warning] min_data_in_leaf is set=6420, min_child_samples=20 will be ignored. Current value: min_data_in_leaf=6420                           \n",
      "[LightGBM] [Warning] min_data_in_leaf is set=6420, min_child_samples=20 will be ignored. Current value: min_data_in_leaf=6420                           \n",
      "[LightGBM] [Warning] min_data_in_leaf is set=6420, min_child_samples=20 will be ignored. Current value: min_data_in_leaf=6420                           \n",
      "[LightGBM] [Warning] min_data_in_leaf is set=6420, min_child_samples=20 will be ignored. Current value: min_data_in_leaf=6420                           \n",
      "[LightGBM] [Warning] min_data_in_leaf is set=2790, min_child_samples=20 will be ignored. Current value: min_data_in_leaf=2790                           \n",
      "[LightGBM] [Warning] min_data_in_leaf is set=2790, min_child_samples=20 will be ignored. Current value: min_data_in_leaf=2790                           \n",
      "  7%|█████▌                                                                          | 7/100 [00:09<01:41,  1.09s/trial, best loss: -0.8769829983931524]"
     ]
    },
    {
     "name": "stderr",
     "output_type": "stream",
     "text": [
      "C:\\Users\\Winter\\anaconda3\\envs\\credit-admission-prediction\\lib\\site-packages\\lightgbm\\basic.py:2065: UserWarning: Using categorical_feature in Dataset.\n",
      "\n"
     ]
    },
    {
     "name": "stdout",
     "output_type": "stream",
     "text": [
      "[LightGBM] [Warning] min_data_in_leaf is set=2790, min_child_samples=20 will be ignored. Current value: min_data_in_leaf=2790                           \n",
      "[LightGBM] [Warning] min_data_in_leaf is set=2790, min_child_samples=20 will be ignored. Current value: min_data_in_leaf=2790                           \n",
      "[LightGBM] [Warning] min_data_in_leaf is set=2790, min_child_samples=20 will be ignored. Current value: min_data_in_leaf=2790                           \n",
      "[LightGBM] [Warning] min_data_in_leaf is set=7880, min_child_samples=20 will be ignored. Current value: min_data_in_leaf=7880                           \n",
      "[LightGBM] [Warning] min_data_in_leaf is set=7880, min_child_samples=20 will be ignored. Current value: min_data_in_leaf=7880                           \n",
      "  8%|██████▍                                                                         | 8/100 [00:09<01:28,  1.04trial/s, best loss: -0.8769829983931524]"
     ]
    },
    {
     "name": "stderr",
     "output_type": "stream",
     "text": [
      "C:\\Users\\Winter\\anaconda3\\envs\\credit-admission-prediction\\lib\\site-packages\\lightgbm\\basic.py:2065: UserWarning: Using categorical_feature in Dataset.\n",
      "\n"
     ]
    },
    {
     "name": "stdout",
     "output_type": "stream",
     "text": [
      "[LightGBM] [Warning] min_data_in_leaf is set=7880, min_child_samples=20 will be ignored. Current value: min_data_in_leaf=7880                           \n",
      "[LightGBM] [Warning] min_data_in_leaf is set=7880, min_child_samples=20 will be ignored. Current value: min_data_in_leaf=7880                           \n",
      "[LightGBM] [Warning] min_data_in_leaf is set=7880, min_child_samples=20 will be ignored. Current value: min_data_in_leaf=7880                           \n",
      "[LightGBM] [Warning] min_data_in_leaf is set=2680, min_child_samples=20 will be ignored. Current value: min_data_in_leaf=2680                           \n",
      "  9%|███████▏                                                                        | 9/100 [00:10<01:17,  1.17trial/s, best loss: -0.8769829983931524]"
     ]
    },
    {
     "name": "stderr",
     "output_type": "stream",
     "text": [
      "C:\\Users\\Winter\\anaconda3\\envs\\credit-admission-prediction\\lib\\site-packages\\lightgbm\\basic.py:2065: UserWarning: Using categorical_feature in Dataset.\n",
      "\n"
     ]
    },
    {
     "name": "stdout",
     "output_type": "stream",
     "text": [
      "[LightGBM] [Warning] min_data_in_leaf is set=2680, min_child_samples=20 will be ignored. Current value: min_data_in_leaf=2680                           \n",
      "[LightGBM] [Warning] min_data_in_leaf is set=2680, min_child_samples=20 will be ignored. Current value: min_data_in_leaf=2680                           \n",
      "[LightGBM] [Warning] min_data_in_leaf is set=2680, min_child_samples=20 will be ignored. Current value: min_data_in_leaf=2680                           \n",
      "[LightGBM] [Warning] min_data_in_leaf is set=2680, min_child_samples=20 will be ignored. Current value: min_data_in_leaf=2680                           \n",
      "[LightGBM] [Warning] min_data_in_leaf is set=830, min_child_samples=20 will be ignored. Current value: min_data_in_leaf=830                             \n",
      " 10%|███████▉                                                                       | 10/100 [00:11<01:17,  1.16trial/s, best loss: -0.8769829983931524]"
     ]
    },
    {
     "name": "stderr",
     "output_type": "stream",
     "text": [
      "C:\\Users\\Winter\\anaconda3\\envs\\credit-admission-prediction\\lib\\site-packages\\lightgbm\\basic.py:2065: UserWarning: Using categorical_feature in Dataset.\n",
      "\n"
     ]
    },
    {
     "name": "stdout",
     "output_type": "stream",
     "text": [
      "[LightGBM] [Warning] min_data_in_leaf is set=830, min_child_samples=20 will be ignored. Current value: min_data_in_leaf=830                             \n",
      "[LightGBM] [Warning] min_data_in_leaf is set=830, min_child_samples=20 will be ignored. Current value: min_data_in_leaf=830                             \n",
      "[LightGBM] [Warning] min_data_in_leaf is set=830, min_child_samples=20 will be ignored. Current value: min_data_in_leaf=830                             \n",
      "[LightGBM] [Warning] min_data_in_leaf is set=830, min_child_samples=20 will be ignored. Current value: min_data_in_leaf=830                             \n",
      "[LightGBM] [Warning] min_data_in_leaf is set=210, min_child_samples=20 will be ignored. Current value: min_data_in_leaf=210                             \n",
      "[LightGBM] [Warning] min_data_in_leaf is set=210, min_child_samples=20 will be ignored. Current value: min_data_in_leaf=210                             \n",
      " 11%|████████▋                                                                      | 11/100 [00:12<01:34,  1.06s/trial, best loss: -0.8769829983931524]"
     ]
    },
    {
     "name": "stderr",
     "output_type": "stream",
     "text": [
      "C:\\Users\\Winter\\anaconda3\\envs\\credit-admission-prediction\\lib\\site-packages\\lightgbm\\basic.py:2065: UserWarning: Using categorical_feature in Dataset.\n",
      "\n"
     ]
    },
    {
     "name": "stdout",
     "output_type": "stream",
     "text": [
      "[LightGBM] [Warning] min_data_in_leaf is set=210, min_child_samples=20 will be ignored. Current value: min_data_in_leaf=210                             \n",
      "[LightGBM] [Warning] min_data_in_leaf is set=210, min_child_samples=20 will be ignored. Current value: min_data_in_leaf=210                             \n",
      "[LightGBM] [Warning] min_data_in_leaf is set=210, min_child_samples=20 will be ignored. Current value: min_data_in_leaf=210                             \n",
      "[LightGBM] [Warning] min_data_in_leaf is set=1530, min_child_samples=20 will be ignored. Current value: min_data_in_leaf=1530                           \n",
      " 12%|█████████▍                                                                     | 12/100 [00:13<01:23,  1.05trial/s, best loss: -0.9444437759567267]"
     ]
    },
    {
     "name": "stderr",
     "output_type": "stream",
     "text": [
      "C:\\Users\\Winter\\anaconda3\\envs\\credit-admission-prediction\\lib\\site-packages\\lightgbm\\basic.py:2065: UserWarning: Using categorical_feature in Dataset.\n",
      "\n"
     ]
    },
    {
     "name": "stdout",
     "output_type": "stream",
     "text": [
      "[LightGBM] [Warning] min_data_in_leaf is set=1530, min_child_samples=20 will be ignored. Current value: min_data_in_leaf=1530                           \n",
      "[LightGBM] [Warning] min_data_in_leaf is set=1530, min_child_samples=20 will be ignored. Current value: min_data_in_leaf=1530                           \n",
      "[LightGBM] [Warning] min_data_in_leaf is set=1530, min_child_samples=20 will be ignored. Current value: min_data_in_leaf=1530                           \n",
      "[LightGBM] [Warning] min_data_in_leaf is set=1530, min_child_samples=20 will be ignored. Current value: min_data_in_leaf=1530                           \n",
      "[LightGBM] [Warning] min_data_in_leaf is set=8810, min_child_samples=20 will be ignored. Current value: min_data_in_leaf=8810                           \n",
      "[LightGBM] [Warning] min_data_in_leaf is set=8810, min_child_samples=20 will be ignored. Current value: min_data_in_leaf=8810                           \n",
      "[LightGBM] [Warning] min_data_in_leaf is set=8810, min_child_samples=20 will be ignored. Current value: min_data_in_leaf=8810                           \n",
      "[LightGBM] [Warning] min_data_in_leaf is set=8810, min_child_samples=20 will be ignored. Current value: min_data_in_leaf=8810                           \n",
      "[LightGBM] [Warning] min_data_in_leaf is set=8810, min_child_samples=20 will be ignored. Current value: min_data_in_leaf=8810                           \n",
      " 13%|██████████▎                                                                    | 13/100 [00:16<02:08,  1.48s/trial, best loss: -0.9444437759567267]"
     ]
    },
    {
     "name": "stderr",
     "output_type": "stream",
     "text": [
      "C:\\Users\\Winter\\anaconda3\\envs\\credit-admission-prediction\\lib\\site-packages\\lightgbm\\basic.py:2065: UserWarning: Using categorical_feature in Dataset.\n",
      "\n"
     ]
    },
    {
     "name": "stdout",
     "output_type": "stream",
     "text": [
      "[LightGBM] [Warning] min_data_in_leaf is set=9840, min_child_samples=20 will be ignored. Current value: min_data_in_leaf=9840                           \n",
      "[LightGBM] [Warning] min_data_in_leaf is set=9840, min_child_samples=20 will be ignored. Current value: min_data_in_leaf=9840                           \n",
      " 14%|███████████                                                                    | 14/100 [00:16<01:40,  1.16s/trial, best loss: -0.9444437759567267]"
     ]
    },
    {
     "name": "stderr",
     "output_type": "stream",
     "text": [
      "C:\\Users\\Winter\\anaconda3\\envs\\credit-admission-prediction\\lib\\site-packages\\lightgbm\\basic.py:2065: UserWarning: Using categorical_feature in Dataset.\n",
      "\n"
     ]
    },
    {
     "name": "stdout",
     "output_type": "stream",
     "text": [
      "[LightGBM] [Warning] min_data_in_leaf is set=9840, min_child_samples=20 will be ignored. Current value: min_data_in_leaf=9840                           \n",
      "[LightGBM] [Warning] min_data_in_leaf is set=9840, min_child_samples=20 will be ignored. Current value: min_data_in_leaf=9840                           \n",
      "[LightGBM] [Warning] min_data_in_leaf is set=9840, min_child_samples=20 will be ignored. Current value: min_data_in_leaf=9840                           \n",
      "[LightGBM] [Warning] min_data_in_leaf is set=9080, min_child_samples=20 will be ignored. Current value: min_data_in_leaf=9080                           \n",
      "[LightGBM] [Warning] min_data_in_leaf is set=9080, min_child_samples=20 will be ignored. Current value: min_data_in_leaf=9080                           \n",
      "[LightGBM] [Warning] min_data_in_leaf is set=9080, min_child_samples=20 will be ignored. Current value: min_data_in_leaf=9080                           \n",
      "[LightGBM] [Warning] min_data_in_leaf is set=9080, min_child_samples=20 will be ignored. Current value: min_data_in_leaf=9080                           \n",
      "[LightGBM] [Warning] min_data_in_leaf is set=9080, min_child_samples=20 will be ignored. Current value: min_data_in_leaf=9080                           \n",
      " 15%|███████████▊                                                                   | 15/100 [00:17<01:28,  1.04s/trial, best loss: -0.9444437759567267]"
     ]
    },
    {
     "name": "stderr",
     "output_type": "stream",
     "text": [
      "C:\\Users\\Winter\\anaconda3\\envs\\credit-admission-prediction\\lib\\site-packages\\lightgbm\\basic.py:2065: UserWarning: Using categorical_feature in Dataset.\n",
      "\n"
     ]
    },
    {
     "name": "stdout",
     "output_type": "stream",
     "text": [
      "[LightGBM] [Warning] min_data_in_leaf is set=4960, min_child_samples=20 will be ignored. Current value: min_data_in_leaf=4960                           \n",
      "[LightGBM] [Warning] min_data_in_leaf is set=4960, min_child_samples=20 will be ignored. Current value: min_data_in_leaf=4960                           \n",
      " 16%|████████████▋                                                                  | 16/100 [00:17<01:12,  1.15trial/s, best loss: -0.9444437759567267]"
     ]
    },
    {
     "name": "stderr",
     "output_type": "stream",
     "text": [
      "C:\\Users\\Winter\\anaconda3\\envs\\credit-admission-prediction\\lib\\site-packages\\lightgbm\\basic.py:2065: UserWarning: Using categorical_feature in Dataset.\n",
      "\n"
     ]
    },
    {
     "name": "stdout",
     "output_type": "stream",
     "text": [
      "[LightGBM] [Warning] min_data_in_leaf is set=4960, min_child_samples=20 will be ignored. Current value: min_data_in_leaf=4960                           \n",
      "[LightGBM] [Warning] min_data_in_leaf is set=4960, min_child_samples=20 will be ignored. Current value: min_data_in_leaf=4960                           \n",
      "[LightGBM] [Warning] min_data_in_leaf is set=4960, min_child_samples=20 will be ignored. Current value: min_data_in_leaf=4960                           \n",
      "[LightGBM] [Warning] min_data_in_leaf is set=4930, min_child_samples=20 will be ignored. Current value: min_data_in_leaf=4930                           \n",
      "[LightGBM] [Warning] min_data_in_leaf is set=4930, min_child_samples=20 will be ignored. Current value: min_data_in_leaf=4930                           \n",
      "[LightGBM] [Warning] min_data_in_leaf is set=4930, min_child_samples=20 will be ignored. Current value: min_data_in_leaf=4930                           \n",
      "[LightGBM] [Warning] min_data_in_leaf is set=4930, min_child_samples=20 will be ignored. Current value: min_data_in_leaf=4930                           \n",
      " 17%|█████████████▍                                                                 | 17/100 [00:18<01:06,  1.25trial/s, best loss: -0.9444437759567267]"
     ]
    },
    {
     "name": "stderr",
     "output_type": "stream",
     "text": [
      "C:\\Users\\Winter\\anaconda3\\envs\\credit-admission-prediction\\lib\\site-packages\\lightgbm\\basic.py:2065: UserWarning: Using categorical_feature in Dataset.\n",
      "\n"
     ]
    },
    {
     "name": "stdout",
     "output_type": "stream",
     "text": [
      "[LightGBM] [Warning] min_data_in_leaf is set=4930, min_child_samples=20 will be ignored. Current value: min_data_in_leaf=4930                           \n",
      "[LightGBM] [Warning] min_data_in_leaf is set=8530, min_child_samples=20 will be ignored. Current value: min_data_in_leaf=8530                           \n",
      " 18%|██████████████▏                                                                | 18/100 [00:18<00:58,  1.41trial/s, best loss: -0.9444437759567267]"
     ]
    },
    {
     "name": "stderr",
     "output_type": "stream",
     "text": [
      "C:\\Users\\Winter\\anaconda3\\envs\\credit-admission-prediction\\lib\\site-packages\\lightgbm\\basic.py:2065: UserWarning: Using categorical_feature in Dataset.\n",
      "\n"
     ]
    },
    {
     "name": "stdout",
     "output_type": "stream",
     "text": [
      "[LightGBM] [Warning] min_data_in_leaf is set=8530, min_child_samples=20 will be ignored. Current value: min_data_in_leaf=8530                           \n",
      "[LightGBM] [Warning] min_data_in_leaf is set=8530, min_child_samples=20 will be ignored. Current value: min_data_in_leaf=8530                           \n",
      "[LightGBM] [Warning] min_data_in_leaf is set=8530, min_child_samples=20 will be ignored. Current value: min_data_in_leaf=8530                           \n",
      "[LightGBM] [Warning] min_data_in_leaf is set=8530, min_child_samples=20 will be ignored. Current value: min_data_in_leaf=8530                           \n",
      "[LightGBM] [Warning] min_data_in_leaf is set=3390, min_child_samples=20 will be ignored. Current value: min_data_in_leaf=3390                           \n",
      " 19%|███████████████                                                                | 19/100 [00:19<01:07,  1.20trial/s, best loss: -0.9444437759567267]"
     ]
    },
    {
     "name": "stderr",
     "output_type": "stream",
     "text": [
      "C:\\Users\\Winter\\anaconda3\\envs\\credit-admission-prediction\\lib\\site-packages\\lightgbm\\basic.py:2065: UserWarning: Using categorical_feature in Dataset.\n",
      "\n"
     ]
    },
    {
     "name": "stdout",
     "output_type": "stream",
     "text": [
      "[LightGBM] [Warning] min_data_in_leaf is set=3390, min_child_samples=20 will be ignored. Current value: min_data_in_leaf=3390                           \n",
      "[LightGBM] [Warning] min_data_in_leaf is set=3390, min_child_samples=20 will be ignored. Current value: min_data_in_leaf=3390                           \n",
      "[LightGBM] [Warning] min_data_in_leaf is set=3390, min_child_samples=20 will be ignored. Current value: min_data_in_leaf=3390                           \n",
      "[LightGBM] [Warning] min_data_in_leaf is set=3390, min_child_samples=20 will be ignored. Current value: min_data_in_leaf=3390                           \n",
      "[LightGBM] [Warning] min_data_in_leaf is set=720, min_child_samples=20 will be ignored. Current value: min_data_in_leaf=720                             \n",
      " 20%|███████████████▊                                                               | 20/100 [00:21<01:13,  1.09trial/s, best loss: -0.9444437759567267]"
     ]
    },
    {
     "name": "stderr",
     "output_type": "stream",
     "text": [
      "C:\\Users\\Winter\\anaconda3\\envs\\credit-admission-prediction\\lib\\site-packages\\lightgbm\\basic.py:2065: UserWarning: Using categorical_feature in Dataset.\n",
      "\n"
     ]
    },
    {
     "name": "stdout",
     "output_type": "stream",
     "text": [
      "[LightGBM] [Warning] min_data_in_leaf is set=720, min_child_samples=20 will be ignored. Current value: min_data_in_leaf=720                             \n",
      "[LightGBM] [Warning] min_data_in_leaf is set=720, min_child_samples=20 will be ignored. Current value: min_data_in_leaf=720                             \n",
      "[LightGBM] [Warning] min_data_in_leaf is set=720, min_child_samples=20 will be ignored. Current value: min_data_in_leaf=720                             \n",
      "[LightGBM] [Warning] min_data_in_leaf is set=720, min_child_samples=20 will be ignored. Current value: min_data_in_leaf=720                             \n",
      "[LightGBM] [Warning] min_data_in_leaf is set=5190, min_child_samples=20 will be ignored. Current value: min_data_in_leaf=5190                           \n",
      "[LightGBM] [Warning] min_data_in_leaf is set=5190, min_child_samples=20 will be ignored. Current value: min_data_in_leaf=5190                           \n",
      " 21%|████████████████▌                                                              | 21/100 [00:23<01:37,  1.23s/trial, best loss: -0.9444437759567267]"
     ]
    },
    {
     "name": "stderr",
     "output_type": "stream",
     "text": [
      "C:\\Users\\Winter\\anaconda3\\envs\\credit-admission-prediction\\lib\\site-packages\\lightgbm\\basic.py:2065: UserWarning: Using categorical_feature in Dataset.\n",
      "\n"
     ]
    },
    {
     "name": "stdout",
     "output_type": "stream",
     "text": [
      "[LightGBM] [Warning] min_data_in_leaf is set=5190, min_child_samples=20 will be ignored. Current value: min_data_in_leaf=5190                           \n",
      "[LightGBM] [Warning] min_data_in_leaf is set=5190, min_child_samples=20 will be ignored. Current value: min_data_in_leaf=5190                           \n",
      "[LightGBM] [Warning] min_data_in_leaf is set=5190, min_child_samples=20 will be ignored. Current value: min_data_in_leaf=5190                           \n",
      "[LightGBM] [Warning] min_data_in_leaf is set=590, min_child_samples=20 will be ignored. Current value: min_data_in_leaf=590                             \n",
      " 22%|█████████████████▍                                                             | 22/100 [00:23<01:25,  1.09s/trial, best loss: -0.9444437759567267]"
     ]
    },
    {
     "name": "stderr",
     "output_type": "stream",
     "text": [
      "C:\\Users\\Winter\\anaconda3\\envs\\credit-admission-prediction\\lib\\site-packages\\lightgbm\\basic.py:2065: UserWarning: Using categorical_feature in Dataset.\n",
      "\n"
     ]
    },
    {
     "name": "stdout",
     "output_type": "stream",
     "text": [
      "[LightGBM] [Warning] min_data_in_leaf is set=590, min_child_samples=20 will be ignored. Current value: min_data_in_leaf=590                             \n",
      "[LightGBM] [Warning] min_data_in_leaf is set=590, min_child_samples=20 will be ignored. Current value: min_data_in_leaf=590                             \n",
      "[LightGBM] [Warning] min_data_in_leaf is set=590, min_child_samples=20 will be ignored. Current value: min_data_in_leaf=590                             \n",
      "[LightGBM] [Warning] min_data_in_leaf is set=590, min_child_samples=20 will be ignored. Current value: min_data_in_leaf=590                             \n",
      "[LightGBM] [Warning] min_data_in_leaf is set=9830, min_child_samples=20 will be ignored. Current value: min_data_in_leaf=9830                           \n",
      " 23%|██████████████████▏                                                            | 23/100 [00:25<01:35,  1.24s/trial, best loss: -0.9513462348585605]"
     ]
    },
    {
     "name": "stderr",
     "output_type": "stream",
     "text": [
      "C:\\Users\\Winter\\anaconda3\\envs\\credit-admission-prediction\\lib\\site-packages\\lightgbm\\basic.py:2065: UserWarning: Using categorical_feature in Dataset.\n",
      "\n"
     ]
    },
    {
     "name": "stdout",
     "output_type": "stream",
     "text": [
      "[LightGBM] [Warning] min_data_in_leaf is set=9830, min_child_samples=20 will be ignored. Current value: min_data_in_leaf=9830                           \n",
      "[LightGBM] [Warning] min_data_in_leaf is set=9830, min_child_samples=20 will be ignored. Current value: min_data_in_leaf=9830                           \n",
      "[LightGBM] [Warning] min_data_in_leaf is set=9830, min_child_samples=20 will be ignored. Current value: min_data_in_leaf=9830                           \n",
      "[LightGBM] [Warning] min_data_in_leaf is set=9830, min_child_samples=20 will be ignored. Current value: min_data_in_leaf=9830                           \n",
      "[LightGBM] [Warning] min_data_in_leaf is set=1780, min_child_samples=20 will be ignored. Current value: min_data_in_leaf=1780                           \n",
      " 24%|██████████████████▉                                                            | 24/100 [00:26<01:28,  1.17s/trial, best loss: -0.9513462348585605]"
     ]
    },
    {
     "name": "stderr",
     "output_type": "stream",
     "text": [
      "C:\\Users\\Winter\\anaconda3\\envs\\credit-admission-prediction\\lib\\site-packages\\lightgbm\\basic.py:2065: UserWarning: Using categorical_feature in Dataset.\n",
      "\n"
     ]
    },
    {
     "name": "stdout",
     "output_type": "stream",
     "text": [
      "[LightGBM] [Warning] min_data_in_leaf is set=1780, min_child_samples=20 will be ignored. Current value: min_data_in_leaf=1780                           \n",
      "[LightGBM] [Warning] min_data_in_leaf is set=1780, min_child_samples=20 will be ignored. Current value: min_data_in_leaf=1780                           \n",
      "[LightGBM] [Warning] min_data_in_leaf is set=1780, min_child_samples=20 will be ignored. Current value: min_data_in_leaf=1780                           \n",
      "[LightGBM] [Warning] min_data_in_leaf is set=1780, min_child_samples=20 will be ignored. Current value: min_data_in_leaf=1780                           \n",
      "[LightGBM] [Warning] min_data_in_leaf is set=2460, min_child_samples=20 will be ignored. Current value: min_data_in_leaf=2460                           \n",
      " 25%|███████████████████▊                                                           | 25/100 [00:28<01:41,  1.35s/trial, best loss: -0.9513462348585605]"
     ]
    },
    {
     "name": "stderr",
     "output_type": "stream",
     "text": [
      "C:\\Users\\Winter\\anaconda3\\envs\\credit-admission-prediction\\lib\\site-packages\\lightgbm\\basic.py:2065: UserWarning: Using categorical_feature in Dataset.\n",
      "\n"
     ]
    },
    {
     "name": "stdout",
     "output_type": "stream",
     "text": [
      "[LightGBM] [Warning] min_data_in_leaf is set=2460, min_child_samples=20 will be ignored. Current value: min_data_in_leaf=2460                           \n",
      "[LightGBM] [Warning] min_data_in_leaf is set=2460, min_child_samples=20 will be ignored. Current value: min_data_in_leaf=2460                           \n",
      "[LightGBM] [Warning] min_data_in_leaf is set=2460, min_child_samples=20 will be ignored. Current value: min_data_in_leaf=2460                           \n",
      "[LightGBM] [Warning] min_data_in_leaf is set=2460, min_child_samples=20 will be ignored. Current value: min_data_in_leaf=2460                           \n",
      "[LightGBM] [Warning] min_data_in_leaf is set=5710, min_child_samples=20 will be ignored. Current value: min_data_in_leaf=5710                           \n",
      " 26%|████████████████████▌                                                          | 26/100 [00:29<01:31,  1.24s/trial, best loss: -0.9513462348585605]"
     ]
    },
    {
     "name": "stderr",
     "output_type": "stream",
     "text": [
      "C:\\Users\\Winter\\anaconda3\\envs\\credit-admission-prediction\\lib\\site-packages\\lightgbm\\basic.py:2065: UserWarning: Using categorical_feature in Dataset.\n",
      "\n"
     ]
    },
    {
     "name": "stdout",
     "output_type": "stream",
     "text": [
      "[LightGBM] [Warning] min_data_in_leaf is set=5710, min_child_samples=20 will be ignored. Current value: min_data_in_leaf=5710                           \n",
      "[LightGBM] [Warning] min_data_in_leaf is set=5710, min_child_samples=20 will be ignored. Current value: min_data_in_leaf=5710                           \n",
      "[LightGBM] [Warning] min_data_in_leaf is set=5710, min_child_samples=20 will be ignored. Current value: min_data_in_leaf=5710                           \n",
      "[LightGBM] [Warning] min_data_in_leaf is set=5710, min_child_samples=20 will be ignored. Current value: min_data_in_leaf=5710                           \n",
      "[LightGBM] [Warning] min_data_in_leaf is set=8040, min_child_samples=20 will be ignored. Current value: min_data_in_leaf=8040                           \n",
      "[LightGBM] [Warning] min_data_in_leaf is set=8040, min_child_samples=20 will be ignored. Current value: min_data_in_leaf=8040                           \n",
      " 27%|█████████████████████▎                                                         | 27/100 [00:30<01:27,  1.20s/trial, best loss: -0.9513462348585605]"
     ]
    },
    {
     "name": "stderr",
     "output_type": "stream",
     "text": [
      "C:\\Users\\Winter\\anaconda3\\envs\\credit-admission-prediction\\lib\\site-packages\\lightgbm\\basic.py:2065: UserWarning: Using categorical_feature in Dataset.\n",
      "\n"
     ]
    },
    {
     "name": "stdout",
     "output_type": "stream",
     "text": [
      "[LightGBM] [Warning] min_data_in_leaf is set=8040, min_child_samples=20 will be ignored. Current value: min_data_in_leaf=8040                           \n",
      "[LightGBM] [Warning] min_data_in_leaf is set=8040, min_child_samples=20 will be ignored. Current value: min_data_in_leaf=8040                           \n",
      "[LightGBM] [Warning] min_data_in_leaf is set=8040, min_child_samples=20 will be ignored. Current value: min_data_in_leaf=8040                           \n",
      "[LightGBM] [Warning] min_data_in_leaf is set=6250, min_child_samples=20 will be ignored. Current value: min_data_in_leaf=6250                           \n",
      " 28%|██████████████████████                                                         | 28/100 [00:30<01:15,  1.04s/trial, best loss: -0.9513462348585605]"
     ]
    },
    {
     "name": "stderr",
     "output_type": "stream",
     "text": [
      "C:\\Users\\Winter\\anaconda3\\envs\\credit-admission-prediction\\lib\\site-packages\\lightgbm\\basic.py:2065: UserWarning: Using categorical_feature in Dataset.\n",
      "\n"
     ]
    },
    {
     "name": "stdout",
     "output_type": "stream",
     "text": [
      "[LightGBM] [Warning] min_data_in_leaf is set=6250, min_child_samples=20 will be ignored. Current value: min_data_in_leaf=6250                           \n",
      "[LightGBM] [Warning] min_data_in_leaf is set=6250, min_child_samples=20 will be ignored. Current value: min_data_in_leaf=6250                           \n",
      "[LightGBM] [Warning] min_data_in_leaf is set=6250, min_child_samples=20 will be ignored. Current value: min_data_in_leaf=6250                           \n",
      "[LightGBM] [Warning] min_data_in_leaf is set=6250, min_child_samples=20 will be ignored. Current value: min_data_in_leaf=6250                           \n",
      "[LightGBM] [Warning] min_data_in_leaf is set=3630, min_child_samples=20 will be ignored. Current value: min_data_in_leaf=3630                           \n",
      "[LightGBM] [Warning] min_data_in_leaf is set=3630, min_child_samples=20 will be ignored. Current value: min_data_in_leaf=3630                           \n",
      "[LightGBM] [Warning] min_data_in_leaf is set=3630, min_child_samples=20 will be ignored. Current value: min_data_in_leaf=3630                           \n",
      "[LightGBM] [Warning] min_data_in_leaf is set=3630, min_child_samples=20 will be ignored. Current value: min_data_in_leaf=3630                           \n",
      " 29%|██████████████████████▉                                                        | 29/100 [00:32<01:14,  1.04s/trial, best loss: -0.9513462348585605]"
     ]
    },
    {
     "name": "stderr",
     "output_type": "stream",
     "text": [
      "C:\\Users\\Winter\\anaconda3\\envs\\credit-admission-prediction\\lib\\site-packages\\lightgbm\\basic.py:2065: UserWarning: Using categorical_feature in Dataset.\n",
      "\n"
     ]
    },
    {
     "name": "stdout",
     "output_type": "stream",
     "text": [
      "[LightGBM] [Warning] min_data_in_leaf is set=3630, min_child_samples=20 will be ignored. Current value: min_data_in_leaf=3630                           \n",
      "[LightGBM] [Warning] min_data_in_leaf is set=270, min_child_samples=20 will be ignored. Current value: min_data_in_leaf=270                             \n",
      " 30%|███████████████████████▋                                                       | 30/100 [00:32<01:01,  1.14trial/s, best loss: -0.9513462348585605]"
     ]
    },
    {
     "name": "stderr",
     "output_type": "stream",
     "text": [
      "C:\\Users\\Winter\\anaconda3\\envs\\credit-admission-prediction\\lib\\site-packages\\lightgbm\\basic.py:2065: UserWarning: Using categorical_feature in Dataset.\n",
      "\n"
     ]
    },
    {
     "name": "stdout",
     "output_type": "stream",
     "text": [
      "[LightGBM] [Warning] min_data_in_leaf is set=270, min_child_samples=20 will be ignored. Current value: min_data_in_leaf=270                             \n",
      "[LightGBM] [Warning] min_data_in_leaf is set=270, min_child_samples=20 will be ignored. Current value: min_data_in_leaf=270                             \n",
      "[LightGBM] [Warning] min_data_in_leaf is set=270, min_child_samples=20 will be ignored. Current value: min_data_in_leaf=270                             \n",
      "[LightGBM] [Warning] min_data_in_leaf is set=270, min_child_samples=20 will be ignored. Current value: min_data_in_leaf=270                             \n",
      "[LightGBM] [Warning] min_data_in_leaf is set=7260, min_child_samples=20 will be ignored. Current value: min_data_in_leaf=7260                           \n",
      "[LightGBM] [Warning] min_data_in_leaf is set=7260, min_child_samples=20 will be ignored. Current value: min_data_in_leaf=7260                           \n",
      "[LightGBM] [Warning] min_data_in_leaf is set=7260, min_child_samples=20 will be ignored. Current value: min_data_in_leaf=7260                           \n",
      "[LightGBM] [Warning] min_data_in_leaf is set=7260, min_child_samples=20 will be ignored. Current value: min_data_in_leaf=7260                           \n",
      " 31%|████████████████████████▍                                                      | 31/100 [00:36<02:02,  1.78s/trial, best loss: -0.9726512496471532]"
     ]
    },
    {
     "name": "stderr",
     "output_type": "stream",
     "text": [
      "C:\\Users\\Winter\\anaconda3\\envs\\credit-admission-prediction\\lib\\site-packages\\lightgbm\\basic.py:2065: UserWarning: Using categorical_feature in Dataset.\n",
      "\n"
     ]
    },
    {
     "name": "stdout",
     "output_type": "stream",
     "text": [
      "[LightGBM] [Warning] min_data_in_leaf is set=7260, min_child_samples=20 will be ignored. Current value: min_data_in_leaf=7260                           \n",
      "[LightGBM] [Warning] min_data_in_leaf is set=6450, min_child_samples=20 will be ignored. Current value: min_data_in_leaf=6450                           \n",
      "[LightGBM] [Warning] min_data_in_leaf is set=6450, min_child_samples=20 will be ignored. Current value: min_data_in_leaf=6450                           \n",
      "[LightGBM] [Warning] min_data_in_leaf is set=6450, min_child_samples=20 will be ignored. Current value: min_data_in_leaf=6450                           \n",
      "[LightGBM] [Warning] min_data_in_leaf is set=6450, min_child_samples=20 will be ignored. Current value: min_data_in_leaf=6450                           \n",
      "[LightGBM] [Warning] min_data_in_leaf is set=6450, min_child_samples=20 will be ignored. Current value: min_data_in_leaf=6450                           \n",
      " 33%|██████████████████████████                                                     | 33/100 [00:36<01:12,  1.08s/trial, best loss: -0.9726512496471532]"
     ]
    },
    {
     "name": "stderr",
     "output_type": "stream",
     "text": [
      "C:\\Users\\Winter\\anaconda3\\envs\\credit-admission-prediction\\lib\\site-packages\\lightgbm\\basic.py:2065: UserWarning: Using categorical_feature in Dataset.\n",
      "\n"
     ]
    },
    {
     "name": "stdout",
     "output_type": "stream",
     "text": [
      "[LightGBM] [Warning] min_data_in_leaf is set=400, min_child_samples=20 will be ignored. Current value: min_data_in_leaf=400                             \n",
      " 33%|██████████████████████████                                                     | 33/100 [00:37<01:12,  1.08s/trial, best loss: -0.9726512496471532]"
     ]
    },
    {
     "name": "stderr",
     "output_type": "stream",
     "text": [
      "C:\\Users\\Winter\\anaconda3\\envs\\credit-admission-prediction\\lib\\site-packages\\lightgbm\\basic.py:2065: UserWarning: Using categorical_feature in Dataset.\n",
      "\n"
     ]
    },
    {
     "name": "stdout",
     "output_type": "stream",
     "text": [
      "[LightGBM] [Warning] min_data_in_leaf is set=400, min_child_samples=20 will be ignored. Current value: min_data_in_leaf=400                             \n",
      "[LightGBM] [Warning] min_data_in_leaf is set=400, min_child_samples=20 will be ignored. Current value: min_data_in_leaf=400                             \n",
      "[LightGBM] [Warning] min_data_in_leaf is set=400, min_child_samples=20 will be ignored. Current value: min_data_in_leaf=400                             \n",
      "[LightGBM] [Warning] min_data_in_leaf is set=400, min_child_samples=20 will be ignored. Current value: min_data_in_leaf=400                             \n",
      "[LightGBM] [Warning] min_data_in_leaf is set=5250, min_child_samples=20 will be ignored. Current value: min_data_in_leaf=5250                           \n",
      "[LightGBM] [Warning] min_data_in_leaf is set=5250, min_child_samples=20 will be ignored. Current value: min_data_in_leaf=5250                           \n",
      "[LightGBM] [Warning] min_data_in_leaf is set=5250, min_child_samples=20 will be ignored. Current value: min_data_in_leaf=5250                           \n",
      " 34%|██████████████████████████▊                                                    | 34/100 [00:41<02:07,  1.94s/trial, best loss: -0.9726512496471532]"
     ]
    },
    {
     "name": "stderr",
     "output_type": "stream",
     "text": [
      "C:\\Users\\Winter\\anaconda3\\envs\\credit-admission-prediction\\lib\\site-packages\\lightgbm\\basic.py:2065: UserWarning: Using categorical_feature in Dataset.\n",
      "\n"
     ]
    },
    {
     "name": "stdout",
     "output_type": "stream",
     "text": [
      "[LightGBM] [Warning] min_data_in_leaf is set=5250, min_child_samples=20 will be ignored. Current value: min_data_in_leaf=5250                           \n",
      "[LightGBM] [Warning] min_data_in_leaf is set=5250, min_child_samples=20 will be ignored. Current value: min_data_in_leaf=5250                           \n",
      "[LightGBM] [Warning] min_data_in_leaf is set=270, min_child_samples=20 will be ignored. Current value: min_data_in_leaf=270                             \n",
      " 35%|███████████████████████████▋                                                   | 35/100 [00:41<01:38,  1.52s/trial, best loss: -0.9726512496471532]"
     ]
    },
    {
     "name": "stderr",
     "output_type": "stream",
     "text": [
      "C:\\Users\\Winter\\anaconda3\\envs\\credit-admission-prediction\\lib\\site-packages\\lightgbm\\basic.py:2065: UserWarning: Using categorical_feature in Dataset.\n",
      "\n"
     ]
    },
    {
     "name": "stdout",
     "output_type": "stream",
     "text": [
      "[LightGBM] [Warning] min_data_in_leaf is set=270, min_child_samples=20 will be ignored. Current value: min_data_in_leaf=270                             \n",
      "[LightGBM] [Warning] min_data_in_leaf is set=270, min_child_samples=20 will be ignored. Current value: min_data_in_leaf=270                             \n",
      "[LightGBM] [Warning] min_data_in_leaf is set=270, min_child_samples=20 will be ignored. Current value: min_data_in_leaf=270                             \n",
      "[LightGBM] [Warning] min_data_in_leaf is set=270, min_child_samples=20 will be ignored. Current value: min_data_in_leaf=270                             \n",
      "[LightGBM] [Warning] min_data_in_leaf is set=1040, min_child_samples=20 will be ignored. Current value: min_data_in_leaf=1040                           \n",
      "                                                                                                                                                        "
     ]
    },
    {
     "name": "stderr",
     "output_type": "stream",
     "text": [
      "C:\\Users\\Winter\\anaconda3\\envs\\credit-admission-prediction\\lib\\site-packages\\lightgbm\\basic.py:2065: UserWarning: Using categorical_feature in Dataset.\n",
      "\n"
     ]
    },
    {
     "name": "stdout",
     "output_type": "stream",
     "text": [
      "[LightGBM] [Warning] min_data_in_leaf is set=1040, min_child_samples=20 will be ignored. Current value: min_data_in_leaf=1040\n",
      "[LightGBM] [Warning] min_data_in_leaf is set=1040, min_child_samples=20 will be ignored. Current value: min_data_in_leaf=1040                           \n",
      "[LightGBM] [Warning] min_data_in_leaf is set=1040, min_child_samples=20 will be ignored. Current value: min_data_in_leaf=1040                           \n",
      "[LightGBM] [Warning] min_data_in_leaf is set=1040, min_child_samples=20 will be ignored. Current value: min_data_in_leaf=1040                           \n",
      "[LightGBM] [Warning] min_data_in_leaf is set=3700, min_child_samples=20 will be ignored. Current value: min_data_in_leaf=3700                           \n",
      "[LightGBM] [Warning] min_data_in_leaf is set=3700, min_child_samples=20 will be ignored. Current value: min_data_in_leaf=3700                           \n",
      "[LightGBM] [Warning] min_data_in_leaf is set=3700, min_child_samples=20 will be ignored. Current value: min_data_in_leaf=3700                           \n",
      " 37%|█████████████████████████████▏                                                 | 37/100 [00:44<01:32,  1.47s/trial, best loss: -0.9726512496471532]"
     ]
    },
    {
     "name": "stderr",
     "output_type": "stream",
     "text": [
      "C:\\Users\\Winter\\anaconda3\\envs\\credit-admission-prediction\\lib\\site-packages\\lightgbm\\basic.py:2065: UserWarning: Using categorical_feature in Dataset.\n",
      "\n"
     ]
    },
    {
     "name": "stdout",
     "output_type": "stream",
     "text": [
      "[LightGBM] [Warning] min_data_in_leaf is set=3700, min_child_samples=20 will be ignored. Current value: min_data_in_leaf=3700                           \n",
      "[LightGBM] [Warning] min_data_in_leaf is set=3700, min_child_samples=20 will be ignored. Current value: min_data_in_leaf=3700                           \n",
      "[LightGBM] [Warning] min_data_in_leaf is set=8310, min_child_samples=20 will be ignored. Current value: min_data_in_leaf=8310                           \n",
      "[LightGBM] [Warning] min_data_in_leaf is set=8310, min_child_samples=20 will be ignored. Current value: min_data_in_leaf=8310                           \n",
      " 38%|██████████████████████████████                                                 | 38/100 [00:45<01:14,  1.20s/trial, best loss: -0.9726512496471532]"
     ]
    },
    {
     "name": "stderr",
     "output_type": "stream",
     "text": [
      "C:\\Users\\Winter\\anaconda3\\envs\\credit-admission-prediction\\lib\\site-packages\\lightgbm\\basic.py:2065: UserWarning: Using categorical_feature in Dataset.\n",
      "\n"
     ]
    },
    {
     "name": "stdout",
     "output_type": "stream",
     "text": [
      "[LightGBM] [Warning] min_data_in_leaf is set=8310, min_child_samples=20 will be ignored. Current value: min_data_in_leaf=8310                           \n",
      "[LightGBM] [Warning] min_data_in_leaf is set=8310, min_child_samples=20 will be ignored. Current value: min_data_in_leaf=8310                           \n",
      "[LightGBM] [Warning] min_data_in_leaf is set=8310, min_child_samples=20 will be ignored. Current value: min_data_in_leaf=8310                           \n",
      "[LightGBM] [Warning] min_data_in_leaf is set=5150, min_child_samples=20 will be ignored. Current value: min_data_in_leaf=5150                           \n",
      " 39%|██████████████████████████████▊                                                | 39/100 [00:46<01:06,  1.09s/trial, best loss: -0.9726512496471532]"
     ]
    },
    {
     "name": "stderr",
     "output_type": "stream",
     "text": [
      "C:\\Users\\Winter\\anaconda3\\envs\\credit-admission-prediction\\lib\\site-packages\\lightgbm\\basic.py:2065: UserWarning: Using categorical_feature in Dataset.\n",
      "\n"
     ]
    },
    {
     "name": "stdout",
     "output_type": "stream",
     "text": [
      "[LightGBM] [Warning] min_data_in_leaf is set=5150, min_child_samples=20 will be ignored. Current value: min_data_in_leaf=5150                           \n",
      "[LightGBM] [Warning] min_data_in_leaf is set=5150, min_child_samples=20 will be ignored. Current value: min_data_in_leaf=5150                           \n",
      "[LightGBM] [Warning] min_data_in_leaf is set=5150, min_child_samples=20 will be ignored. Current value: min_data_in_leaf=5150                           \n",
      "[LightGBM] [Warning] min_data_in_leaf is set=5150, min_child_samples=20 will be ignored. Current value: min_data_in_leaf=5150                           \n",
      "[LightGBM] [Warning] min_data_in_leaf is set=270, min_child_samples=20 will be ignored. Current value: min_data_in_leaf=270                             \n",
      " 40%|███████████████████████████████▌                                               | 40/100 [00:47<01:02,  1.05s/trial, best loss: -0.9726512496471532]"
     ]
    },
    {
     "name": "stderr",
     "output_type": "stream",
     "text": [
      "C:\\Users\\Winter\\anaconda3\\envs\\credit-admission-prediction\\lib\\site-packages\\lightgbm\\basic.py:2065: UserWarning: Using categorical_feature in Dataset.\n",
      "\n"
     ]
    },
    {
     "name": "stdout",
     "output_type": "stream",
     "text": [
      "[LightGBM] [Warning] min_data_in_leaf is set=270, min_child_samples=20 will be ignored. Current value: min_data_in_leaf=270                             \n",
      "[LightGBM] [Warning] min_data_in_leaf is set=270, min_child_samples=20 will be ignored. Current value: min_data_in_leaf=270                             \n",
      "[LightGBM] [Warning] min_data_in_leaf is set=270, min_child_samples=20 will be ignored. Current value: min_data_in_leaf=270                             \n",
      "[LightGBM] [Warning] min_data_in_leaf is set=270, min_child_samples=20 will be ignored. Current value: min_data_in_leaf=270                             \n",
      "[LightGBM] [Warning] min_data_in_leaf is set=7310, min_child_samples=20 will be ignored. Current value: min_data_in_leaf=7310                           \n",
      " 41%|████████████████████████████████▍                                              | 41/100 [00:49<01:29,  1.52s/trial, best loss: -0.9726512496471532]"
     ]
    },
    {
     "name": "stderr",
     "output_type": "stream",
     "text": [
      "C:\\Users\\Winter\\anaconda3\\envs\\credit-admission-prediction\\lib\\site-packages\\lightgbm\\basic.py:2065: UserWarning: Using categorical_feature in Dataset.\n",
      "\n"
     ]
    },
    {
     "name": "stdout",
     "output_type": "stream",
     "text": [
      "[LightGBM] [Warning] min_data_in_leaf is set=7310, min_child_samples=20 will be ignored. Current value: min_data_in_leaf=7310                           \n",
      "[LightGBM] [Warning] min_data_in_leaf is set=7310, min_child_samples=20 will be ignored. Current value: min_data_in_leaf=7310                           \n",
      "[LightGBM] [Warning] min_data_in_leaf is set=7310, min_child_samples=20 will be ignored. Current value: min_data_in_leaf=7310                           \n",
      "[LightGBM] [Warning] min_data_in_leaf is set=7310, min_child_samples=20 will be ignored. Current value: min_data_in_leaf=7310                           \n",
      "[LightGBM] [Warning] min_data_in_leaf is set=3880, min_child_samples=20 will be ignored. Current value: min_data_in_leaf=3880                           \n",
      "[LightGBM] [Warning] min_data_in_leaf is set=3880, min_child_samples=20 will be ignored. Current value: min_data_in_leaf=3880                           \n",
      "[LightGBM] [Warning] min_data_in_leaf is set=3880, min_child_samples=20 will be ignored. Current value: min_data_in_leaf=3880                           \n",
      " 42%|█████████████████████████████████▏                                             | 42/100 [00:50<01:19,  1.38s/trial, best loss: -0.9726512496471532]"
     ]
    },
    {
     "name": "stderr",
     "output_type": "stream",
     "text": [
      "C:\\Users\\Winter\\anaconda3\\envs\\credit-admission-prediction\\lib\\site-packages\\lightgbm\\basic.py:2065: UserWarning: Using categorical_feature in Dataset.\n",
      "\n"
     ]
    },
    {
     "name": "stdout",
     "output_type": "stream",
     "text": [
      "[LightGBM] [Warning] min_data_in_leaf is set=3880, min_child_samples=20 will be ignored. Current value: min_data_in_leaf=3880                           \n",
      "[LightGBM] [Warning] min_data_in_leaf is set=3880, min_child_samples=20 will be ignored. Current value: min_data_in_leaf=3880                           \n",
      "[LightGBM] [Warning] min_data_in_leaf is set=2050, min_child_samples=20 will be ignored. Current value: min_data_in_leaf=2050                           \n",
      "[LightGBM] [Warning] min_data_in_leaf is set=2050, min_child_samples=20 will be ignored. Current value: min_data_in_leaf=2050                           \n",
      "[LightGBM] [Warning] min_data_in_leaf is set=2050, min_child_samples=20 will be ignored. Current value: min_data_in_leaf=2050                           \n",
      "[LightGBM] [Warning] min_data_in_leaf is set=2050, min_child_samples=20 will be ignored. Current value: min_data_in_leaf=2050                           \n",
      "[LightGBM] [Warning] min_data_in_leaf is set=2050, min_child_samples=20 will be ignored. Current value: min_data_in_leaf=2050                           \n",
      " 44%|██████████████████████████████████▊                                            | 44/100 [00:51<00:50,  1.10trial/s, best loss: -0.9726512496471532]"
     ]
    },
    {
     "name": "stderr",
     "output_type": "stream",
     "text": [
      "C:\\Users\\Winter\\anaconda3\\envs\\credit-admission-prediction\\lib\\site-packages\\lightgbm\\basic.py:2065: UserWarning: Using categorical_feature in Dataset.\n",
      "\n"
     ]
    },
    {
     "name": "stdout",
     "output_type": "stream",
     "text": [
      "[LightGBM] [Warning] min_data_in_leaf is set=690, min_child_samples=20 will be ignored. Current value: min_data_in_leaf=690                             \n",
      " 44%|██████████████████████████████████▊                                            | 44/100 [00:51<00:50,  1.10trial/s, best loss: -0.9726512496471532]"
     ]
    },
    {
     "name": "stderr",
     "output_type": "stream",
     "text": [
      "C:\\Users\\Winter\\anaconda3\\envs\\credit-admission-prediction\\lib\\site-packages\\lightgbm\\basic.py:2065: UserWarning: Using categorical_feature in Dataset.\n",
      "\n"
     ]
    },
    {
     "name": "stdout",
     "output_type": "stream",
     "text": [
      "[LightGBM] [Warning] min_data_in_leaf is set=690, min_child_samples=20 will be ignored. Current value: min_data_in_leaf=690                             \n",
      "[LightGBM] [Warning] min_data_in_leaf is set=690, min_child_samples=20 will be ignored. Current value: min_data_in_leaf=690                             \n",
      "[LightGBM] [Warning] min_data_in_leaf is set=690, min_child_samples=20 will be ignored. Current value: min_data_in_leaf=690                             \n",
      "[LightGBM] [Warning] min_data_in_leaf is set=690, min_child_samples=20 will be ignored. Current value: min_data_in_leaf=690                             \n",
      "[LightGBM] [Warning] min_data_in_leaf is set=7920, min_child_samples=20 will be ignored. Current value: min_data_in_leaf=7920                           \n",
      "[LightGBM] [Warning] min_data_in_leaf is set=7920, min_child_samples=20 will be ignored. Current value: min_data_in_leaf=7920                           \n",
      "[LightGBM] [Warning] min_data_in_leaf is set=7920, min_child_samples=20 will be ignored. Current value: min_data_in_leaf=7920                           \n",
      " 45%|███████████████████████████████████▌                                           | 45/100 [00:54<01:20,  1.46s/trial, best loss: -0.9726512496471532]"
     ]
    },
    {
     "name": "stderr",
     "output_type": "stream",
     "text": [
      "C:\\Users\\Winter\\anaconda3\\envs\\credit-admission-prediction\\lib\\site-packages\\lightgbm\\basic.py:2065: UserWarning: Using categorical_feature in Dataset.\n",
      "\n"
     ]
    },
    {
     "name": "stdout",
     "output_type": "stream",
     "text": [
      "[LightGBM] [Warning] min_data_in_leaf is set=7920, min_child_samples=20 will be ignored. Current value: min_data_in_leaf=7920                           \n",
      "[LightGBM] [Warning] min_data_in_leaf is set=7920, min_child_samples=20 will be ignored. Current value: min_data_in_leaf=7920                           \n",
      "[LightGBM] [Warning] min_data_in_leaf is set=1470, min_child_samples=20 will be ignored. Current value: min_data_in_leaf=1470                           \n",
      " 46%|████████████████████████████████████▎                                          | 46/100 [00:55<01:04,  1.20s/trial, best loss: -0.9726512496471532]"
     ]
    },
    {
     "name": "stderr",
     "output_type": "stream",
     "text": [
      "C:\\Users\\Winter\\anaconda3\\envs\\credit-admission-prediction\\lib\\site-packages\\lightgbm\\basic.py:2065: UserWarning: Using categorical_feature in Dataset.\n",
      "\n"
     ]
    },
    {
     "name": "stdout",
     "output_type": "stream",
     "text": [
      "[LightGBM] [Warning] min_data_in_leaf is set=1470, min_child_samples=20 will be ignored. Current value: min_data_in_leaf=1470                           \n",
      "[LightGBM] [Warning] min_data_in_leaf is set=1470, min_child_samples=20 will be ignored. Current value: min_data_in_leaf=1470                           \n",
      "[LightGBM] [Warning] min_data_in_leaf is set=1470, min_child_samples=20 will be ignored. Current value: min_data_in_leaf=1470                           \n",
      "[LightGBM] [Warning] min_data_in_leaf is set=1470, min_child_samples=20 will be ignored. Current value: min_data_in_leaf=1470                           \n",
      "[LightGBM] [Warning] min_data_in_leaf is set=4540, min_child_samples=20 will be ignored. Current value: min_data_in_leaf=4540                           \n",
      " 47%|█████████████████████████████████████▏                                         | 47/100 [00:56<01:00,  1.15s/trial, best loss: -0.9726512496471532]"
     ]
    },
    {
     "name": "stderr",
     "output_type": "stream",
     "text": [
      "C:\\Users\\Winter\\anaconda3\\envs\\credit-admission-prediction\\lib\\site-packages\\lightgbm\\basic.py:2065: UserWarning: Using categorical_feature in Dataset.\n",
      "\n"
     ]
    },
    {
     "name": "stdout",
     "output_type": "stream",
     "text": [
      "[LightGBM] [Warning] min_data_in_leaf is set=4540, min_child_samples=20 will be ignored. Current value: min_data_in_leaf=4540                           \n",
      "[LightGBM] [Warning] min_data_in_leaf is set=4540, min_child_samples=20 will be ignored. Current value: min_data_in_leaf=4540                           \n",
      "[LightGBM] [Warning] min_data_in_leaf is set=4540, min_child_samples=20 will be ignored. Current value: min_data_in_leaf=4540                           \n",
      "[LightGBM] [Warning] min_data_in_leaf is set=4540, min_child_samples=20 will be ignored. Current value: min_data_in_leaf=4540                           \n",
      "[LightGBM] [Warning] min_data_in_leaf is set=270, min_child_samples=20 will be ignored. Current value: min_data_in_leaf=270                             \n",
      " 48%|█████████████████████████████████████▉                                         | 48/100 [00:57<00:56,  1.08s/trial, best loss: -0.9726512496471532]"
     ]
    },
    {
     "name": "stderr",
     "output_type": "stream",
     "text": [
      "C:\\Users\\Winter\\anaconda3\\envs\\credit-admission-prediction\\lib\\site-packages\\lightgbm\\basic.py:2065: UserWarning: Using categorical_feature in Dataset.\n",
      "\n"
     ]
    },
    {
     "name": "stdout",
     "output_type": "stream",
     "text": [
      "[LightGBM] [Warning] min_data_in_leaf is set=270, min_child_samples=20 will be ignored. Current value: min_data_in_leaf=270                             \n",
      "[LightGBM] [Warning] min_data_in_leaf is set=270, min_child_samples=20 will be ignored. Current value: min_data_in_leaf=270                             \n",
      "[LightGBM] [Warning] min_data_in_leaf is set=270, min_child_samples=20 will be ignored. Current value: min_data_in_leaf=270                             \n",
      "[LightGBM] [Warning] min_data_in_leaf is set=270, min_child_samples=20 will be ignored. Current value: min_data_in_leaf=270                             \n",
      "[LightGBM] [Warning] min_data_in_leaf is set=7940, min_child_samples=20 will be ignored. Current value: min_data_in_leaf=7940                           \n",
      " 49%|██████████████████████████████████████▋                                        | 49/100 [01:00<01:27,  1.72s/trial, best loss: -0.9726512496471532]"
     ]
    },
    {
     "name": "stderr",
     "output_type": "stream",
     "text": [
      "C:\\Users\\Winter\\anaconda3\\envs\\credit-admission-prediction\\lib\\site-packages\\lightgbm\\basic.py:2065: UserWarning: Using categorical_feature in Dataset.\n",
      "\n"
     ]
    },
    {
     "name": "stdout",
     "output_type": "stream",
     "text": [
      "[LightGBM] [Warning] min_data_in_leaf is set=7940, min_child_samples=20 will be ignored. Current value: min_data_in_leaf=7940                           \n",
      "[LightGBM] [Warning] min_data_in_leaf is set=7940, min_child_samples=20 will be ignored. Current value: min_data_in_leaf=7940                           \n",
      "[LightGBM] [Warning] min_data_in_leaf is set=7940, min_child_samples=20 will be ignored. Current value: min_data_in_leaf=7940                           \n",
      "[LightGBM] [Warning] min_data_in_leaf is set=7940, min_child_samples=20 will be ignored. Current value: min_data_in_leaf=7940                           \n",
      "[LightGBM] [Warning] min_data_in_leaf is set=4730, min_child_samples=20 will be ignored. Current value: min_data_in_leaf=4730                           \n",
      " 50%|███████████████████████████████████████▌                                       | 50/100 [01:01<01:15,  1.52s/trial, best loss: -0.9726512496471532]"
     ]
    },
    {
     "name": "stderr",
     "output_type": "stream",
     "text": [
      "C:\\Users\\Winter\\anaconda3\\envs\\credit-admission-prediction\\lib\\site-packages\\lightgbm\\basic.py:2065: UserWarning: Using categorical_feature in Dataset.\n",
      "\n"
     ]
    },
    {
     "name": "stdout",
     "output_type": "stream",
     "text": [
      "[LightGBM] [Warning] min_data_in_leaf is set=4730, min_child_samples=20 will be ignored. Current value: min_data_in_leaf=4730                           \n",
      "[LightGBM] [Warning] min_data_in_leaf is set=4730, min_child_samples=20 will be ignored. Current value: min_data_in_leaf=4730                           \n",
      "[LightGBM] [Warning] min_data_in_leaf is set=4730, min_child_samples=20 will be ignored. Current value: min_data_in_leaf=4730                           \n",
      "[LightGBM] [Warning] min_data_in_leaf is set=4730, min_child_samples=20 will be ignored. Current value: min_data_in_leaf=4730                           \n",
      "[LightGBM] [Warning] min_data_in_leaf is set=6300, min_child_samples=20 will be ignored. Current value: min_data_in_leaf=6300                           \n",
      "[LightGBM] [Warning] min_data_in_leaf is set=6300, min_child_samples=20 will be ignored. Current value: min_data_in_leaf=6300                           \n",
      "[LightGBM] [Warning] min_data_in_leaf is set=6300, min_child_samples=20 will be ignored. Current value: min_data_in_leaf=6300                           \n",
      "[LightGBM] [Warning] min_data_in_leaf is set=6300, min_child_samples=20 will be ignored. Current value: min_data_in_leaf=6300                           \n",
      " 51%|████████████████████████████████████████▎                                      | 51/100 [01:02<01:03,  1.30s/trial, best loss: -0.9726512496471532]"
     ]
    },
    {
     "name": "stderr",
     "output_type": "stream",
     "text": [
      "C:\\Users\\Winter\\anaconda3\\envs\\credit-admission-prediction\\lib\\site-packages\\lightgbm\\basic.py:2065: UserWarning: Using categorical_feature in Dataset.\n",
      "\n"
     ]
    },
    {
     "name": "stdout",
     "output_type": "stream",
     "text": [
      "[LightGBM] [Warning] min_data_in_leaf is set=6300, min_child_samples=20 will be ignored. Current value: min_data_in_leaf=6300                           \n",
      "[LightGBM] [Warning] min_data_in_leaf is set=990, min_child_samples=20 will be ignored. Current value: min_data_in_leaf=990                             \n",
      "[LightGBM] [Warning] min_data_in_leaf is set=990, min_child_samples=20 will be ignored. Current value: min_data_in_leaf=990                             \n",
      "[LightGBM] [Warning] min_data_in_leaf is set=990, min_child_samples=20 will be ignored. Current value: min_data_in_leaf=990                             \n",
      " 52%|█████████████████████████████████████████                                      | 52/100 [01:02<00:50,  1.06s/trial, best loss: -0.9726512496471532]"
     ]
    },
    {
     "name": "stderr",
     "output_type": "stream",
     "text": [
      "C:\\Users\\Winter\\anaconda3\\envs\\credit-admission-prediction\\lib\\site-packages\\lightgbm\\basic.py:2065: UserWarning: Using categorical_feature in Dataset.\n",
      "\n"
     ]
    },
    {
     "name": "stdout",
     "output_type": "stream",
     "text": [
      "[LightGBM] [Warning] min_data_in_leaf is set=990, min_child_samples=20 will be ignored. Current value: min_data_in_leaf=990                             \n",
      "[LightGBM] [Warning] min_data_in_leaf is set=990, min_child_samples=20 will be ignored. Current value: min_data_in_leaf=990                             \n",
      "[LightGBM] [Warning] min_data_in_leaf is set=8660, min_child_samples=20 will be ignored. Current value: min_data_in_leaf=8660                           \n",
      " 53%|█████████████████████████████████████████▊                                     | 53/100 [01:03<00:42,  1.10trial/s, best loss: -0.9726512496471532]"
     ]
    },
    {
     "name": "stderr",
     "output_type": "stream",
     "text": [
      "C:\\Users\\Winter\\anaconda3\\envs\\credit-admission-prediction\\lib\\site-packages\\lightgbm\\basic.py:2065: UserWarning: Using categorical_feature in Dataset.\n",
      "\n"
     ]
    },
    {
     "name": "stdout",
     "output_type": "stream",
     "text": [
      "[LightGBM] [Warning] min_data_in_leaf is set=8660, min_child_samples=20 will be ignored. Current value: min_data_in_leaf=8660                           \n",
      "[LightGBM] [Warning] min_data_in_leaf is set=8660, min_child_samples=20 will be ignored. Current value: min_data_in_leaf=8660                           \n",
      "[LightGBM] [Warning] min_data_in_leaf is set=8660, min_child_samples=20 will be ignored. Current value: min_data_in_leaf=8660                           \n",
      "[LightGBM] [Warning] min_data_in_leaf is set=8660, min_child_samples=20 will be ignored. Current value: min_data_in_leaf=8660                           \n",
      "[LightGBM] [Warning] min_data_in_leaf is set=730, min_child_samples=20 will be ignored. Current value: min_data_in_leaf=730                             \n",
      " 54%|██████████████████████████████████████████▋                                    | 54/100 [01:04<00:42,  1.08trial/s, best loss: -0.9726512496471532]"
     ]
    },
    {
     "name": "stderr",
     "output_type": "stream",
     "text": [
      "C:\\Users\\Winter\\anaconda3\\envs\\credit-admission-prediction\\lib\\site-packages\\lightgbm\\basic.py:2065: UserWarning: Using categorical_feature in Dataset.\n",
      "\n"
     ]
    },
    {
     "name": "stdout",
     "output_type": "stream",
     "text": [
      "[LightGBM] [Warning] min_data_in_leaf is set=730, min_child_samples=20 will be ignored. Current value: min_data_in_leaf=730                             \n",
      "[LightGBM] [Warning] min_data_in_leaf is set=730, min_child_samples=20 will be ignored. Current value: min_data_in_leaf=730                             \n",
      "[LightGBM] [Warning] min_data_in_leaf is set=730, min_child_samples=20 will be ignored. Current value: min_data_in_leaf=730                             \n",
      "[LightGBM] [Warning] min_data_in_leaf is set=730, min_child_samples=20 will be ignored. Current value: min_data_in_leaf=730                             \n",
      "[LightGBM] [Warning] min_data_in_leaf is set=4740, min_child_samples=20 will be ignored. Current value: min_data_in_leaf=4740                           \n",
      " 55%|███████████████████████████████████████████▍                                   | 55/100 [01:06<00:58,  1.29s/trial, best loss: -0.9726512496471532]"
     ]
    },
    {
     "name": "stderr",
     "output_type": "stream",
     "text": [
      "C:\\Users\\Winter\\anaconda3\\envs\\credit-admission-prediction\\lib\\site-packages\\lightgbm\\basic.py:2065: UserWarning: Using categorical_feature in Dataset.\n",
      "\n"
     ]
    },
    {
     "name": "stdout",
     "output_type": "stream",
     "text": [
      "[LightGBM] [Warning] min_data_in_leaf is set=4740, min_child_samples=20 will be ignored. Current value: min_data_in_leaf=4740                           \n",
      "[LightGBM] [Warning] min_data_in_leaf is set=4740, min_child_samples=20 will be ignored. Current value: min_data_in_leaf=4740                           \n",
      "[LightGBM] [Warning] min_data_in_leaf is set=4740, min_child_samples=20 will be ignored. Current value: min_data_in_leaf=4740                           \n",
      "[LightGBM] [Warning] min_data_in_leaf is set=4740, min_child_samples=20 will be ignored. Current value: min_data_in_leaf=4740                           \n",
      "[LightGBM] [Warning] min_data_in_leaf is set=4790, min_child_samples=20 will be ignored. Current value: min_data_in_leaf=4790                           \n",
      " 56%|████████████████████████████████████████████▏                                  | 56/100 [01:07<00:54,  1.24s/trial, best loss: -0.9726512496471532]"
     ]
    },
    {
     "name": "stderr",
     "output_type": "stream",
     "text": [
      "C:\\Users\\Winter\\anaconda3\\envs\\credit-admission-prediction\\lib\\site-packages\\lightgbm\\basic.py:2065: UserWarning: Using categorical_feature in Dataset.\n",
      "\n"
     ]
    },
    {
     "name": "stdout",
     "output_type": "stream",
     "text": [
      "[LightGBM] [Warning] min_data_in_leaf is set=4790, min_child_samples=20 will be ignored. Current value: min_data_in_leaf=4790                           \n",
      "[LightGBM] [Warning] min_data_in_leaf is set=4790, min_child_samples=20 will be ignored. Current value: min_data_in_leaf=4790                           \n",
      "[LightGBM] [Warning] min_data_in_leaf is set=4790, min_child_samples=20 will be ignored. Current value: min_data_in_leaf=4790                           \n",
      "[LightGBM] [Warning] min_data_in_leaf is set=4790, min_child_samples=20 will be ignored. Current value: min_data_in_leaf=4790                           \n",
      "[LightGBM] [Warning] min_data_in_leaf is set=6200, min_child_samples=20 will be ignored. Current value: min_data_in_leaf=6200                           \n",
      "[LightGBM] [Warning] min_data_in_leaf is set=6200, min_child_samples=20 will be ignored. Current value: min_data_in_leaf=6200                           \n",
      "[LightGBM] [Warning] min_data_in_leaf is set=6200, min_child_samples=20 will be ignored. Current value: min_data_in_leaf=6200                           \n",
      " 57%|█████████████████████████████████████████████                                  | 57/100 [01:08<00:51,  1.19s/trial, best loss: -0.9726512496471532]"
     ]
    },
    {
     "name": "stderr",
     "output_type": "stream",
     "text": [
      "C:\\Users\\Winter\\anaconda3\\envs\\credit-admission-prediction\\lib\\site-packages\\lightgbm\\basic.py:2065: UserWarning: Using categorical_feature in Dataset.\n",
      "\n"
     ]
    },
    {
     "name": "stdout",
     "output_type": "stream",
     "text": [
      "[LightGBM] [Warning] min_data_in_leaf is set=6200, min_child_samples=20 will be ignored. Current value: min_data_in_leaf=6200                           \n",
      "[LightGBM] [Warning] min_data_in_leaf is set=6200, min_child_samples=20 will be ignored. Current value: min_data_in_leaf=6200                           \n",
      "[LightGBM] [Warning] min_data_in_leaf is set=7490, min_child_samples=20 will be ignored. Current value: min_data_in_leaf=7490                           \n",
      "[LightGBM] [Warning] min_data_in_leaf is set=7490, min_child_samples=20 will be ignored. Current value: min_data_in_leaf=7490                           \n",
      "[LightGBM] [Warning] min_data_in_leaf is set=7490, min_child_samples=20 will be ignored. Current value: min_data_in_leaf=7490                           \n",
      " 58%|█████████████████████████████████████████████▊                                 | 58/100 [01:09<00:42,  1.01s/trial, best loss: -0.9726512496471532]"
     ]
    },
    {
     "name": "stderr",
     "output_type": "stream",
     "text": [
      "C:\\Users\\Winter\\anaconda3\\envs\\credit-admission-prediction\\lib\\site-packages\\lightgbm\\basic.py:2065: UserWarning: Using categorical_feature in Dataset.\n",
      "\n"
     ]
    },
    {
     "name": "stdout",
     "output_type": "stream",
     "text": [
      "[LightGBM] [Warning] min_data_in_leaf is set=7490, min_child_samples=20 will be ignored. Current value: min_data_in_leaf=7490                           \n",
      "[LightGBM] [Warning] min_data_in_leaf is set=7490, min_child_samples=20 will be ignored. Current value: min_data_in_leaf=7490                           \n",
      "[LightGBM] [Warning] min_data_in_leaf is set=8030, min_child_samples=20 will be ignored. Current value: min_data_in_leaf=8030                           \n",
      " 59%|██████████████████████████████████████████████▌                                | 59/100 [01:09<00:35,  1.16trial/s, best loss: -0.9726512496471532]"
     ]
    },
    {
     "name": "stderr",
     "output_type": "stream",
     "text": [
      "C:\\Users\\Winter\\anaconda3\\envs\\credit-admission-prediction\\lib\\site-packages\\lightgbm\\basic.py:2065: UserWarning: Using categorical_feature in Dataset.\n",
      "\n"
     ]
    },
    {
     "name": "stdout",
     "output_type": "stream",
     "text": [
      "[LightGBM] [Warning] min_data_in_leaf is set=8030, min_child_samples=20 will be ignored. Current value: min_data_in_leaf=8030                           \n",
      "[LightGBM] [Warning] min_data_in_leaf is set=8030, min_child_samples=20 will be ignored. Current value: min_data_in_leaf=8030                           \n",
      "[LightGBM] [Warning] min_data_in_leaf is set=8030, min_child_samples=20 will be ignored. Current value: min_data_in_leaf=8030                           \n",
      "[LightGBM] [Warning] min_data_in_leaf is set=8030, min_child_samples=20 will be ignored. Current value: min_data_in_leaf=8030                           \n",
      "[LightGBM] [Warning] min_data_in_leaf is set=8400, min_child_samples=20 will be ignored. Current value: min_data_in_leaf=8400                           \n",
      "[LightGBM] [Warning] min_data_in_leaf is set=8400, min_child_samples=20 will be ignored. Current value: min_data_in_leaf=8400                           \n",
      "[LightGBM] [Warning] min_data_in_leaf is set=8400, min_child_samples=20 will be ignored. Current value: min_data_in_leaf=8400                           \n",
      "[LightGBM] [Warning] min_data_in_leaf is set=8400, min_child_samples=20 will be ignored. Current value: min_data_in_leaf=8400                           \n",
      " 60%|███████████████████████████████████████████████▍                               | 60/100 [01:10<00:35,  1.12trial/s, best loss: -0.9726512496471532]"
     ]
    },
    {
     "name": "stderr",
     "output_type": "stream",
     "text": [
      "C:\\Users\\Winter\\anaconda3\\envs\\credit-admission-prediction\\lib\\site-packages\\lightgbm\\basic.py:2065: UserWarning: Using categorical_feature in Dataset.\n",
      "\n"
     ]
    },
    {
     "name": "stdout",
     "output_type": "stream",
     "text": [
      "[LightGBM] [Warning] min_data_in_leaf is set=8400, min_child_samples=20 will be ignored. Current value: min_data_in_leaf=8400                           \n",
      "[LightGBM] [Warning] min_data_in_leaf is set=6190, min_child_samples=20 will be ignored. Current value: min_data_in_leaf=6190                           \n",
      " 61%|████████████████████████████████████████████████▏                              | 61/100 [01:11<00:30,  1.30trial/s, best loss: -0.9726512496471532]"
     ]
    },
    {
     "name": "stderr",
     "output_type": "stream",
     "text": [
      "C:\\Users\\Winter\\anaconda3\\envs\\credit-admission-prediction\\lib\\site-packages\\lightgbm\\basic.py:2065: UserWarning: Using categorical_feature in Dataset.\n",
      "\n"
     ]
    },
    {
     "name": "stdout",
     "output_type": "stream",
     "text": [
      "[LightGBM] [Warning] min_data_in_leaf is set=6190, min_child_samples=20 will be ignored. Current value: min_data_in_leaf=6190                           \n",
      "[LightGBM] [Warning] min_data_in_leaf is set=6190, min_child_samples=20 will be ignored. Current value: min_data_in_leaf=6190                           \n",
      "[LightGBM] [Warning] min_data_in_leaf is set=6190, min_child_samples=20 will be ignored. Current value: min_data_in_leaf=6190                           \n",
      "[LightGBM] [Warning] min_data_in_leaf is set=6190, min_child_samples=20 will be ignored. Current value: min_data_in_leaf=6190                           \n",
      "[LightGBM] [Warning] min_data_in_leaf is set=2640, min_child_samples=20 will be ignored. Current value: min_data_in_leaf=2640                           \n",
      "[LightGBM] [Warning] min_data_in_leaf is set=2640, min_child_samples=20 will be ignored. Current value: min_data_in_leaf=2640                           \n",
      "[LightGBM] [Warning] min_data_in_leaf is set=2640, min_child_samples=20 will be ignored. Current value: min_data_in_leaf=2640                           \n",
      "[LightGBM] [Warning] min_data_in_leaf is set=2640, min_child_samples=20 will be ignored. Current value: min_data_in_leaf=2640                           \n",
      " 62%|████████████████████████████████████████████████▉                              | 62/100 [01:12<00:32,  1.15trial/s, best loss: -0.9726512496471532]"
     ]
    },
    {
     "name": "stderr",
     "output_type": "stream",
     "text": [
      "C:\\Users\\Winter\\anaconda3\\envs\\credit-admission-prediction\\lib\\site-packages\\lightgbm\\basic.py:2065: UserWarning: Using categorical_feature in Dataset.\n",
      "\n"
     ]
    },
    {
     "name": "stdout",
     "output_type": "stream",
     "text": [
      "[LightGBM] [Warning] min_data_in_leaf is set=2640, min_child_samples=20 will be ignored. Current value: min_data_in_leaf=2640                           \n",
      "[LightGBM] [Warning] min_data_in_leaf is set=4180, min_child_samples=20 will be ignored. Current value: min_data_in_leaf=4180                           \n",
      "[LightGBM] [Warning] min_data_in_leaf is set=4180, min_child_samples=20 will be ignored. Current value: min_data_in_leaf=4180                           \n",
      "[LightGBM] [Warning] min_data_in_leaf is set=4180, min_child_samples=20 will be ignored. Current value: min_data_in_leaf=4180                           \n",
      " 63%|█████████████████████████████████████████████████▊                             | 63/100 [01:12<00:28,  1.32trial/s, best loss: -0.9726512496471532]"
     ]
    },
    {
     "name": "stderr",
     "output_type": "stream",
     "text": [
      "C:\\Users\\Winter\\anaconda3\\envs\\credit-admission-prediction\\lib\\site-packages\\lightgbm\\basic.py:2065: UserWarning: Using categorical_feature in Dataset.\n",
      "\n"
     ]
    },
    {
     "name": "stdout",
     "output_type": "stream",
     "text": [
      "[LightGBM] [Warning] min_data_in_leaf is set=4180, min_child_samples=20 will be ignored. Current value: min_data_in_leaf=4180                           \n",
      "[LightGBM] [Warning] min_data_in_leaf is set=4180, min_child_samples=20 will be ignored. Current value: min_data_in_leaf=4180                           \n",
      "[LightGBM] [Warning] min_data_in_leaf is set=6780, min_child_samples=20 will be ignored. Current value: min_data_in_leaf=6780                           \n",
      "[LightGBM] [Warning] min_data_in_leaf is set=6780, min_child_samples=20 will be ignored. Current value: min_data_in_leaf=6780                           \n",
      " 64%|██████████████████████████████████████████████████▌                            | 64/100 [01:13<00:25,  1.41trial/s, best loss: -0.9726512496471532]"
     ]
    },
    {
     "name": "stderr",
     "output_type": "stream",
     "text": [
      "C:\\Users\\Winter\\anaconda3\\envs\\credit-admission-prediction\\lib\\site-packages\\lightgbm\\basic.py:2065: UserWarning: Using categorical_feature in Dataset.\n",
      "\n"
     ]
    },
    {
     "name": "stdout",
     "output_type": "stream",
     "text": [
      "[LightGBM] [Warning] min_data_in_leaf is set=6780, min_child_samples=20 will be ignored. Current value: min_data_in_leaf=6780                           \n",
      "[LightGBM] [Warning] min_data_in_leaf is set=6780, min_child_samples=20 will be ignored. Current value: min_data_in_leaf=6780                           \n",
      "[LightGBM] [Warning] min_data_in_leaf is set=6780, min_child_samples=20 will be ignored. Current value: min_data_in_leaf=6780                           \n",
      "[LightGBM] [Warning] min_data_in_leaf is set=1120, min_child_samples=20 will be ignored. Current value: min_data_in_leaf=1120                           \n",
      " 65%|███████████████████████████████████████████████████▎                           | 65/100 [01:13<00:24,  1.44trial/s, best loss: -0.9726512496471532]"
     ]
    },
    {
     "name": "stderr",
     "output_type": "stream",
     "text": [
      "C:\\Users\\Winter\\anaconda3\\envs\\credit-admission-prediction\\lib\\site-packages\\lightgbm\\basic.py:2065: UserWarning: Using categorical_feature in Dataset.\n",
      "\n"
     ]
    },
    {
     "name": "stdout",
     "output_type": "stream",
     "text": [
      "[LightGBM] [Warning] min_data_in_leaf is set=1120, min_child_samples=20 will be ignored. Current value: min_data_in_leaf=1120                           \n",
      "[LightGBM] [Warning] min_data_in_leaf is set=1120, min_child_samples=20 will be ignored. Current value: min_data_in_leaf=1120                           \n",
      "[LightGBM] [Warning] min_data_in_leaf is set=1120, min_child_samples=20 will be ignored. Current value: min_data_in_leaf=1120                           \n",
      "[LightGBM] [Warning] min_data_in_leaf is set=1120, min_child_samples=20 will be ignored. Current value: min_data_in_leaf=1120                           \n",
      "[LightGBM] [Warning] min_data_in_leaf is set=1100, min_child_samples=20 will be ignored. Current value: min_data_in_leaf=1100                           \n",
      " 66%|████████████████████████████████████████████████████▏                          | 66/100 [01:15<00:35,  1.05s/trial, best loss: -0.9726512496471532]"
     ]
    },
    {
     "name": "stderr",
     "output_type": "stream",
     "text": [
      "C:\\Users\\Winter\\anaconda3\\envs\\credit-admission-prediction\\lib\\site-packages\\lightgbm\\basic.py:2065: UserWarning: Using categorical_feature in Dataset.\n",
      "\n"
     ]
    },
    {
     "name": "stdout",
     "output_type": "stream",
     "text": [
      "[LightGBM] [Warning] min_data_in_leaf is set=1100, min_child_samples=20 will be ignored. Current value: min_data_in_leaf=1100                           \n",
      "[LightGBM] [Warning] min_data_in_leaf is set=1100, min_child_samples=20 will be ignored. Current value: min_data_in_leaf=1100                           \n",
      "[LightGBM] [Warning] min_data_in_leaf is set=1100, min_child_samples=20 will be ignored. Current value: min_data_in_leaf=1100                           \n",
      "[LightGBM] [Warning] min_data_in_leaf is set=1100, min_child_samples=20 will be ignored. Current value: min_data_in_leaf=1100                           \n",
      "[LightGBM] [Warning] min_data_in_leaf is set=1360, min_child_samples=20 will be ignored. Current value: min_data_in_leaf=1360                           \n",
      "[LightGBM] [Warning] min_data_in_leaf is set=1360, min_child_samples=20 will be ignored. Current value: min_data_in_leaf=1360                           \n",
      "[LightGBM] [Warning] min_data_in_leaf is set=1360, min_child_samples=20 will be ignored. Current value: min_data_in_leaf=1360                           \n",
      " 67%|████████████████████████████████████████████████████▉                          | 67/100 [01:17<00:43,  1.32s/trial, best loss: -0.9726512496471532]"
     ]
    },
    {
     "name": "stderr",
     "output_type": "stream",
     "text": [
      "C:\\Users\\Winter\\anaconda3\\envs\\credit-admission-prediction\\lib\\site-packages\\lightgbm\\basic.py:2065: UserWarning: Using categorical_feature in Dataset.\n",
      "\n"
     ]
    },
    {
     "name": "stdout",
     "output_type": "stream",
     "text": [
      "[LightGBM] [Warning] min_data_in_leaf is set=1360, min_child_samples=20 will be ignored. Current value: min_data_in_leaf=1360                           \n",
      "[LightGBM] [Warning] min_data_in_leaf is set=1360, min_child_samples=20 will be ignored. Current value: min_data_in_leaf=1360                           \n",
      "[LightGBM] [Warning] min_data_in_leaf is set=4420, min_child_samples=20 will be ignored. Current value: min_data_in_leaf=4420                           \n",
      " 68%|█████████████████████████████████████████████████████▋                         | 68/100 [01:18<00:34,  1.09s/trial, best loss: -0.9726512496471532]"
     ]
    },
    {
     "name": "stderr",
     "output_type": "stream",
     "text": [
      "C:\\Users\\Winter\\anaconda3\\envs\\credit-admission-prediction\\lib\\site-packages\\lightgbm\\basic.py:2065: UserWarning: Using categorical_feature in Dataset.\n",
      "\n"
     ]
    },
    {
     "name": "stdout",
     "output_type": "stream",
     "text": [
      "[LightGBM] [Warning] min_data_in_leaf is set=4420, min_child_samples=20 will be ignored. Current value: min_data_in_leaf=4420                           \n",
      "[LightGBM] [Warning] min_data_in_leaf is set=4420, min_child_samples=20 will be ignored. Current value: min_data_in_leaf=4420                           \n",
      "[LightGBM] [Warning] min_data_in_leaf is set=4420, min_child_samples=20 will be ignored. Current value: min_data_in_leaf=4420                           \n",
      "[LightGBM] [Warning] min_data_in_leaf is set=4420, min_child_samples=20 will be ignored. Current value: min_data_in_leaf=4420                           \n",
      "[LightGBM] [Warning] min_data_in_leaf is set=6120, min_child_samples=20 will be ignored. Current value: min_data_in_leaf=6120                           \n",
      " 69%|██████████████████████████████████████████████████████▌                        | 69/100 [01:19<00:30,  1.01trial/s, best loss: -0.9726512496471532]"
     ]
    },
    {
     "name": "stderr",
     "output_type": "stream",
     "text": [
      "C:\\Users\\Winter\\anaconda3\\envs\\credit-admission-prediction\\lib\\site-packages\\lightgbm\\basic.py:2065: UserWarning: Using categorical_feature in Dataset.\n",
      "\n"
     ]
    },
    {
     "name": "stdout",
     "output_type": "stream",
     "text": [
      "[LightGBM] [Warning] min_data_in_leaf is set=6120, min_child_samples=20 will be ignored. Current value: min_data_in_leaf=6120                           \n",
      "[LightGBM] [Warning] min_data_in_leaf is set=6120, min_child_samples=20 will be ignored. Current value: min_data_in_leaf=6120                           \n",
      "[LightGBM] [Warning] min_data_in_leaf is set=6120, min_child_samples=20 will be ignored. Current value: min_data_in_leaf=6120                           \n",
      "[LightGBM] [Warning] min_data_in_leaf is set=6120, min_child_samples=20 will be ignored. Current value: min_data_in_leaf=6120                           \n",
      "[LightGBM] [Warning] min_data_in_leaf is set=270, min_child_samples=20 will be ignored. Current value: min_data_in_leaf=270                             \n",
      " 70%|███████████████████████████████████████████████████████▎                       | 70/100 [01:19<00:28,  1.06trial/s, best loss: -0.9726512496471532]"
     ]
    },
    {
     "name": "stderr",
     "output_type": "stream",
     "text": [
      "C:\\Users\\Winter\\anaconda3\\envs\\credit-admission-prediction\\lib\\site-packages\\lightgbm\\basic.py:2065: UserWarning: Using categorical_feature in Dataset.\n",
      "\n"
     ]
    },
    {
     "name": "stdout",
     "output_type": "stream",
     "text": [
      "[LightGBM] [Warning] min_data_in_leaf is set=270, min_child_samples=20 will be ignored. Current value: min_data_in_leaf=270                             \n",
      "[LightGBM] [Warning] min_data_in_leaf is set=270, min_child_samples=20 will be ignored. Current value: min_data_in_leaf=270                             \n",
      "[LightGBM] [Warning] min_data_in_leaf is set=270, min_child_samples=20 will be ignored. Current value: min_data_in_leaf=270                             \n",
      "[LightGBM] [Warning] min_data_in_leaf is set=270, min_child_samples=20 will be ignored. Current value: min_data_in_leaf=270                             \n",
      "[LightGBM] [Warning] min_data_in_leaf is set=300, min_child_samples=20 will be ignored. Current value: min_data_in_leaf=300                             \n",
      " 71%|████████████████████████████████████████████████████████                       | 71/100 [01:24<01:01,  2.12s/trial, best loss: -0.9726512496471532]"
     ]
    },
    {
     "name": "stderr",
     "output_type": "stream",
     "text": [
      "C:\\Users\\Winter\\anaconda3\\envs\\credit-admission-prediction\\lib\\site-packages\\lightgbm\\basic.py:2065: UserWarning: Using categorical_feature in Dataset.\n",
      "\n"
     ]
    },
    {
     "name": "stdout",
     "output_type": "stream",
     "text": [
      "[LightGBM] [Warning] min_data_in_leaf is set=300, min_child_samples=20 will be ignored. Current value: min_data_in_leaf=300                             \n",
      "[LightGBM] [Warning] min_data_in_leaf is set=300, min_child_samples=20 will be ignored. Current value: min_data_in_leaf=300                             \n",
      "[LightGBM] [Warning] min_data_in_leaf is set=300, min_child_samples=20 will be ignored. Current value: min_data_in_leaf=300                             \n",
      "[LightGBM] [Warning] min_data_in_leaf is set=300, min_child_samples=20 will be ignored. Current value: min_data_in_leaf=300                             \n",
      "[LightGBM] [Warning] min_data_in_leaf is set=8370, min_child_samples=20 will be ignored. Current value: min_data_in_leaf=8370                           \n",
      " 72%|████████████████████████████████████████████████████████▉                      | 72/100 [01:26<01:00,  2.16s/trial, best loss: -0.9726512496471532]"
     ]
    },
    {
     "name": "stderr",
     "output_type": "stream",
     "text": [
      "C:\\Users\\Winter\\anaconda3\\envs\\credit-admission-prediction\\lib\\site-packages\\lightgbm\\basic.py:2065: UserWarning: Using categorical_feature in Dataset.\n",
      "\n"
     ]
    },
    {
     "name": "stdout",
     "output_type": "stream",
     "text": [
      "[LightGBM] [Warning] min_data_in_leaf is set=8370, min_child_samples=20 will be ignored. Current value: min_data_in_leaf=8370                           \n",
      "[LightGBM] [Warning] min_data_in_leaf is set=8370, min_child_samples=20 will be ignored. Current value: min_data_in_leaf=8370                           \n",
      "[LightGBM] [Warning] min_data_in_leaf is set=8370, min_child_samples=20 will be ignored. Current value: min_data_in_leaf=8370                           \n",
      "[LightGBM] [Warning] min_data_in_leaf is set=8370, min_child_samples=20 will be ignored. Current value: min_data_in_leaf=8370                           \n",
      "[LightGBM] [Warning] min_data_in_leaf is set=8210, min_child_samples=20 will be ignored. Current value: min_data_in_leaf=8210                           \n",
      "[LightGBM] [Warning] min_data_in_leaf is set=8210, min_child_samples=20 will be ignored. Current value: min_data_in_leaf=8210                           \n",
      "[LightGBM] [Warning] min_data_in_leaf is set=8210, min_child_samples=20 will be ignored. Current value: min_data_in_leaf=8210                           \n",
      "[LightGBM] [Warning] min_data_in_leaf is set=8210, min_child_samples=20 will be ignored. Current value: min_data_in_leaf=8210                           \n",
      " 73%|█████████████████████████████████████████████████████████▋                     | 73/100 [01:27<00:47,  1.75s/trial, best loss: -0.9726512496471532]"
     ]
    },
    {
     "name": "stderr",
     "output_type": "stream",
     "text": [
      "C:\\Users\\Winter\\anaconda3\\envs\\credit-admission-prediction\\lib\\site-packages\\lightgbm\\basic.py:2065: UserWarning: Using categorical_feature in Dataset.\n",
      "\n"
     ]
    },
    {
     "name": "stdout",
     "output_type": "stream",
     "text": [
      "[LightGBM] [Warning] min_data_in_leaf is set=8210, min_child_samples=20 will be ignored. Current value: min_data_in_leaf=8210                           \n",
      "[LightGBM] [Warning] min_data_in_leaf is set=6680, min_child_samples=20 will be ignored. Current value: min_data_in_leaf=6680                           \n",
      "[LightGBM] [Warning] min_data_in_leaf is set=6680, min_child_samples=20 will be ignored. Current value: min_data_in_leaf=6680                           \n",
      " 74%|██████████████████████████████████████████████████████████▍                    | 74/100 [01:28<00:35,  1.38s/trial, best loss: -0.9726512496471532]"
     ]
    },
    {
     "name": "stderr",
     "output_type": "stream",
     "text": [
      "C:\\Users\\Winter\\anaconda3\\envs\\credit-admission-prediction\\lib\\site-packages\\lightgbm\\basic.py:2065: UserWarning: Using categorical_feature in Dataset.\n",
      "\n"
     ]
    },
    {
     "name": "stdout",
     "output_type": "stream",
     "text": [
      "[LightGBM] [Warning] min_data_in_leaf is set=6680, min_child_samples=20 will be ignored. Current value: min_data_in_leaf=6680                           \n",
      "[LightGBM] [Warning] min_data_in_leaf is set=6680, min_child_samples=20 will be ignored. Current value: min_data_in_leaf=6680                           \n",
      "[LightGBM] [Warning] min_data_in_leaf is set=6680, min_child_samples=20 will be ignored. Current value: min_data_in_leaf=6680                           \n",
      "[LightGBM] [Warning] min_data_in_leaf is set=2800, min_child_samples=20 will be ignored. Current value: min_data_in_leaf=2800                           \n",
      " 75%|███████████████████████████████████████████████████████████▎                   | 75/100 [01:28<00:29,  1.17s/trial, best loss: -0.9726512496471532]"
     ]
    },
    {
     "name": "stderr",
     "output_type": "stream",
     "text": [
      "C:\\Users\\Winter\\anaconda3\\envs\\credit-admission-prediction\\lib\\site-packages\\lightgbm\\basic.py:2065: UserWarning: Using categorical_feature in Dataset.\n",
      "\n"
     ]
    },
    {
     "name": "stdout",
     "output_type": "stream",
     "text": [
      "[LightGBM] [Warning] min_data_in_leaf is set=2800, min_child_samples=20 will be ignored. Current value: min_data_in_leaf=2800                           \n",
      "[LightGBM] [Warning] min_data_in_leaf is set=2800, min_child_samples=20 will be ignored. Current value: min_data_in_leaf=2800                           \n",
      "[LightGBM] [Warning] min_data_in_leaf is set=2800, min_child_samples=20 will be ignored. Current value: min_data_in_leaf=2800                           \n",
      "[LightGBM] [Warning] min_data_in_leaf is set=2800, min_child_samples=20 will be ignored. Current value: min_data_in_leaf=2800                           \n",
      "[LightGBM] [Warning] min_data_in_leaf is set=7210, min_child_samples=20 will be ignored. Current value: min_data_in_leaf=7210                           \n",
      " 76%|████████████████████████████████████████████████████████████                   | 76/100 [01:29<00:25,  1.08s/trial, best loss: -0.9726512496471532]"
     ]
    },
    {
     "name": "stderr",
     "output_type": "stream",
     "text": [
      "C:\\Users\\Winter\\anaconda3\\envs\\credit-admission-prediction\\lib\\site-packages\\lightgbm\\basic.py:2065: UserWarning: Using categorical_feature in Dataset.\n",
      "\n"
     ]
    },
    {
     "name": "stdout",
     "output_type": "stream",
     "text": [
      "[LightGBM] [Warning] min_data_in_leaf is set=7210, min_child_samples=20 will be ignored. Current value: min_data_in_leaf=7210                           \n",
      "[LightGBM] [Warning] min_data_in_leaf is set=7210, min_child_samples=20 will be ignored. Current value: min_data_in_leaf=7210                           \n",
      "[LightGBM] [Warning] min_data_in_leaf is set=7210, min_child_samples=20 will be ignored. Current value: min_data_in_leaf=7210                           \n",
      "[LightGBM] [Warning] min_data_in_leaf is set=7210, min_child_samples=20 will be ignored. Current value: min_data_in_leaf=7210                           \n",
      "[LightGBM] [Warning] min_data_in_leaf is set=9180, min_child_samples=20 will be ignored. Current value: min_data_in_leaf=9180                           \n",
      "[LightGBM] [Warning] min_data_in_leaf is set=9180, min_child_samples=20 will be ignored. Current value: min_data_in_leaf=9180                           \n",
      " 77%|████████████████████████████████████████████████████████████▊                  | 77/100 [01:31<00:24,  1.07s/trial, best loss: -0.9726512496471532]"
     ]
    },
    {
     "name": "stderr",
     "output_type": "stream",
     "text": [
      "C:\\Users\\Winter\\anaconda3\\envs\\credit-admission-prediction\\lib\\site-packages\\lightgbm\\basic.py:2065: UserWarning: Using categorical_feature in Dataset.\n",
      "\n"
     ]
    },
    {
     "name": "stdout",
     "output_type": "stream",
     "text": [
      "[LightGBM] [Warning] min_data_in_leaf is set=9180, min_child_samples=20 will be ignored. Current value: min_data_in_leaf=9180                           \n",
      "[LightGBM] [Warning] min_data_in_leaf is set=9180, min_child_samples=20 will be ignored. Current value: min_data_in_leaf=9180                           \n",
      "[LightGBM] [Warning] min_data_in_leaf is set=9180, min_child_samples=20 will be ignored. Current value: min_data_in_leaf=9180                           \n",
      "[LightGBM] [Warning] min_data_in_leaf is set=4920, min_child_samples=20 will be ignored. Current value: min_data_in_leaf=4920                           \n",
      "[LightGBM] [Warning] min_data_in_leaf is set=4920, min_child_samples=20 will be ignored. Current value: min_data_in_leaf=4920                           \n",
      " 78%|█████████████████████████████████████████████████████████████▌                 | 78/100 [01:31<00:21,  1.04trial/s, best loss: -0.9726512496471532]"
     ]
    },
    {
     "name": "stderr",
     "output_type": "stream",
     "text": [
      "C:\\Users\\Winter\\anaconda3\\envs\\credit-admission-prediction\\lib\\site-packages\\lightgbm\\basic.py:2065: UserWarning: Using categorical_feature in Dataset.\n",
      "\n"
     ]
    },
    {
     "name": "stdout",
     "output_type": "stream",
     "text": [
      "[LightGBM] [Warning] min_data_in_leaf is set=4920, min_child_samples=20 will be ignored. Current value: min_data_in_leaf=4920                           \n",
      "[LightGBM] [Warning] min_data_in_leaf is set=4920, min_child_samples=20 will be ignored. Current value: min_data_in_leaf=4920                           \n",
      "[LightGBM] [Warning] min_data_in_leaf is set=4920, min_child_samples=20 will be ignored. Current value: min_data_in_leaf=4920                           \n",
      "[LightGBM] [Warning] min_data_in_leaf is set=8000, min_child_samples=20 will be ignored. Current value: min_data_in_leaf=8000                           \n",
      "[LightGBM] [Warning] min_data_in_leaf is set=8000, min_child_samples=20 will be ignored. Current value: min_data_in_leaf=8000                           \n",
      " 79%|██████████████████████████████████████████████████████████████▍                | 79/100 [01:32<00:19,  1.10trial/s, best loss: -0.9726512496471532]"
     ]
    },
    {
     "name": "stderr",
     "output_type": "stream",
     "text": [
      "C:\\Users\\Winter\\anaconda3\\envs\\credit-admission-prediction\\lib\\site-packages\\lightgbm\\basic.py:2065: UserWarning: Using categorical_feature in Dataset.\n",
      "\n"
     ]
    },
    {
     "name": "stdout",
     "output_type": "stream",
     "text": [
      "[LightGBM] [Warning] min_data_in_leaf is set=8000, min_child_samples=20 will be ignored. Current value: min_data_in_leaf=8000                           \n",
      "[LightGBM] [Warning] min_data_in_leaf is set=8000, min_child_samples=20 will be ignored. Current value: min_data_in_leaf=8000                           \n",
      "[LightGBM] [Warning] min_data_in_leaf is set=8000, min_child_samples=20 will be ignored. Current value: min_data_in_leaf=8000                           \n",
      "[LightGBM] [Warning] min_data_in_leaf is set=9630, min_child_samples=20 will be ignored. Current value: min_data_in_leaf=9630                           \n",
      " 80%|███████████████████████████████████████████████████████████████▏               | 80/100 [01:33<00:16,  1.19trial/s, best loss: -0.9726512496471532]"
     ]
    },
    {
     "name": "stderr",
     "output_type": "stream",
     "text": [
      "C:\\Users\\Winter\\anaconda3\\envs\\credit-admission-prediction\\lib\\site-packages\\lightgbm\\basic.py:2065: UserWarning: Using categorical_feature in Dataset.\n",
      "\n"
     ]
    },
    {
     "name": "stdout",
     "output_type": "stream",
     "text": [
      "[LightGBM] [Warning] min_data_in_leaf is set=9630, min_child_samples=20 will be ignored. Current value: min_data_in_leaf=9630                           \n",
      "[LightGBM] [Warning] min_data_in_leaf is set=9630, min_child_samples=20 will be ignored. Current value: min_data_in_leaf=9630                           \n",
      "[LightGBM] [Warning] min_data_in_leaf is set=9630, min_child_samples=20 will be ignored. Current value: min_data_in_leaf=9630                           \n",
      "[LightGBM] [Warning] min_data_in_leaf is set=9630, min_child_samples=20 will be ignored. Current value: min_data_in_leaf=9630                           \n",
      "[LightGBM] [Warning] min_data_in_leaf is set=9820, min_child_samples=20 will be ignored. Current value: min_data_in_leaf=9820                           \n",
      " 81%|███████████████████████████████████████████████████████████████▉               | 81/100 [01:33<00:16,  1.18trial/s, best loss: -0.9726512496471532]"
     ]
    },
    {
     "name": "stderr",
     "output_type": "stream",
     "text": [
      "C:\\Users\\Winter\\anaconda3\\envs\\credit-admission-prediction\\lib\\site-packages\\lightgbm\\basic.py:2065: UserWarning: Using categorical_feature in Dataset.\n",
      "\n"
     ]
    },
    {
     "name": "stdout",
     "output_type": "stream",
     "text": [
      "[LightGBM] [Warning] min_data_in_leaf is set=9820, min_child_samples=20 will be ignored. Current value: min_data_in_leaf=9820                           \n",
      "[LightGBM] [Warning] min_data_in_leaf is set=9820, min_child_samples=20 will be ignored. Current value: min_data_in_leaf=9820                           \n",
      "[LightGBM] [Warning] min_data_in_leaf is set=9820, min_child_samples=20 will be ignored. Current value: min_data_in_leaf=9820                           \n",
      "[LightGBM] [Warning] min_data_in_leaf is set=9820, min_child_samples=20 will be ignored. Current value: min_data_in_leaf=9820                           \n",
      "[LightGBM] [Warning] min_data_in_leaf is set=1270, min_child_samples=20 will be ignored. Current value: min_data_in_leaf=1270                           \n",
      " 82%|████████████████████████████████████████████████████████████████▊              | 82/100 [01:34<00:15,  1.14trial/s, best loss: -0.9726512496471532]"
     ]
    },
    {
     "name": "stderr",
     "output_type": "stream",
     "text": [
      "C:\\Users\\Winter\\anaconda3\\envs\\credit-admission-prediction\\lib\\site-packages\\lightgbm\\basic.py:2065: UserWarning: Using categorical_feature in Dataset.\n",
      "\n"
     ]
    },
    {
     "name": "stdout",
     "output_type": "stream",
     "text": [
      "[LightGBM] [Warning] min_data_in_leaf is set=1270, min_child_samples=20 will be ignored. Current value: min_data_in_leaf=1270                           \n",
      "[LightGBM] [Warning] min_data_in_leaf is set=1270, min_child_samples=20 will be ignored. Current value: min_data_in_leaf=1270                           \n",
      "[LightGBM] [Warning] min_data_in_leaf is set=1270, min_child_samples=20 will be ignored. Current value: min_data_in_leaf=1270                           \n",
      "[LightGBM] [Warning] min_data_in_leaf is set=1270, min_child_samples=20 will be ignored. Current value: min_data_in_leaf=1270                           \n",
      "[LightGBM] [Warning] min_data_in_leaf is set=270, min_child_samples=20 will be ignored. Current value: min_data_in_leaf=270                             \n",
      " 83%|█████████████████████████████████████████████████████████████████▌             | 83/100 [01:36<00:17,  1.00s/trial, best loss: -0.9726512496471532]"
     ]
    },
    {
     "name": "stderr",
     "output_type": "stream",
     "text": [
      "C:\\Users\\Winter\\anaconda3\\envs\\credit-admission-prediction\\lib\\site-packages\\lightgbm\\basic.py:2065: UserWarning: Using categorical_feature in Dataset.\n",
      "\n"
     ]
    },
    {
     "name": "stdout",
     "output_type": "stream",
     "text": [
      "[LightGBM] [Warning] min_data_in_leaf is set=270, min_child_samples=20 will be ignored. Current value: min_data_in_leaf=270                             \n",
      "[LightGBM] [Warning] min_data_in_leaf is set=270, min_child_samples=20 will be ignored. Current value: min_data_in_leaf=270                             \n",
      "[LightGBM] [Warning] min_data_in_leaf is set=270, min_child_samples=20 will be ignored. Current value: min_data_in_leaf=270                             \n",
      "[LightGBM] [Warning] min_data_in_leaf is set=270, min_child_samples=20 will be ignored. Current value: min_data_in_leaf=270                             \n",
      "[LightGBM] [Warning] min_data_in_leaf is set=560, min_child_samples=20 will be ignored. Current value: min_data_in_leaf=560                             \n",
      " 84%|██████████████████████████████████████████████████████████████████▎            | 84/100 [01:38<00:23,  1.48s/trial, best loss: -0.9726512496471532]"
     ]
    },
    {
     "name": "stderr",
     "output_type": "stream",
     "text": [
      "C:\\Users\\Winter\\anaconda3\\envs\\credit-admission-prediction\\lib\\site-packages\\lightgbm\\basic.py:2065: UserWarning: Using categorical_feature in Dataset.\n",
      "\n"
     ]
    },
    {
     "name": "stdout",
     "output_type": "stream",
     "text": [
      "[LightGBM] [Warning] min_data_in_leaf is set=560, min_child_samples=20 will be ignored. Current value: min_data_in_leaf=560                             \n",
      "[LightGBM] [Warning] min_data_in_leaf is set=560, min_child_samples=20 will be ignored. Current value: min_data_in_leaf=560                             \n",
      "[LightGBM] [Warning] min_data_in_leaf is set=560, min_child_samples=20 will be ignored. Current value: min_data_in_leaf=560                             \n",
      "[LightGBM] [Warning] min_data_in_leaf is set=560, min_child_samples=20 will be ignored. Current value: min_data_in_leaf=560                             \n",
      "[LightGBM] [Warning] min_data_in_leaf is set=4860, min_child_samples=20 will be ignored. Current value: min_data_in_leaf=4860                           \n",
      "[LightGBM] [Warning] min_data_in_leaf is set=4860, min_child_samples=20 will be ignored. Current value: min_data_in_leaf=4860                           \n",
      "[LightGBM] [Warning] min_data_in_leaf is set=4860, min_child_samples=20 will be ignored. Current value: min_data_in_leaf=4860                           \n",
      "[LightGBM] [Warning] min_data_in_leaf is set=4860, min_child_samples=20 will be ignored. Current value: min_data_in_leaf=4860                           \n",
      " 85%|███████████████████████████████████████████████████████████████████▏           | 85/100 [01:42<00:31,  2.08s/trial, best loss: -0.9726512496471532]"
     ]
    },
    {
     "name": "stderr",
     "output_type": "stream",
     "text": [
      "C:\\Users\\Winter\\anaconda3\\envs\\credit-admission-prediction\\lib\\site-packages\\lightgbm\\basic.py:2065: UserWarning: Using categorical_feature in Dataset.\n",
      "\n"
     ]
    },
    {
     "name": "stdout",
     "output_type": "stream",
     "text": [
      "[LightGBM] [Warning] min_data_in_leaf is set=4860, min_child_samples=20 will be ignored. Current value: min_data_in_leaf=4860                           \n",
      "[LightGBM] [Warning] min_data_in_leaf is set=840, min_child_samples=20 will be ignored. Current value: min_data_in_leaf=840                             \n",
      " 86%|███████████████████████████████████████████████████████████████████▉           | 86/100 [01:42<00:22,  1.60s/trial, best loss: -0.9726512496471532]"
     ]
    },
    {
     "name": "stderr",
     "output_type": "stream",
     "text": [
      "C:\\Users\\Winter\\anaconda3\\envs\\credit-admission-prediction\\lib\\site-packages\\lightgbm\\basic.py:2065: UserWarning: Using categorical_feature in Dataset.\n",
      "\n"
     ]
    },
    {
     "name": "stdout",
     "output_type": "stream",
     "text": [
      "[LightGBM] [Warning] min_data_in_leaf is set=840, min_child_samples=20 will be ignored. Current value: min_data_in_leaf=840                             \n",
      "[LightGBM] [Warning] min_data_in_leaf is set=840, min_child_samples=20 will be ignored. Current value: min_data_in_leaf=840                             \n",
      "[LightGBM] [Warning] min_data_in_leaf is set=840, min_child_samples=20 will be ignored. Current value: min_data_in_leaf=840                             \n",
      "[LightGBM] [Warning] min_data_in_leaf is set=840, min_child_samples=20 will be ignored. Current value: min_data_in_leaf=840                             \n",
      "[LightGBM] [Warning] min_data_in_leaf is set=4080, min_child_samples=20 will be ignored. Current value: min_data_in_leaf=4080                           \n",
      "[LightGBM] [Warning] min_data_in_leaf is set=4080, min_child_samples=20 will be ignored. Current value: min_data_in_leaf=4080                           \n",
      "[LightGBM] [Warning] min_data_in_leaf is set=4080, min_child_samples=20 will be ignored. Current value: min_data_in_leaf=4080                           \n",
      "[LightGBM] [Warning] min_data_in_leaf is set=4080, min_child_samples=20 will be ignored. Current value: min_data_in_leaf=4080                           \n",
      "[LightGBM] [Warning] min_data_in_leaf is set=4080, min_child_samples=20 will be ignored. Current value: min_data_in_leaf=4080                           \n",
      " 88%|█████████████████████████████████████████████████████████████████████▌         | 88/100 [01:46<00:20,  1.70s/trial, best loss: -0.9726512496471532]"
     ]
    },
    {
     "name": "stderr",
     "output_type": "stream",
     "text": [
      "C:\\Users\\Winter\\anaconda3\\envs\\credit-admission-prediction\\lib\\site-packages\\lightgbm\\basic.py:2065: UserWarning: Using categorical_feature in Dataset.\n",
      "\n"
     ]
    },
    {
     "name": "stdout",
     "output_type": "stream",
     "text": [
      "[LightGBM] [Warning] min_data_in_leaf is set=2610, min_child_samples=20 will be ignored. Current value: min_data_in_leaf=2610                           \n",
      " 88%|█████████████████████████████████████████████████████████████████████▌         | 88/100 [01:46<00:20,  1.70s/trial, best loss: -0.9726512496471532]"
     ]
    },
    {
     "name": "stderr",
     "output_type": "stream",
     "text": [
      "C:\\Users\\Winter\\anaconda3\\envs\\credit-admission-prediction\\lib\\site-packages\\lightgbm\\basic.py:2065: UserWarning: Using categorical_feature in Dataset.\n",
      "\n"
     ]
    },
    {
     "name": "stdout",
     "output_type": "stream",
     "text": [
      "[LightGBM] [Warning] min_data_in_leaf is set=2610, min_child_samples=20 will be ignored. Current value: min_data_in_leaf=2610                           \n",
      "[LightGBM] [Warning] min_data_in_leaf is set=2610, min_child_samples=20 will be ignored. Current value: min_data_in_leaf=2610                           \n",
      "[LightGBM] [Warning] min_data_in_leaf is set=2610, min_child_samples=20 will be ignored. Current value: min_data_in_leaf=2610                           \n",
      "[LightGBM] [Warning] min_data_in_leaf is set=2610, min_child_samples=20 will be ignored. Current value: min_data_in_leaf=2610                           \n",
      "[LightGBM] [Warning] min_data_in_leaf is set=100, min_child_samples=20 will be ignored. Current value: min_data_in_leaf=100                             \n",
      " 89%|██████████████████████████████████████████████████████████████████████▎        | 89/100 [01:47<00:16,  1.50s/trial, best loss: -0.9726512496471532]"
     ]
    },
    {
     "name": "stderr",
     "output_type": "stream",
     "text": [
      "C:\\Users\\Winter\\anaconda3\\envs\\credit-admission-prediction\\lib\\site-packages\\lightgbm\\basic.py:2065: UserWarning: Using categorical_feature in Dataset.\n",
      "\n"
     ]
    },
    {
     "name": "stdout",
     "output_type": "stream",
     "text": [
      "[LightGBM] [Warning] min_data_in_leaf is set=100, min_child_samples=20 will be ignored. Current value: min_data_in_leaf=100                             \n",
      "[LightGBM] [Warning] min_data_in_leaf is set=100, min_child_samples=20 will be ignored. Current value: min_data_in_leaf=100                             \n",
      "[LightGBM] [Warning] min_data_in_leaf is set=100, min_child_samples=20 will be ignored. Current value: min_data_in_leaf=100                             \n",
      "[LightGBM] [Warning] min_data_in_leaf is set=100, min_child_samples=20 will be ignored. Current value: min_data_in_leaf=100                             \n",
      "[LightGBM] [Warning] min_data_in_leaf is set=1950, min_child_samples=20 will be ignored. Current value: min_data_in_leaf=1950                           \n",
      "[LightGBM] [Warning] min_data_in_leaf is set=1950, min_child_samples=20 will be ignored. Current value: min_data_in_leaf=1950                           \n",
      "[LightGBM] [Warning] min_data_in_leaf is set=1950, min_child_samples=20 will be ignored. Current value: min_data_in_leaf=1950                           \n",
      " 90%|████████████████████████████████████████████████████████████████████████        | 90/100 [01:52<00:24,  2.45s/trial, best loss: -0.974600182751842]"
     ]
    },
    {
     "name": "stderr",
     "output_type": "stream",
     "text": [
      "C:\\Users\\Winter\\anaconda3\\envs\\credit-admission-prediction\\lib\\site-packages\\lightgbm\\basic.py:2065: UserWarning: Using categorical_feature in Dataset.\n",
      "\n"
     ]
    },
    {
     "name": "stdout",
     "output_type": "stream",
     "text": [
      "[LightGBM] [Warning] min_data_in_leaf is set=1950, min_child_samples=20 will be ignored. Current value: min_data_in_leaf=1950                           \n",
      "[LightGBM] [Warning] min_data_in_leaf is set=1950, min_child_samples=20 will be ignored. Current value: min_data_in_leaf=1950                           \n",
      "[LightGBM] [Warning] min_data_in_leaf is set=6270, min_child_samples=20 will be ignored. Current value: min_data_in_leaf=6270                           \n",
      "[LightGBM] [Warning] min_data_in_leaf is set=6270, min_child_samples=20 will be ignored. Current value: min_data_in_leaf=6270                           \n",
      "[LightGBM] [Warning] min_data_in_leaf is set=6270, min_child_samples=20 will be ignored. Current value: min_data_in_leaf=6270                           \n",
      " 91%|████████████████████████████████████████████████████████████████████████▊       | 91/100 [01:53<00:16,  1.88s/trial, best loss: -0.974600182751842]"
     ]
    },
    {
     "name": "stderr",
     "output_type": "stream",
     "text": [
      "C:\\Users\\Winter\\anaconda3\\envs\\credit-admission-prediction\\lib\\site-packages\\lightgbm\\basic.py:2065: UserWarning: Using categorical_feature in Dataset.\n",
      "\n"
     ]
    },
    {
     "name": "stdout",
     "output_type": "stream",
     "text": [
      "[LightGBM] [Warning] min_data_in_leaf is set=6270, min_child_samples=20 will be ignored. Current value: min_data_in_leaf=6270                           \n",
      "[LightGBM] [Warning] min_data_in_leaf is set=6270, min_child_samples=20 will be ignored. Current value: min_data_in_leaf=6270                           \n",
      "[LightGBM] [Warning] min_data_in_leaf is set=9620, min_child_samples=20 will be ignored. Current value: min_data_in_leaf=9620                           \n",
      "[LightGBM] [Warning] min_data_in_leaf is set=9620, min_child_samples=20 will be ignored. Current value: min_data_in_leaf=9620                           \n",
      " 92%|█████████████████████████████████████████████████████████████████████████▌      | 92/100 [01:53<00:11,  1.47s/trial, best loss: -0.974600182751842]"
     ]
    },
    {
     "name": "stderr",
     "output_type": "stream",
     "text": [
      "C:\\Users\\Winter\\anaconda3\\envs\\credit-admission-prediction\\lib\\site-packages\\lightgbm\\basic.py:2065: UserWarning: Using categorical_feature in Dataset.\n",
      "\n"
     ]
    },
    {
     "name": "stdout",
     "output_type": "stream",
     "text": [
      "[LightGBM] [Warning] min_data_in_leaf is set=9620, min_child_samples=20 will be ignored. Current value: min_data_in_leaf=9620                           \n",
      "[LightGBM] [Warning] min_data_in_leaf is set=9620, min_child_samples=20 will be ignored. Current value: min_data_in_leaf=9620                           \n",
      "[LightGBM] [Warning] min_data_in_leaf is set=9620, min_child_samples=20 will be ignored. Current value: min_data_in_leaf=9620                           \n",
      "[LightGBM] [Warning] min_data_in_leaf is set=4590, min_child_samples=20 will be ignored. Current value: min_data_in_leaf=4590                           \n",
      " 93%|██████████████████████████████████████████████████████████████████████████▍     | 93/100 [01:54<00:08,  1.27s/trial, best loss: -0.974600182751842]"
     ]
    },
    {
     "name": "stderr",
     "output_type": "stream",
     "text": [
      "C:\\Users\\Winter\\anaconda3\\envs\\credit-admission-prediction\\lib\\site-packages\\lightgbm\\basic.py:2065: UserWarning: Using categorical_feature in Dataset.\n",
      "\n"
     ]
    },
    {
     "name": "stdout",
     "output_type": "stream",
     "text": [
      "[LightGBM] [Warning] min_data_in_leaf is set=4590, min_child_samples=20 will be ignored. Current value: min_data_in_leaf=4590                           \n",
      "[LightGBM] [Warning] min_data_in_leaf is set=4590, min_child_samples=20 will be ignored. Current value: min_data_in_leaf=4590                           \n",
      "[LightGBM] [Warning] min_data_in_leaf is set=4590, min_child_samples=20 will be ignored. Current value: min_data_in_leaf=4590                           \n",
      "[LightGBM] [Warning] min_data_in_leaf is set=4590, min_child_samples=20 will be ignored. Current value: min_data_in_leaf=4590                           \n",
      "[LightGBM] [Warning] min_data_in_leaf is set=1350, min_child_samples=20 will be ignored. Current value: min_data_in_leaf=1350                           \n",
      " 94%|███████████████████████████████████████████████████████████████████████████▏    | 94/100 [01:55<00:06,  1.14s/trial, best loss: -0.974600182751842]"
     ]
    },
    {
     "name": "stderr",
     "output_type": "stream",
     "text": [
      "C:\\Users\\Winter\\anaconda3\\envs\\credit-admission-prediction\\lib\\site-packages\\lightgbm\\basic.py:2065: UserWarning: Using categorical_feature in Dataset.\n",
      "\n"
     ]
    },
    {
     "name": "stdout",
     "output_type": "stream",
     "text": [
      "[LightGBM] [Warning] min_data_in_leaf is set=1350, min_child_samples=20 will be ignored. Current value: min_data_in_leaf=1350                           \n",
      "[LightGBM] [Warning] min_data_in_leaf is set=1350, min_child_samples=20 will be ignored. Current value: min_data_in_leaf=1350                           \n",
      "[LightGBM] [Warning] min_data_in_leaf is set=1350, min_child_samples=20 will be ignored. Current value: min_data_in_leaf=1350                           \n",
      "[LightGBM] [Warning] min_data_in_leaf is set=1350, min_child_samples=20 will be ignored. Current value: min_data_in_leaf=1350                           \n",
      "[LightGBM] [Warning] min_data_in_leaf is set=4500, min_child_samples=20 will be ignored. Current value: min_data_in_leaf=4500                           \n",
      "[LightGBM] [Warning] min_data_in_leaf is set=4500, min_child_samples=20 will be ignored. Current value: min_data_in_leaf=4500                           \n",
      " 95%|████████████████████████████████████████████████████████████████████████████    | 95/100 [01:58<00:08,  1.65s/trial, best loss: -0.974600182751842]"
     ]
    },
    {
     "name": "stderr",
     "output_type": "stream",
     "text": [
      "C:\\Users\\Winter\\anaconda3\\envs\\credit-admission-prediction\\lib\\site-packages\\lightgbm\\basic.py:2065: UserWarning: Using categorical_feature in Dataset.\n",
      "\n"
     ]
    },
    {
     "name": "stdout",
     "output_type": "stream",
     "text": [
      "[LightGBM] [Warning] min_data_in_leaf is set=4500, min_child_samples=20 will be ignored. Current value: min_data_in_leaf=4500                           \n",
      "[LightGBM] [Warning] min_data_in_leaf is set=4500, min_child_samples=20 will be ignored. Current value: min_data_in_leaf=4500                           \n",
      "[LightGBM] [Warning] min_data_in_leaf is set=4500, min_child_samples=20 will be ignored. Current value: min_data_in_leaf=4500                           \n",
      "[LightGBM] [Warning] min_data_in_leaf is set=2360, min_child_samples=20 will be ignored. Current value: min_data_in_leaf=2360                           \n",
      "[LightGBM] [Warning] min_data_in_leaf is set=2360, min_child_samples=20 will be ignored. Current value: min_data_in_leaf=2360                           \n",
      "[LightGBM] [Warning] min_data_in_leaf is set=2360, min_child_samples=20 will be ignored. Current value: min_data_in_leaf=2360                           \n",
      " 96%|████████████████████████████████████████████████████████████████████████████▊   | 96/100 [01:58<00:05,  1.36s/trial, best loss: -0.974600182751842]"
     ]
    },
    {
     "name": "stderr",
     "output_type": "stream",
     "text": [
      "C:\\Users\\Winter\\anaconda3\\envs\\credit-admission-prediction\\lib\\site-packages\\lightgbm\\basic.py:2065: UserWarning: Using categorical_feature in Dataset.\n",
      "\n"
     ]
    },
    {
     "name": "stdout",
     "output_type": "stream",
     "text": [
      "[LightGBM] [Warning] min_data_in_leaf is set=2360, min_child_samples=20 will be ignored. Current value: min_data_in_leaf=2360                           \n",
      "[LightGBM] [Warning] min_data_in_leaf is set=2360, min_child_samples=20 will be ignored. Current value: min_data_in_leaf=2360                           \n",
      "[LightGBM] [Warning] min_data_in_leaf is set=8170, min_child_samples=20 will be ignored. Current value: min_data_in_leaf=8170                           \n",
      "[LightGBM] [Warning] min_data_in_leaf is set=8170, min_child_samples=20 will be ignored. Current value: min_data_in_leaf=8170                           \n",
      "[LightGBM] [Warning] min_data_in_leaf is set=8170, min_child_samples=20 will be ignored. Current value: min_data_in_leaf=8170                           \n",
      "[LightGBM] [Warning] min_data_in_leaf is set=8170, min_child_samples=20 will be ignored. Current value: min_data_in_leaf=8170                           \n",
      " 97%|█████████████████████████████████████████████████████████████████████████████▌  | 97/100 [01:59<00:03,  1.12s/trial, best loss: -0.974600182751842]"
     ]
    },
    {
     "name": "stderr",
     "output_type": "stream",
     "text": [
      "C:\\Users\\Winter\\anaconda3\\envs\\credit-admission-prediction\\lib\\site-packages\\lightgbm\\basic.py:2065: UserWarning: Using categorical_feature in Dataset.\n",
      "\n"
     ]
    },
    {
     "name": "stdout",
     "output_type": "stream",
     "text": [
      "[LightGBM] [Warning] min_data_in_leaf is set=8170, min_child_samples=20 will be ignored. Current value: min_data_in_leaf=8170                           \n",
      "[LightGBM] [Warning] min_data_in_leaf is set=100, min_child_samples=20 will be ignored. Current value: min_data_in_leaf=100                             \n",
      " 98%|██████████████████████████████████████████████████████████████████████████████▍ | 98/100 [01:59<00:01,  1.08trial/s, best loss: -0.974600182751842]"
     ]
    },
    {
     "name": "stderr",
     "output_type": "stream",
     "text": [
      "C:\\Users\\Winter\\anaconda3\\envs\\credit-admission-prediction\\lib\\site-packages\\lightgbm\\basic.py:2065: UserWarning: Using categorical_feature in Dataset.\n",
      "\n"
     ]
    },
    {
     "name": "stdout",
     "output_type": "stream",
     "text": [
      "[LightGBM] [Warning] min_data_in_leaf is set=100, min_child_samples=20 will be ignored. Current value: min_data_in_leaf=100                             \n",
      "[LightGBM] [Warning] min_data_in_leaf is set=100, min_child_samples=20 will be ignored. Current value: min_data_in_leaf=100                             \n",
      "[LightGBM] [Warning] min_data_in_leaf is set=100, min_child_samples=20 will be ignored. Current value: min_data_in_leaf=100                             \n",
      "[LightGBM] [Warning] min_data_in_leaf is set=100, min_child_samples=20 will be ignored. Current value: min_data_in_leaf=100                             \n",
      "[LightGBM] [Warning] min_data_in_leaf is set=800, min_child_samples=20 will be ignored. Current value: min_data_in_leaf=800                             \n",
      " 99%|███████████████████████████████████████████████████████████████████████████████▏| 99/100 [02:00<00:00,  1.08trial/s, best loss: -0.974600182751842]"
     ]
    },
    {
     "name": "stderr",
     "output_type": "stream",
     "text": [
      "C:\\Users\\Winter\\anaconda3\\envs\\credit-admission-prediction\\lib\\site-packages\\lightgbm\\basic.py:2065: UserWarning: Using categorical_feature in Dataset.\n",
      "\n"
     ]
    },
    {
     "name": "stdout",
     "output_type": "stream",
     "text": [
      "[LightGBM] [Warning] min_data_in_leaf is set=800, min_child_samples=20 will be ignored. Current value: min_data_in_leaf=800                             \n",
      "[LightGBM] [Warning] min_data_in_leaf is set=800, min_child_samples=20 will be ignored. Current value: min_data_in_leaf=800                             \n",
      "[LightGBM] [Warning] min_data_in_leaf is set=800, min_child_samples=20 will be ignored. Current value: min_data_in_leaf=800                             \n",
      "[LightGBM] [Warning] min_data_in_leaf is set=800, min_child_samples=20 will be ignored. Current value: min_data_in_leaf=800                             \n",
      "100%|███████████████████████████████████████████████████████████████████████████████| 100/100 [02:02<00:00,  1.23s/trial, best loss: -0.974600182751842]\n"
     ]
    }
   ],
   "source": [
    "lgbm_reg_params = {\n",
    "    'n_estimators':     hp.choice('n_estimators', np.arange(5, 3000, 1, dtype=int)),\n",
    "    'learning_rate':    hp.uniform('learning_rate',0.01, 1),\n",
    "    'num_leaves':       hp.choice('num_leaves', np.arange(2, 200, 10, dtype=int)),\n",
    "    'max_depth':        hp.choice('max_depth', np.arange(2, 15, 1, dtype=int)),\n",
    "    'min_data_in_leaf': hp.choice('min_data_in_leaf', np.arange(50, 10000, 10, dtype=int)),\n",
    "    'max_bin':          hp.choice('max_bin', np.arange(2, 30, 5, dtype=int)),\n",
    "    'reg_alpha':        hp.uniform('reg_alpha', 0, 1),\n",
    "    'reg_lambda':       hp.uniform('reg_lambda', 0, 1)\n",
    "}\n",
    "\n",
    "def obj_fun_lgbm(params):\n",
    "    lgbm = lgb.LGBMClassifier(objective=\"binary\", class_weight='balanced', early_stopping_rounds = None, **params)\n",
    "    lgbm.fit(X_train_data, y_train_data, categorical_feature = ['name_income_type', 'name_education_type', 'name_housing_type', 'occupation_type'])\n",
    "    train_cv_score = cross_val_score(lgbm, X_train_data, y_train_data, scoring=\"average_precision\", cv = 5).mean()\n",
    "    return -1.0 * train_cv_score\n",
    "\n",
    "X_train_data = convert_object_cols_to_category(X_train_balanced)\n",
    "y_train_data = y_train_balanced\n",
    "X_test_data = convert_object_cols_to_category(X_test)\n",
    "y_test_data = y_test\n",
    "        \n",
    "trials_lgbm = Trials()\n",
    "hyperopt_params_lgbm = fmin(\n",
    "    fn = obj_fun_lgbm,                     # objective function\n",
    "    space = lgbm_reg_params,               # parameter space\n",
    "    algo = tpe.suggest,                    # surrogate algorithm\n",
    "    max_evals = 100,                       # no. of evaluations\n",
    "    trials = trials_lgbm,                  # trials object that keeps track of the sample results (optional)\n",
    "    rstate=np.random.default_rng(seed)\n",
    ")"
   ]
  },
  {
   "cell_type": "code",
   "execution_count": 39,
   "id": "2325fa1d-c740-4d4a-afb8-ec35ee154e08",
   "metadata": {},
   "outputs": [
    {
     "data": {
      "text/plain": [
       "{'learning_rate': 0.11896361988417897,\n",
       " 'max_bin': 2,\n",
       " 'max_depth': 10,\n",
       " 'min_data_in_leaf': 5,\n",
       " 'n_estimators': 1317,\n",
       " 'num_leaves': 18,\n",
       " 'reg_alpha': 0.21374679841071625,\n",
       " 'reg_lambda': 0.7184760864059272}"
      ]
     },
     "execution_count": 39,
     "metadata": {},
     "output_type": "execute_result"
    }
   ],
   "source": [
    "hyperopt_params_lgbm"
   ]
  },
  {
   "cell_type": "code",
   "execution_count": 40,
   "id": "df8b742d-f702-404f-90d2-89a94dcdab43",
   "metadata": {},
   "outputs": [
    {
     "data": {
      "image/png": "[encoded data removed]",
      "text/plain": [
       "<Figure size 640x480 with 1 Axes>"
      ]
     },
     "metadata": {},
     "output_type": "display_data"
    },
    {
     "name": "stdout",
     "output_type": "stream",
     "text": [
      "\n"
     ]
    },
    {
     "data": {
      "image/png": "[encoded data removed]",
      "text/plain": [
       "<Figure size 640x480 with 1 Axes>"
      ]
     },
     "metadata": {},
     "output_type": "display_data"
    },
    {
     "name": "stdout",
     "output_type": "stream",
     "text": [
      "\n"
     ]
    },
    {
     "data": {
      "image/png": "[encoded data removed]",
      "text/plain": [
       "<Figure size 640x480 with 1 Axes>"
      ]
     },
     "metadata": {},
     "output_type": "display_data"
    },
    {
     "name": "stdout",
     "output_type": "stream",
     "text": [
      "\n"
     ]
    },
    {
     "data": {
      "image/png": "[encoded data removed]",
      "text/plain": [
       "<Figure size 640x480 with 1 Axes>"
      ]
     },
     "metadata": {},
     "output_type": "display_data"
    },
    {
     "name": "stdout",
     "output_type": "stream",
     "text": [
      "\n"
     ]
    },
    {
     "data": {
      "image/png": "[encoded data removed]",
      "text/plain": [
       "<Figure size 640x480 with 1 Axes>"
      ]
     },
     "metadata": {},
     "output_type": "display_data"
    },
    {
     "name": "stdout",
     "output_type": "stream",
     "text": [
      "\n"
     ]
    },
    {
     "data": {
      "image/png": "[encoded data removed]",
      "text/plain": [
       "<Figure size 640x480 with 1 Axes>"
      ]
     },
     "metadata": {},
     "output_type": "display_data"
    },
    {
     "name": "stdout",
     "output_type": "stream",
     "text": [
      "\n"
     ]
    },
    {
     "data": {
      "image/png": "[encoded data removed]",
      "text/plain": [
       "<Figure size 640x480 with 1 Axes>"
      ]
     },
     "metadata": {},
     "output_type": "display_data"
    },
    {
     "name": "stdout",
     "output_type": "stream",
     "text": [
      "\n"
     ]
    },
    {
     "data": {
      "image/png": "[encoded data removed]",
      "text/plain": [
       "<Figure size 640x480 with 1 Axes>"
      ]
     },
     "metadata": {},
     "output_type": "display_data"
    },
    {
     "name": "stdout",
     "output_type": "stream",
     "text": [
      "\n"
     ]
    }
   ],
   "source": [
    "extract_and_plot_hyperopt_trials(trials_lgbm)"
   ]
  },
  {
   "cell_type": "code",
   "execution_count": 42,
   "id": "92a84df2-99d3-4697-a272-09bd1c1bb8b2",
   "metadata": {},
   "outputs": [
    {
     "name": "stdout",
     "output_type": "stream",
     "text": [
      "[LightGBM] [Warning] min_data_in_leaf is set=5, min_child_samples=20 will be ignored. Current value: min_data_in_leaf=5\n"
     ]
    },
    {
     "name": "stderr",
     "output_type": "stream",
     "text": [
      "C:\\Users\\Winter\\anaconda3\\envs\\credit-admission-prediction\\lib\\site-packages\\lightgbm\\basic.py:2065: UserWarning: Using categorical_feature in Dataset.\n"
     ]
    },
    {
     "name": "stdout",
     "output_type": "stream",
     "text": [
      "train cv score: 0.95\n"
     ]
    }
   ],
   "source": [
    "lgbm_final = lgb.LGBMClassifier(objective=\"binary\", class_weight='balanced', **hyperopt_params_lgbm)\n",
    "lgbm_final.fit(X_train_data, y_train_data, categorical_feature = ['name_income_type', 'name_education_type', 'name_housing_type', 'occupation_type'])\n",
    "train_cv_score_lgbm = cross_val_score(lgbm_final, X_train_data, y_train_data, scoring=\"average_precision\", cv = 5, n_jobs=-1).mean()\n",
    "print(\"train cv score: \" + str(round(train_cv_score_lgbm, 2)))"
   ]
  },
  {
   "cell_type": "code",
   "execution_count": 43,
   "id": "5cb4e6cd-8e4e-4cb1-b146-c938821e475f",
   "metadata": {},
   "outputs": [
    {
     "name": "stdout",
     "output_type": "stream",
     "text": [
      "average_precision test: 0.04\n",
      "f1 test: 0.1\n",
      "precision test: 0.06\n",
      "recall test: 0.47\n"
     ]
    }
   ],
   "source": [
    "test_predictions_lgbm = lgbm_final.predict(X_test_data)\n",
    "summarise_metrices(y_test = y_test, y_hat = test_predictions_lgbm)"
   ]
  },
  {
   "cell_type": "code",
   "execution_count": 44,
   "id": "e08320ab-c95a-4a91-b44a-4694de9f680e",
   "metadata": {},
   "outputs": [
    {
     "data": {
      "text/plain": [
       "<AxesSubplot:>"
      ]
     },
     "execution_count": 44,
     "metadata": {},
     "output_type": "execute_result"
    },
    {
     "data": {
      "image/png": "[encoded data removed]",
      "text/plain": [
       "<Figure size 432x288 with 2 Axes>"
      ]
     },
     "metadata": {
      "needs_background": "light"
     },
     "output_type": "display_data"
    }
   ],
   "source": [
    "format_confusion_matrix(y_test, test_predictions_lgbm)"
   ]
  },
  {
   "cell_type": "code",
   "execution_count": 45,
   "id": "66304be1-6a84-4057-ba6d-722e009a46e5",
   "metadata": {},
   "outputs": [],
   "source": [
    "test_predictions_lgbm_proba = lgbm_final.predict_proba(X_test_data)"
   ]
  },
  {
   "cell_type": "code",
   "execution_count": 46,
   "id": "06ffce79-d1cd-4294-b591-803830af349a",
   "metadata": {},
   "outputs": [
    {
     "data": {
      "text/plain": [
       "<sklearn.metrics._plot.precision_recall_curve.PrecisionRecallDisplay at 0x1e0886831f0>"
      ]
     },
     "execution_count": 46,
     "metadata": {},
     "output_type": "execute_result"
    },
    {
     "data": {
      "image/png": "[encoded data removed]",
      "text/plain": [
       "<Figure size 432x288 with 1 Axes>"
      ]
     },
     "metadata": {
      "needs_background": "light"
     },
     "output_type": "display_data"
    }
   ],
   "source": [
    "PrecisionRecallDisplay.from_estimator(lgbm_final, X_test_data, y_test)"
   ]
  },
  {
   "cell_type": "code",
   "execution_count": 47,
   "id": "7cdaf4b0-af0a-4ce3-9d77-baa41c75af18",
   "metadata": {},
   "outputs": [
    {
     "data": {
      "text/plain": [
       "<sklearn.metrics._plot.roc_curve.RocCurveDisplay at 0x1e088534070>"
      ]
     },
     "execution_count": 47,
     "metadata": {},
     "output_type": "execute_result"
    },
    {
     "data": {
      "image/png": "[encoded data removed]",
      "text/plain": [
       "<Figure size 432x288 with 1 Axes>"
      ]
     },
     "metadata": {
      "needs_background": "light"
     },
     "output_type": "display_data"
    }
   ],
   "source": [
    "RocCurveDisplay.from_estimator(lgbm_final, X_test_data, y_test)"
   ]
  },
  {
   "cell_type": "markdown",
   "id": "5f97cc6d-6b9d-4f9a-9476-aa24bdb7cba5",
   "metadata": {
    "toc-hr-collapsed": true
   },
   "source": [
    "### Feature importance"
   ]
  },
  {
   "cell_type": "code",
   "execution_count": 48,
   "id": "4aac7fa9-571c-466a-b814-0d0b09f07053",
   "metadata": {},
   "outputs": [
    {
     "data": {
      "text/plain": [
       "<AxesSubplot:title={'center':'Feature importance'}, xlabel='Feature importance', ylabel='Features'>"
      ]
     },
     "execution_count": 48,
     "metadata": {},
     "output_type": "execute_result"
    },
    {
     "data": {
      "image/png": "[encoded data removed]",
      "text/plain": [
       "<Figure size 432x288 with 1 Axes>"
      ]
     },
     "metadata": {
      "needs_background": "light"
     },
     "output_type": "display_data"
    }
   ],
   "source": [
    "lgb.plot_importance(lgbm_final)"
   ]
  },
  {
   "cell_type": "markdown",
   "id": "064e1bd1-4e26-48b3-8ffb-c8bcfcc7ec66",
   "metadata": {},
   "source": [
    "## Hyperparameter tuning for Random Forest"
   ]
  },
  {
   "cell_type": "code",
   "execution_count": 49,
   "id": "320544c8-91ae-4472-91e1-bc3f8a595dcd",
   "metadata": {},
   "outputs": [
    {
     "name": "stdout",
     "output_type": "stream",
     "text": [
      "100%|██████████████████████████████████████████████████████████████████████████████| 100/100 [26:05<00:00, 15.66s/trial, best loss: -0.7377668550917711]\n"
     ]
    }
   ],
   "source": [
    "criterion_choices = [\"gini\", \"entropy\"]\n",
    "max_features_choices = ['sqrt', 'log2', None]\n",
    "\n",
    "rf_reg_params = {\n",
    "    'n_estimators':     hp.choice('n_estimators', np.arange(5, 3000, 1, dtype=int)),\n",
    "    'max_depth':        hp.choice('max_depth', np.arange(2, 15, 1, dtype=int)),\n",
    "    'min_samples_leaf': hp.uniform('min_samples_leaf',0.01, 0.3), \n",
    "    'criterion':        hp.choice(\"criterion\", criterion_choices),\n",
    "    'max_features':     hp.choice('max_features', max_features_choices)        \n",
    "}\n",
    "\n",
    "def obj_fun_rf(params):\n",
    "    rf = RandomForestClassifier(class_weight='balanced', **params)\n",
    "    rf.fit(X_train_data, y_train_data)\n",
    "    train_cv_score = cross_val_score(rf, X_train_data, y_train_data, scoring=\"average_precision\", cv = 5).mean()\n",
    "    return -1.0 * train_cv_score\n",
    "\n",
    "X_train_data = X_train_balanced_one_hot\n",
    "y_train_data = y_train_balanced_one_hot\n",
    "X_test_data = X_test_one_hot\n",
    "y_test_data = y_test\n",
    "        \n",
    "trials_rf = Trials()\n",
    "hyperopt_params_rf = fmin(\n",
    "    fn = obj_fun_rf,                 # objective function\n",
    "    space = rf_reg_params,           # parameter space\n",
    "    algo = tpe.suggest,              # surrogate algorithm\n",
    "    max_evals = 100,                 # no. of evaluations\n",
    "    trials = trials_rf,              # trials object that keeps track of the sample results (optional)\n",
    "    rstate = np.random.default_rng(seed)\n",
    ")"
   ]
  },
  {
   "cell_type": "code",
   "execution_count": 50,
   "id": "8c61269b-1713-4941-87c6-6e161ff52be0",
   "metadata": {},
   "outputs": [
    {
     "data": {
      "text/plain": [
       "{'criterion': 0,\n",
       " 'max_depth': 6,\n",
       " 'max_features': 2,\n",
       " 'min_samples_leaf': 0.011428378642866208,\n",
       " 'n_estimators': 2233}"
      ]
     },
     "execution_count": 50,
     "metadata": {},
     "output_type": "execute_result"
    }
   ],
   "source": [
    "hyperopt_params_rf"
   ]
  },
  {
   "cell_type": "code",
   "execution_count": 51,
   "id": "5b63b8c2-89e4-45ef-93d2-c99f2d88c215",
   "metadata": {},
   "outputs": [],
   "source": [
    "hyperopt_params_rf = {'criterion': criterion_choices[hyperopt_params_rf['criterion']],\n",
    "                       'max_depth': hyperopt_params_rf['max_depth'],\n",
    "                       'max_features': max_features_choices[hyperopt_params_rf['max_features']],\n",
    "                       'n_estimators': hyperopt_params_rf['n_estimators']}"
   ]
  },
  {
   "cell_type": "code",
   "execution_count": 52,
   "id": "67d4ad24-c8cd-41a6-b988-9badbb0531f1",
   "metadata": {},
   "outputs": [
    {
     "data": {
      "text/plain": [
       "{'criterion': 'gini',\n",
       " 'max_depth': 6,\n",
       " 'max_features': None,\n",
       " 'n_estimators': 2233}"
      ]
     },
     "execution_count": 52,
     "metadata": {},
     "output_type": "execute_result"
    }
   ],
   "source": [
    "hyperopt_params_rf"
   ]
  },
  {
   "cell_type": "code",
   "execution_count": 53,
   "id": "e7e59b60-872e-4ea4-8550-1a85e035afb5",
   "metadata": {},
   "outputs": [
    {
     "data": {
      "image/png": "[encoded data removed]",
      "text/plain": [
       "<Figure size 640x480 with 1 Axes>"
      ]
     },
     "metadata": {},
     "output_type": "display_data"
    },
    {
     "name": "stdout",
     "output_type": "stream",
     "text": [
      "\n"
     ]
    },
    {
     "data": {
      "image/png": "[encoded data removed]",
      "text/plain": [
       "<Figure size 640x480 with 1 Axes>"
      ]
     },
     "metadata": {},
     "output_type": "display_data"
    },
    {
     "name": "stdout",
     "output_type": "stream",
     "text": [
      "\n"
     ]
    },
    {
     "data": {
      "image/png": "[encoded data removed]",
      "text/plain": [
       "<Figure size 640x480 with 1 Axes>"
      ]
     },
     "metadata": {},
     "output_type": "display_data"
    },
    {
     "name": "stdout",
     "output_type": "stream",
     "text": [
      "\n"
     ]
    },
    {
     "data": {
      "image/png": "[encoded data removed]",
      "text/plain": [
       "<Figure size 640x480 with 1 Axes>"
      ]
     },
     "metadata": {},
     "output_type": "display_data"
    },
    {
     "name": "stdout",
     "output_type": "stream",
     "text": [
      "\n"
     ]
    },
    {
     "data": {
      "image/png": "[encoded data removed]",
      "text/plain": [
       "<Figure size 640x480 with 1 Axes>"
      ]
     },
     "metadata": {},
     "output_type": "display_data"
    },
    {
     "name": "stdout",
     "output_type": "stream",
     "text": [
      "\n"
     ]
    }
   ],
   "source": [
    "extract_and_plot_hyperopt_trials(trials_rf)"
   ]
  },
  {
   "cell_type": "code",
   "execution_count": 55,
   "id": "b88311b2-eab4-4562-97c6-e6afb8fb88e5",
   "metadata": {},
   "outputs": [
    {
     "name": "stdout",
     "output_type": "stream",
     "text": [
      "train cv score: 0.81\n"
     ]
    }
   ],
   "source": [
    "rf_final = RandomForestClassifier(class_weight='balanced', **hyperopt_params_rf)\n",
    "rf_final = rf_final.fit(X_train_data, y_train_data)\n",
    "train_cv_score_rf = cross_val_score(rf_final, X_train_data, y_train_data, scoring=\"average_precision\", cv = 5, n_jobs=-1).mean()\n",
    "print(\"train cv score: \" + str(round(train_cv_score_rf, 2)))"
   ]
  },
  {
   "cell_type": "code",
   "execution_count": 56,
   "id": "fce92132-67db-4736-be61-69a21119dab2",
   "metadata": {},
   "outputs": [
    {
     "name": "stdout",
     "output_type": "stream",
     "text": [
      "average_precision test: 0.02\n",
      "f1 test: 0.05\n",
      "precision test: 0.03\n",
      "recall test: 0.44\n"
     ]
    }
   ],
   "source": [
    "test_predictions_rf = rf_final.predict(X_test_data)\n",
    "summarise_metrices(y_test = y_test, y_hat = test_predictions_rf)"
   ]
  },
  {
   "cell_type": "code",
   "execution_count": 57,
   "id": "7b06df90-88f7-4ed4-bc9e-5d2876eba4fc",
   "metadata": {},
   "outputs": [
    {
     "data": {
      "text/plain": [
       "<AxesSubplot:>"
      ]
     },
     "execution_count": 57,
     "metadata": {},
     "output_type": "execute_result"
    },
    {
     "data": {
      "image/png": "[encoded data removed]",
      "text/plain": [
       "<Figure size 432x288 with 2 Axes>"
      ]
     },
     "metadata": {
      "needs_background": "light"
     },
     "output_type": "display_data"
    }
   ],
   "source": [
    "format_confusion_matrix(y_test, test_predictions_rf)"
   ]
  },
  {
   "cell_type": "code",
   "execution_count": 58,
   "id": "c67d6411-b5b0-4c08-97b8-8b93fa511690",
   "metadata": {},
   "outputs": [],
   "source": [
    "test_predictions_rf_proba = rf_final.predict_proba(X_test_data)"
   ]
  },
  {
   "cell_type": "code",
   "execution_count": 59,
   "id": "ca3c4e5c-b67e-4a3f-9b8b-773362e46bc6",
   "metadata": {},
   "outputs": [
    {
     "data": {
      "text/plain": [
       "<sklearn.metrics._plot.precision_recall_curve.PrecisionRecallDisplay at 0x1e089e5e9a0>"
      ]
     },
     "execution_count": 59,
     "metadata": {},
     "output_type": "execute_result"
    },
    {
     "data": {
      "image/png": "[encoded data removed]",
      "text/plain": [
       "<Figure size 432x288 with 1 Axes>"
      ]
     },
     "metadata": {
      "needs_background": "light"
     },
     "output_type": "display_data"
    }
   ],
   "source": [
    "PrecisionRecallDisplay.from_estimator(rf_final, X_test_data, y_test)"
   ]
  },
  {
   "cell_type": "code",
   "execution_count": 60,
   "id": "a86fc9e6-fb9b-486b-93c1-3a86f1704ea2",
   "metadata": {},
   "outputs": [
    {
     "data": {
      "text/plain": [
       "<sklearn.metrics._plot.roc_curve.RocCurveDisplay at 0x1e0884e64f0>"
      ]
     },
     "execution_count": 60,
     "metadata": {},
     "output_type": "execute_result"
    },
    {
     "data": {
      "image/png": "[encoded data removed]",
      "text/plain": [
       "<Figure size 432x288 with 1 Axes>"
      ]
     },
     "metadata": {
      "needs_background": "light"
     },
     "output_type": "display_data"
    }
   ],
   "source": [
    "RocCurveDisplay.from_estimator(rf_final, X_test_data, y_test)"
   ]
  },
  {
   "cell_type": "markdown",
   "id": "a78cd89b-67b0-4e90-9f67-aeac929b3076",
   "metadata": {},
   "source": [
    "### Feature importance"
   ]
  },
  {
   "cell_type": "code",
   "execution_count": 61,
   "id": "efa1e6f0-ec57-482d-a4ba-16ba81fb6e20",
   "metadata": {},
   "outputs": [
    {
     "data": {
      "image/png": "[encoded data removed]",
      "text/plain": [
       "<Figure size 640x480 with 1 Axes>"
      ]
     },
     "metadata": {},
     "output_type": "display_data"
    },
    {
     "name": "stdout",
     "output_type": "stream",
     "text": [
      "\n"
     ]
    }
   ],
   "source": [
    "get_rf_feature_imp(rf_final)"
   ]
  },
  {
   "cell_type": "markdown",
   "id": "0e91d11d-b2cf-4d58-a510-c996eb32a734",
   "metadata": {},
   "source": [
    "# Final classification on test set"
   ]
  },
  {
   "cell_type": "code",
   "execution_count": 62,
   "id": "db00b97d-827f-4cd3-8dc7-f1ee9a29ae6b",
   "metadata": {},
   "outputs": [],
   "source": [
    "final_model = lgbm_final\n",
    "test_predictions_final = test_predictions_lgbm\n",
    "test_predictions_proba_final = test_predictions_lgbm_proba"
   ]
  },
  {
   "cell_type": "code",
   "execution_count": 63,
   "id": "39551c86-1bb3-45e6-b7aa-25706368aa87",
   "metadata": {},
   "outputs": [
    {
     "name": "stdout",
     "output_type": "stream",
     "text": [
      "              precision    recall  f1-score   support\n",
      "\n",
      "           0       0.99      0.88      0.93      3938\n",
      "           1       0.06      0.47      0.10        62\n",
      "\n",
      "    accuracy                           0.87      4000\n",
      "   macro avg       0.52      0.67      0.52      4000\n",
      "weighted avg       0.98      0.87      0.92      4000\n",
      "\n"
     ]
    }
   ],
   "source": [
    "from sklearn.metrics import classification_report\n",
    "print(classification_report(y_test, test_predictions_final))"
   ]
  },
  {
   "cell_type": "code",
   "execution_count": 64,
   "id": "b22475bf-e7fa-456f-bf63-cc8cb30e7de9",
   "metadata": {},
   "outputs": [],
   "source": [
    "tbl_results_roc = pd.DataFrame()\n",
    "tbl_results_roc['fpr'], tbl_results_roc['tpr'], tbl_results_roc['thresholds'] = roc_curve(y_test, test_predictions_proba_final[:,1])"
   ]
  },
  {
   "cell_type": "code",
   "execution_count": 65,
   "id": "9336941b-c571-4f13-9a55-7586a54d85f8",
   "metadata": {},
   "outputs": [],
   "source": [
    "tbl_results_pr = pd.DataFrame()\n",
    "\n",
    "precision, recall, thresholds = precision_recall_curve(y_test[:], test_predictions_proba_final[:,1])\n",
    "thresholds = np.append(thresholds, 1)\n",
    "\n",
    "tbl_results_pr['precision'] = precision\n",
    "tbl_results_pr['recall'] = recall\n",
    "tbl_results_pr['thresholds'] = thresholds\n",
    "tbl_results_pr['fscore'] = compute_f1(tbl_results_pr.precision, tbl_results_pr.recall)"
   ]
  },
  {
   "cell_type": "markdown",
   "id": "ab656437-08ff-4e3e-9b90-fdacb8b042ee",
   "metadata": {},
   "source": [
    "## Results for default threshold = 0.5"
   ]
  },
  {
   "cell_type": "code",
   "execution_count": 66,
   "id": "55505afe-21b9-45e8-92e0-f9725174dea3",
   "metadata": {},
   "outputs": [
    {
     "name": "stdout",
     "output_type": "stream",
     "text": [
      "Default threshold 0.5\n"
     ]
    },
    {
     "data": {
      "text/html": [
       "<div>\n",
       "<style scoped>\n",
       "    .dataframe tbody tr th:only-of-type {\n",
       "        vertical-align: middle;\n",
       "    }\n",
       "\n",
       "    .dataframe tbody tr th {\n",
       "        vertical-align: top;\n",
       "    }\n",
       "\n",
       "    .dataframe thead th {\n",
       "        text-align: right;\n",
       "    }\n",
       "</style>\n",
       "<table border=\"1\" class=\"dataframe\">\n",
       "  <thead>\n",
       "    <tr style=\"text-align: right;\">\n",
       "      <th></th>\n",
       "      <th>precision</th>\n",
       "      <th>recall</th>\n",
       "      <th>thresholds</th>\n",
       "      <th>fscore</th>\n",
       "    </tr>\n",
       "  </thead>\n",
       "  <tbody>\n",
       "    <tr>\n",
       "      <th>1737</th>\n",
       "      <td>0.05754</td>\n",
       "      <td>0.467742</td>\n",
       "      <td>0.497551</td>\n",
       "      <td>0.102473</td>\n",
       "    </tr>\n",
       "  </tbody>\n",
       "</table>\n",
       "</div>"
      ],
      "text/plain": [
       "      precision    recall  thresholds    fscore\n",
       "1737    0.05754  0.467742    0.497551  0.102473"
      ]
     },
     "execution_count": 66,
     "metadata": {},
     "output_type": "execute_result"
    }
   ],
   "source": [
    "print('Default threshold 0.5')\n",
    "get_summary(tbl_results_pr, 0.5)"
   ]
  },
  {
   "cell_type": "code",
   "execution_count": 67,
   "id": "5ff3659d-5fdd-4102-9a60-bcc10a40ae4b",
   "metadata": {},
   "outputs": [
    {
     "data": {
      "text/html": [
       "<div>\n",
       "<style scoped>\n",
       "    .dataframe tbody tr th:only-of-type {\n",
       "        vertical-align: middle;\n",
       "    }\n",
       "\n",
       "    .dataframe tbody tr th {\n",
       "        vertical-align: top;\n",
       "    }\n",
       "\n",
       "    .dataframe thead th {\n",
       "        text-align: right;\n",
       "    }\n",
       "</style>\n",
       "<table border=\"1\" class=\"dataframe\">\n",
       "  <thead>\n",
       "    <tr style=\"text-align: right;\">\n",
       "      <th></th>\n",
       "      <th>fpr</th>\n",
       "      <th>tpr</th>\n",
       "      <th>thresholds</th>\n",
       "    </tr>\n",
       "  </thead>\n",
       "  <tbody>\n",
       "    <tr>\n",
       "      <th>156</th>\n",
       "      <td>0.120366</td>\n",
       "      <td>0.467742</td>\n",
       "      <td>0.502619</td>\n",
       "    </tr>\n",
       "  </tbody>\n",
       "</table>\n",
       "</div>"
      ],
      "text/plain": [
       "          fpr       tpr  thresholds\n",
       "156  0.120366  0.467742    0.502619"
      ]
     },
     "execution_count": 67,
     "metadata": {},
     "output_type": "execute_result"
    }
   ],
   "source": [
    "get_summary(tbl_results_roc, 0.5)"
   ]
  },
  {
   "cell_type": "code",
   "execution_count": 68,
   "id": "9214ae38-3252-40fd-94dd-2b5424b0e0f8",
   "metadata": {},
   "outputs": [
    {
     "data": {
      "text/plain": [
       "<AxesSubplot:>"
      ]
     },
     "execution_count": 68,
     "metadata": {},
     "output_type": "execute_result"
    },
    {
     "data": {
      "image/png": "[encoded data removed]",
      "text/plain": [
       "<Figure size 432x288 with 2 Axes>"
      ]
     },
     "metadata": {
      "needs_background": "light"
     },
     "output_type": "display_data"
    }
   ],
   "source": [
    "format_confusion_matrix(y_test, test_predictions_final)"
   ]
  },
  {
   "cell_type": "markdown",
   "id": "bddd3073-67fc-4787-82e4-97bbae7840cc",
   "metadata": {},
   "source": [
    "## Results for best threshold"
   ]
  },
  {
   "cell_type": "code",
   "execution_count": 69,
   "id": "8cdd67a1-bbae-49bc-82ef-9e6be34a8a46",
   "metadata": {},
   "outputs": [],
   "source": [
    "# locate the index of the largest f score\n",
    "ix = np.argmax(tbl_results_pr.fscore)\n",
    "best_threshold = tbl_results_pr.thresholds[ix]"
   ]
  },
  {
   "cell_type": "code",
   "execution_count": 70,
   "id": "12ae3c26-9866-4032-8939-5ac54942dd9c",
   "metadata": {},
   "outputs": [
    {
     "name": "stdout",
     "output_type": "stream",
     "text": [
      "Best Threshold: 0.8503393699532625\n"
     ]
    },
    {
     "data": {
      "text/html": [
       "<div>\n",
       "<style scoped>\n",
       "    .dataframe tbody tr th:only-of-type {\n",
       "        vertical-align: middle;\n",
       "    }\n",
       "\n",
       "    .dataframe tbody tr th {\n",
       "        vertical-align: top;\n",
       "    }\n",
       "\n",
       "    .dataframe thead th {\n",
       "        text-align: right;\n",
       "    }\n",
       "</style>\n",
       "<table border=\"1\" class=\"dataframe\">\n",
       "  <thead>\n",
       "    <tr style=\"text-align: right;\">\n",
       "      <th></th>\n",
       "      <th>precision</th>\n",
       "      <th>recall</th>\n",
       "      <th>thresholds</th>\n",
       "      <th>fscore</th>\n",
       "    </tr>\n",
       "  </thead>\n",
       "  <tbody>\n",
       "    <tr>\n",
       "      <th>1886</th>\n",
       "      <td>0.129496</td>\n",
       "      <td>0.290323</td>\n",
       "      <td>0.850339</td>\n",
       "      <td>0.179104</td>\n",
       "    </tr>\n",
       "  </tbody>\n",
       "</table>\n",
       "</div>"
      ],
      "text/plain": [
       "      precision    recall  thresholds    fscore\n",
       "1886   0.129496  0.290323    0.850339  0.179104"
      ]
     },
     "execution_count": 70,
     "metadata": {},
     "output_type": "execute_result"
    }
   ],
   "source": [
    "print('Best Threshold: ' + str(best_threshold))\n",
    "get_summary(tbl_results_pr, best_threshold)"
   ]
  },
  {
   "cell_type": "code",
   "execution_count": 71,
   "id": "d0b6e53b-f97d-4bf0-b88a-9ca2109ef3e0",
   "metadata": {},
   "outputs": [
    {
     "data": {
      "text/html": [
       "<div>\n",
       "<style scoped>\n",
       "    .dataframe tbody tr th:only-of-type {\n",
       "        vertical-align: middle;\n",
       "    }\n",
       "\n",
       "    .dataframe tbody tr th {\n",
       "        vertical-align: top;\n",
       "    }\n",
       "\n",
       "    .dataframe thead th {\n",
       "        text-align: right;\n",
       "    }\n",
       "</style>\n",
       "<table border=\"1\" class=\"dataframe\">\n",
       "  <thead>\n",
       "    <tr style=\"text-align: right;\">\n",
       "      <th></th>\n",
       "      <th>fpr</th>\n",
       "      <th>tpr</th>\n",
       "      <th>thresholds</th>\n",
       "    </tr>\n",
       "  </thead>\n",
       "  <tbody>\n",
       "    <tr>\n",
       "      <th>61</th>\n",
       "      <td>0.030726</td>\n",
       "      <td>0.290323</td>\n",
       "      <td>0.850339</td>\n",
       "    </tr>\n",
       "  </tbody>\n",
       "</table>\n",
       "</div>"
      ],
      "text/plain": [
       "         fpr       tpr  thresholds\n",
       "61  0.030726  0.290323    0.850339"
      ]
     },
     "execution_count": 71,
     "metadata": {},
     "output_type": "execute_result"
    }
   ],
   "source": [
    "get_summary(tbl_results_roc, best_threshold)"
   ]
  },
  {
   "cell_type": "code",
   "execution_count": 72,
   "id": "7dc7cc9c-063e-4eb7-8623-1865146a0b5b",
   "metadata": {},
   "outputs": [
    {
     "data": {
      "text/plain": [
       "<AxesSubplot:>"
      ]
     },
     "execution_count": 72,
     "metadata": {},
     "output_type": "execute_result"
    },
    {
     "data": {
      "image/png": "[encoded data removed]",
      "text/plain": [
       "<Figure size 432x288 with 2 Axes>"
      ]
     },
     "metadata": {
      "needs_background": "light"
     },
     "output_type": "display_data"
    }
   ],
   "source": [
    "test_predictions_threshold_final = reclassify_by_treshold(test_predictions_proba_final, best_threshold)\n",
    "format_confusion_matrix(y_test, test_predictions_threshold_final)"
   ]
  },
  {
   "cell_type": "code",
   "execution_count": null,
   "id": "811b4df4-e077-4912-9eba-abe499d95326",
   "metadata": {},
   "outputs": [],
   "source": []
  }
 ],
 "metadata": {
  "kernelspec": {
   "display_name": "credit-admission-prediction",
   "language": "python",
   "name": "credit-admission-prediction"
  },
  "language_info": {
   "codemirror_mode": {
    "name": "ipython",
    "version": 3
   },
   "file_extension": ".py",
   "mimetype": "text/x-python",
   "name": "python",
   "nbconvert_exporter": "python",
   "pygments_lexer": "ipython3",
   "version": "3.9.12"
  }
 },
 "nbformat": 4,
 "nbformat_minor": 5
}
